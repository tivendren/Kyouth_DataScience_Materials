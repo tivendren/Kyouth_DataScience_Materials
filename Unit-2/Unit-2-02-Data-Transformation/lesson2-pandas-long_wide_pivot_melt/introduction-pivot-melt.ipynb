{
 "cells": [
  {
   "cell_type": "markdown",
   "id": "80c219e7",
   "metadata": {},
   "source": [
    "<img src=\"http://imgur.com/1ZcRyrc.png\" style=\"float: left; margin: 20px; height: 55px\">\n",
    "\n",
    "## Pivot and Melt Introduction\n",
    "\n",
    "___\n",
    "<br>\n",
    "\n",
    "This lesson is all about **transforming data** using `pandas`. Data transformation is the reorganization of your data set's rows and columns into a different, potentially **more useful shape and format**. \n",
    "\n",
    "The benefits of transforming your data include **better access to relevant information** and **streamlined data manipulation**. As you become more familiar with data sets and their associated operations, you will develop an intuition and appreciation for when it's better to **work row-wise or column-wise**.\n",
    "\n",
    "Different data formats are better for different tasks. It takes time and experience to learn the distinctions. But, for now, we'll introduce the **common structures, transformations, and how to apply these transformations**.\n",
    "\n",
    "### Learning Objectives\n",
    "- Understand the differences between **long and wide format data**.\n",
    "- Understand **pivot tables**.\n",
    "- Practice transforming data between **long and wide** formats.\n",
    "- Practice creating pivot tables.\n",
    "- Learn how to avoid **common pitfalls and obstacles** in data transformation with `pandas`."
   ]
  },
  {
   "cell_type": "markdown",
   "id": "a3a8d36d",
   "metadata": {},
   "source": [
    "### Lesson Guide\n",
    "\n",
    "- [Wide Format Data](#wide_format)\n",
    "- [Melting Wide Format to Long Format](#melt_data)\n",
    "- [Pivot Long Format to Wide Format](#pivot_data)\n",
    "- [MultiIndex/Hierarchical Indices in `pandas`](#multiindex)\n",
    "- [Summarizing Data With `.pivot_table()` and Aggregate  Functions](#pivot_table_summarizing)\n",
    "- [Getting Rid of the MultiIndex: \"Flattening\" Data](#multiindex_to_flat)\n"
   ]
  },
  {
   "cell_type": "code",
   "execution_count": null,
   "id": "731c5684",
   "metadata": {},
   "outputs": [],
   "source": [
    "import numpy as np\n",
    "import scipy.stats as stats\n",
    "import seaborn as sns\n",
    "import matplotlib.pyplot as plt\n",
    "import pandas as pd\n",
    "pd.set_option('display.max_columns', None)\n",
    "\n",
    "sns.set_style('darkgrid')\n",
    "\n",
    "%config InlineBackend.figure_format = 'retina'\n",
    "%matplotlib inline\n"
   ]
  },
  {
   "cell_type": "markdown",
   "id": "eec7665a",
   "metadata": {},
   "source": [
    "<a id='wide_format'></a>\n",
    "\n",
    "### Wide Format Data\n",
    "\n",
    "---\n",
    "\n",
    "Between \"wide\" and \"long,\" **wide format data is the more intuitive**. It's also a common format for `.csv` files. You've already viewed multiple data sets in wide format throughout this course.\n",
    "\n",
    "Wide format data is structured so that:\n",
    "\n",
    "- Unique IDs, subjects, observations, etc. are represented as **rows**.\n",
    "- Distinct information categories (**variables**) are represented as columns. In other words, there is a **column for every \"variable\"** with its own unique values.\n",
    "- This format can often be a more compact matrix, particularly if little or no information is missing.\n",
    "- It is **not as useful for SQL-style operations**: It can make it much harder or even impossible to **join tables together on a value**.\n",
    "- It can be useful in `pandas` when you need to perform operations on variables **across columns**; for example, multiplying columns together to create a new column.\n",
    "- It is the data format required for statistical modeling (with few exceptions).\n",
    "\n",
    "Here is a simple example of wide data, where each row represents one student's scores in different subjects."
   ]
  },
  {
   "cell_type": "code",
   "execution_count": null,
   "id": "a123cf0c",
   "metadata": {},
   "outputs": [],
   "source": [
    "df_wide = pd.read_csv('datasets/students_wide.csv')\n",
    "df_wide"
   ]
  },
  {
   "cell_type": "markdown",
   "id": "6823cc2c",
   "metadata": {},
   "source": [
    "How might you want to analyse the data in the DataFrame above? What would you need to do?"
   ]
  },
  {
   "cell_type": "markdown",
   "id": "35244026",
   "metadata": {},
   "source": [
    "<a id='melt_data'></a>\n",
    "\n",
    "### Melting Wide to Long\n",
    "\n",
    "The `pandas` `melt()` function can be used to transform a wide format dataframe into a long format, where a new column `variable` represents the column and the `value` is the value stored in that column for a particular unique ID."
   ]
  },
  {
   "cell_type": "code",
   "execution_count": null,
   "id": "5c6c8894",
   "metadata": {},
   "outputs": [],
   "source": [
    "# Melt the df_wide dataframe into long format by each student_ID\n",
    "df_long1 = pd.melt(df_wide, id_vars='Student ID')\n",
    "df_long1"
   ]
  },
  {
   "cell_type": "code",
   "execution_count": null,
   "id": "ed3f60fb",
   "metadata": {},
   "outputs": [],
   "source": [
    "# Change the column headers to represent the original meaning\n",
    "df_long1 = pd.melt(df_wide, id_vars='Student ID', var_name='Subject', value_name = 'Score')\n",
    "df_long1"
   ]
  },
  {
   "cell_type": "markdown",
   "id": "b15a6c61",
   "metadata": {},
   "source": [
    "### Using `melt` on DataFrame directly\n",
    "\n",
    "We can also call the `melt` method on the DataFrame, and specify the column names to use for the variable and value respectively:"
   ]
  },
  {
   "cell_type": "code",
   "execution_count": null,
   "id": "695af9d8",
   "metadata": {},
   "outputs": [],
   "source": [
    "# Using melt method on df_wide\n",
    "df_long2 = df_wide.melt(id_vars='Student ID', var_name='Subject', value_name = 'Score')\n",
    "df_long2"
   ]
  },
  {
   "cell_type": "markdown",
   "id": "09f548b8",
   "metadata": {},
   "source": [
    "## Specifying identifying rows\n",
    "\n",
    "We can specify which columns are to be the identifiers. Let's say we add another column to represent the student's name."
   ]
  },
  {
   "cell_type": "code",
   "execution_count": null,
   "id": "f91fd120",
   "metadata": {},
   "outputs": [],
   "source": [
    "df_wide['Major']=pd.Series(['Arts','Arts','Science','Science','Science'])\n",
    "df_wide"
   ]
  },
  {
   "cell_type": "markdown",
   "id": "a8c75f3e",
   "metadata": {},
   "source": [
    "Now we can include `Major` as an identifier variable along with the `Student ID`, for the variable `Subject` with value `Score`"
   ]
  },
  {
   "cell_type": "code",
   "execution_count": null,
   "id": "6bfd5e1e",
   "metadata": {},
   "outputs": [],
   "source": [
    "df_long3=df_wide.melt(id_vars=['Student ID','Major'], var_name='Subject', value_name='Score')\n",
    "df_long3"
   ]
  },
  {
   "cell_type": "markdown",
   "id": "d3f5b330",
   "metadata": {},
   "source": [
    "## Missing values\n",
    "\n",
    "In all the above we have many `NaN` values because the values were missing in the original wide format. In this case we can just drop the nulls, as they are not necessary in the long format. \n"
   ]
  },
  {
   "cell_type": "code",
   "execution_count": null,
   "id": "bffd5299",
   "metadata": {},
   "outputs": [],
   "source": [
    "df_long3.dropna(inplace=True)\n",
    "df_long3"
   ]
  },
  {
   "cell_type": "markdown",
   "id": "e70e2220",
   "metadata": {},
   "source": [
    "### Save the long format data\n",
    "\n",
    "Now that the data is in long format, we can save it.\n",
    "\n"
   ]
  },
  {
   "cell_type": "code",
   "execution_count": null,
   "id": "20f6e9a2",
   "metadata": {},
   "outputs": [],
   "source": [
    "df_long3.to_csv('datasets/df_long.csv')"
   ]
  },
  {
   "cell_type": "markdown",
   "id": "eed4fecd",
   "metadata": {},
   "source": [
    "<a id='pivot_data'></a>\n",
    "\n",
    "## Pivot to Transform from Long to Wide\n",
    "\n",
    "The `pivot` function is used to transform from long to wide format. \n",
    "Let's use the file that we have saved from above.\n"
   ]
  },
  {
   "cell_type": "code",
   "execution_count": null,
   "id": "2f44cd2e",
   "metadata": {},
   "outputs": [],
   "source": [
    "df_long = pd.read_csv('datasets/df_long.csv')"
   ]
  },
  {
   "cell_type": "code",
   "execution_count": null,
   "id": "6bb5b393",
   "metadata": {},
   "outputs": [],
   "source": [
    "df_wide1 = pd.pivot(df_long, index=['Student ID','Major'], columns='Subject', values='Score')\n",
    "df_wide1"
   ]
  },
  {
   "cell_type": "markdown",
   "id": "6a6ea66f",
   "metadata": {},
   "source": [
    "<a id='multiindex'></a>\n",
    "\n",
    "\n",
    "### MultiIndex \n",
    "In the header, you can see that the format of the new wide data **is *not* the same as our originally loaded wide format**. `pandas` implements something called **MultiIndexing** or **hierarchical indexing**, which allows for \"tiered\" row and column labels.\n",
    "\n",
    "The main difference is that we now have a `variable` name in the top left corner, which is **\"labeling\"** our columns (and corresponds to the name of our original column in the long format data). The row indexer has become our **single key/ID variable**, `Student ID` and `Major`. The columns are what we would expect here: **Each one is a variable**, like in the original wide format data.\n",
    "\n",
    "We can reset the index to the default row numbering starting from 0, which will set the `Student ID` and `Major` as  columns again."
   ]
  },
  {
   "cell_type": "code",
   "execution_count": null,
   "id": "3d921008",
   "metadata": {},
   "outputs": [],
   "source": [
    "df_wide1 = df_wide1.reset_index()\n",
    "df_wide1"
   ]
  },
  {
   "cell_type": "markdown",
   "id": "d285c770",
   "metadata": {},
   "source": [
    "The variable name `Subject` is now used to name the columns, as we can see if we list all the columns of the DataFrame."
   ]
  },
  {
   "cell_type": "code",
   "execution_count": null,
   "id": "bfc45c80",
   "metadata": {},
   "outputs": [],
   "source": [
    "df_wide1.columns"
   ]
  },
  {
   "cell_type": "markdown",
   "id": "985cf163",
   "metadata": {},
   "source": [
    "We can reset the name to `None` and this will put make the format what we are used to."
   ]
  },
  {
   "cell_type": "code",
   "execution_count": null,
   "id": "9bdba2ac",
   "metadata": {},
   "outputs": [],
   "source": [
    "df_wide1.columns.name=None\n",
    "df_wide1"
   ]
  },
  {
   "cell_type": "markdown",
   "id": "8b2d195b",
   "metadata": {},
   "source": [
    "### Using pivot() with the DataFrame\n",
    "\n",
    "We can also use the `pivot()` method with the DataFrame. Let's reset the index in the same step, and set the column name to `None` too. "
   ]
  },
  {
   "cell_type": "code",
   "execution_count": null,
   "id": "2cb11e7e",
   "metadata": {
    "scrolled": true
   },
   "outputs": [],
   "source": [
    "df_wide2 = df_long3.pivot(index=['Student ID','Major'], columns='Subject', values='Score').reset_index()\n",
    "df_wide2.columns.name=None"
   ]
  },
  {
   "cell_type": "code",
   "execution_count": null,
   "id": "97ad5a1c",
   "metadata": {},
   "outputs": [],
   "source": [
    "df_wide2"
   ]
  },
  {
   "cell_type": "markdown",
   "id": "4f0dbb3e",
   "metadata": {},
   "source": [
    "<a id='pivot_table_summarizing'></a>\n",
    "\n",
    "### Summarizing Your Data With  `.pivot_table()` and Aggregate Functions\n",
    "\n",
    "---\n",
    "We have used `pivot` to transform long format data to wide format. A related function `pivot_table()` can also perform the same transformation, but you can also summarize the values using an aggregate function such as finding the mean, count, sum, just like Excel pivot tables. \n",
    "\n",
    "Below, I am calling the `.pivot_table()` function with:\n",
    "\n",
    "- The long format data as the first argument.\n",
    "- `Subject` specified as the columns that indicate the variable names (groups).\n",
    "- `Score` specified as the column that contains the data per variable.\n",
    "- `Major` as the index; the rows will be grouped by `Major`.\n",
    "- `np.mean`, `np.median`, `np.std`, and `len` as aggregate functions. These will be calculated for each `Major-by-Sariable` group.\n",
    "- A `fill_value` of `np.nan` for cells in the output table that have no data."
   ]
  },
  {
   "cell_type": "code",
   "execution_count": null,
   "id": "c73cc38b",
   "metadata": {},
   "outputs": [],
   "source": [
    "df_wide_pv = pd.pivot_table(df_long3, columns=['Subject'], values='Score',\n",
    "                                     index=['Major'], aggfunc=[np.mean, np.median, np.std, len],\n",
    "                                     fill_value=np.nan)\n",
    "df_wide_pv"
   ]
  },
  {
   "cell_type": "markdown",
   "id": "3407793f",
   "metadata": {},
   "source": [
    "The output DataFrame gives you a \"hierarchical\" column index — the three variables for each aggregate function. The row index is the `major` groups.\n",
    "\n",
    "If you apply more index variables, the row indices will also become hierarchical! However, this can quickly make for a bloated DataFrame."
   ]
  },
  {
   "cell_type": "code",
   "execution_count": null,
   "id": "6cb1ca30",
   "metadata": {},
   "outputs": [],
   "source": [
    "df_wide_pv.columns"
   ]
  },
  {
   "cell_type": "markdown",
   "id": "1190ba35",
   "metadata": {},
   "source": [
    "<a id='multiindex_to_flat'></a>\n",
    "\n",
    "### Getting Rid of the MultiIndex: \"Flattening\" Data\n",
    "\n",
    "---\n",
    "\n",
    "The most reliable way to \"flatten\" a MultiIndexed DataFrame is with the `.to_records()` function. To make this a new DataFrame, it needs to be wrapped in a `pd.DataFrame()` like so:"
   ]
  },
  {
   "cell_type": "code",
   "execution_count": null,
   "id": "ff738c8b",
   "metadata": {},
   "outputs": [],
   "source": [
    "results_summary = pd.DataFrame(df_wide_pv.to_records())\n",
    "results_summary.head(2)"
   ]
  },
  {
   "cell_type": "markdown",
   "id": "f3687eb8",
   "metadata": {},
   "source": [
    "You can see that the new column names are tuples of the hierarchy of MultiIndexed columns. For example, you could convert these to new, more easily indexed columns with something like a list comprehension.\n",
    "\n",
    "We can use the `join()` and `.eval()` functions to combine the tuple as a single String, for example:\n"
   ]
  },
  {
   "cell_type": "code",
   "execution_count": null,
   "id": "4074074f",
   "metadata": {},
   "outputs": [],
   "source": [
    "'_'.join(eval(\"('mean','Biology')\"))"
   ]
  },
  {
   "cell_type": "markdown",
   "id": "213050fe",
   "metadata": {},
   "source": [
    "**Use a list comprehension and the `eval()` and `join()` functions to convert the flattened MultiIndexed columns to something more readable.**"
   ]
  },
  {
   "cell_type": "code",
   "execution_count": null,
   "id": "5136eda1",
   "metadata": {},
   "outputs": [],
   "source": [
    "results_summary.columns"
   ]
  },
  {
   "cell_type": "code",
   "execution_count": null,
   "id": "6f57008a",
   "metadata": {},
   "outputs": [],
   "source": [
    "results_summary.columns = ['_'.join(eval(c)) if c[0]=='(' else c for c in results_summary.columns]"
   ]
  },
  {
   "cell_type": "code",
   "execution_count": null,
   "id": "142dd663",
   "metadata": {},
   "outputs": [],
   "source": [
    "results_summary"
   ]
  }
 ],
 "metadata": {
  "kernelspec": {
   "display_name": "Python 3 (ipykernel)",
   "language": "python",
   "name": "python3"
  },
  "language_info": {
   "codemirror_mode": {
    "name": "ipython",
    "version": 3
   },
   "file_extension": ".py",
   "mimetype": "text/x-python",
   "name": "python",
   "nbconvert_exporter": "python",
   "pygments_lexer": "ipython3",
   "version": "3.9.7"
  }
 },
 "nbformat": 4,
 "nbformat_minor": 5
}
