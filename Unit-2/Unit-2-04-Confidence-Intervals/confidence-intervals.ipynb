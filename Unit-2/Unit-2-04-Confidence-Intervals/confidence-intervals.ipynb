{
 "cells": [
  {
   "cell_type": "markdown",
   "metadata": {},
   "source": [
    "<img src=\"http://imgur.com/1ZcRyrc.png\" style=\"float: left; margin: 20px; height: 55px\">\n",
    "\n",
    "# Confidence Intervals for Statistical Measurements\n",
    "\n",
    "\n",
    "---"
   ]
  },
  {
   "cell_type": "markdown",
   "metadata": {},
   "source": [
    "## Learning Objectives\n",
    "### Core\n",
    "- Understand the relationship between the mean, the standard deviation, and the standard error of the mean\n",
    "- Calculate the standard error of the mean based on example data\n",
    "- Understand the relationship between the CLT and the standard error of the mean\n",
    "- Understand the concept of a confidence interval\n",
    "\n",
    "### Target\n",
    "- Calculate the confidence interval for a given dataset\n",
    "- Understand how the confidence interval of a specified confidence level is calculated from the mean, the standard error and the standard normal distribution\n",
    "\n",
    "### Stretch\n",
    "- Understand how the confidence interval expression generalizes to small sample size for a normally distributed population \n",
    "- Interpret the meaning of the confidence interval and understand potential pitfalls of describing frequentist statistical measures\n"
   ]
  },
  {
   "cell_type": "markdown",
   "metadata": {
    "toc": true
   },
   "source": [
    "<h1>Lesson Guide<span class=\"tocSkip\"></span></h1>\n",
    "<div class=\"toc\"><ul class=\"toc-item\"><li><span><a href=\"#Learning-Objectives\" data-toc-modified-id=\"Learning-Objectives-1\">Learning Objectives</a></span><ul class=\"toc-item\"><li><span><a href=\"#Core\" data-toc-modified-id=\"Core-1.1\">Core</a></span></li><li><span><a href=\"#Target\" data-toc-modified-id=\"Target-1.2\">Target</a></span></li><li><span><a href=\"#Stretch\" data-toc-modified-id=\"Stretch-1.3\">Stretch</a></span></li><li><span><a href=\"#Review-and-Introduction:-Statistics-Surrounding-the-Ages-of-Single-People\" data-toc-modified-id=\"Review-and-Introduction:-Statistics-Surrounding-the-Ages-of-Single-People-1.4\">Review and Introduction: Statistics Surrounding the Ages of Single People</a></span><ul class=\"toc-item\"><li><span><a href=\"#Calculate-the-mean-and-the-standard-deviation-of-the-data.-What-do-these-statistics-tell-us-specifically?\" data-toc-modified-id=\"Calculate-the-mean-and-the-standard-deviation-of-the-data.-What-do-these-statistics-tell-us-specifically?-1.4.1\">Calculate the mean and the standard deviation of the data. What do these statistics tell us specifically?</a></span></li></ul></li><li><span><a href=\"#The-Standard-Error-of-a-Statistic\" data-toc-modified-id=\"The-Standard-Error-of-a-Statistic-1.5\">The Standard Error of a Statistic</a></span></li><li><span><a href=\"#The-CLT-and-Uncertainty-of-the-Sample-Mean\" data-toc-modified-id=\"The-CLT-and-Uncertainty-of-the-Sample-Mean-1.6\">The CLT and Uncertainty of the Sample Mean</a></span></li><li><span><a href=\"#Confidence-intervals\" data-toc-modified-id=\"Confidence-intervals-1.7\">Confidence intervals</a></span><ul class=\"toc-item\"><li><span><a href=\"#The-plot-below-shows-these-z-score-bounds-on-the-$Z-\\sim-N(0,-1)$-distribution:\" data-toc-modified-id=\"The-plot-below-shows-these-z-score-bounds-on-the-$Z-\\sim-N(0,-1)$-distribution:-1.7.1\">The plot below shows these z-score bounds on the $Z \\sim N(0, 1)$ distribution:</a></span></li><li><span><a href=\"#Comparison-of-standard-normal-distribution-and-t-distribution\" data-toc-modified-id=\"Comparison-of-standard-normal-distribution-and-t-distribution-1.7.2\">Comparison of standard normal distribution and t-distribution</a></span></li></ul></li><li><span><a href=\"#Interpreting-the-Confidence-Interval\" data-toc-modified-id=\"Interpreting-the-Confidence-Interval-1.8\">Interpreting the Confidence Interval</a></span></li></ul></li></ul></div>"
   ]
  },
  {
   "cell_type": "code",
   "execution_count": null,
   "metadata": {},
   "outputs": [],
   "source": [
    "import numpy as np\n",
    "import scipy.stats as stats\n",
    "import seaborn as sns\n",
    "import matplotlib.pyplot as plt\n",
    "\n",
    "plt.style.use('fivethirtyeight')\n",
    "\n",
    "%config InlineBackend.figure_format = 'retina'\n",
    "%matplotlib inline"
   ]
  },
  {
   "cell_type": "markdown",
   "metadata": {},
   "source": [
    "<a id='review-statistics-parameters'></a>\n",
    "\n",
    "### Review and Introduction: Statistics Surrounding the Ages of Single People\n",
    "\n",
    "---\n",
    "\n",
    "Below is a random sample of data about age taken from a survey conducted by a bank. The data is specifically subset to people who have classified themselves as \"single\" as opposed to \"married.\" \n",
    "\n",
    "We are interested in describing our sample using **descriptive statistics**. We are also interested in making statements about the overall population that the sample was drawn from (i.e., all single people who would conceivably take the bank survey) using **inferential statistics**."
   ]
  },
  {
   "cell_type": "code",
   "execution_count": null,
   "metadata": {},
   "outputs": [],
   "source": [
    "single = np.array([24, 26, 35, 32, 38, 35, 31, 43, 40, 42, 39, 48, 37, 27, 33, 33, 34,\n",
    "                   37, 33, 26, 30, 30, 30, 31, 33, 35, 43, 30, 35, 26, 23, 27, 54, 35,\n",
    "                   29, 28, 37, 33, 34, 32, 29, 43, 29, 36, 36, 34, 39, 33, 30, 32, 23,\n",
    "                   30, 31, 38, 35, 22, 59, 20, 45, 33, 35, 33, 23, 58, 33, 30, 38, 28,\n",
    "                   50, 31, 38, 42, 41, 33, 29, 29, 31, 30, 28, 27, 29, 38, 36, 56, 36,\n",
    "                   31, 30, 29, 25, 41, 47, 34, 38, 50, 23, 28, 35, 32, 36, 28, 39, 33,\n",
    "                   25, 36, 27, 30, 29, 42, 43, 20, 26, 53, 41, 27, 31, 33, 38, 37, 31,\n",
    "                   28, 25, 47, 38, 41, 26, 26, 25, 32, 32, 23, 31, 51, 49, 32, 48, 44,\n",
    "                   30, 31, 34, 37, 31, 32, 24, 38, 38, 39, 29, 25, 29, 31, 24, 35, 28,\n",
    "                   24, 24, 35, 36, 21, 56, 54, 28, 32, 27, 30, 31, 31, 27, 32, 30, 29,\n",
    "                   27, 26, 36, 27, 32, 32, 38, 41, 33, 33, 26, 29, 27, 42, 35, 32, 35,\n",
    "                   43, 32, 22, 32, 37, 30, 39, 28, 33, 25, 34, 39, 31])"
   ]
  },
  {
   "cell_type": "markdown",
   "metadata": {},
   "source": [
    "Plotting a histogram can provide an effective visual description of the data before we even calculate any statistical measures.\n",
    "\n",
    "**The following code plots the histogram for the distribution of ages using `matplotlib` and `seaborn`.**"
   ]
  },
  {
   "cell_type": "code",
   "execution_count": null,
   "metadata": {},
   "outputs": [],
   "source": [
    "fig, ax = plt.subplots(figsize=(8,6))\n",
    "sns.histplot(single, bins=40, kde=True)\n",
    "plt.show()"
   ]
  },
  {
   "cell_type": "markdown",
   "metadata": {},
   "source": [
    "What might you say about the distribution of the data?"
   ]
  },
  {
   "cell_type": "code",
   "execution_count": null,
   "metadata": {},
   "outputs": [],
   "source": [
    "# Don't plot distributions of discrete variables with kde=True!\n",
    "fig, ax = plt.subplots(figsize=(8,6))\n",
    "\n",
    "# plot the count of those who are aged 30 and below and those over 30\n",
    "sns.histplot(single>30, bins=40, kde=False)\n",
    "plt.show()"
   ]
  },
  {
   "cell_type": "markdown",
   "metadata": {},
   "source": [
    "We can try to use a log transformation to reduce the skewness."
   ]
  },
  {
   "cell_type": "code",
   "execution_count": null,
   "metadata": {},
   "outputs": [],
   "source": [
    "fig, ax = plt.subplots(figsize=(8,6))\n",
    "sns.histplot(np.log(single), bins=40, kde=False)\n",
    "plt.show()"
   ]
  },
  {
   "cell_type": "markdown",
   "metadata": {},
   "source": [
    "#### Calculate the mean and the standard deviation of the data. What do these statistics tell us specifically?"
   ]
  },
  {
   "cell_type": "code",
   "execution_count": null,
   "metadata": {},
   "outputs": [],
   "source": [
    "print(np.mean(single))\n",
    "print(np.std(single))"
   ]
  },
  {
   "cell_type": "markdown",
   "metadata": {
    "collapsed": true
   },
   "source": [
    "_This tells us that the mean age of our sample is 33.55 years._   \n",
    "_The standard deviation, which is a measure of the average spread in the\n",
    "observed age data compared to the mean age, is 7.46 years._ "
   ]
  },
  {
   "cell_type": "markdown",
   "metadata": {},
   "source": [
    "### The Standard Error of a Statistic\n",
    "---\n",
    "<a id='standard-error'></a>\n",
    "\n",
    "\n",
    "If our goal extends beyond simply describing the data we have, and we instead want to infer something about the overall population based on the information in this sample, we will inherently have some degree of uncertainty.\n",
    "\n",
    "In this regard we will consider the overall population to follow a probability distribution with particular shape parameters which we could measure by observing the whole population. Usually we will however have only access to samples from the overall population. The data in these samples has some variability which will allow us to infer the true distribution parameters only to a limited certainty. Considering these parameters as fixed is known as the _frequentist approach_.\n",
    "\n",
    "**Uncertainty About the True Value**\n",
    "\n",
    "Working within the frequentist framework, we know that there is a true value for the mean age of all single people. If we had surveyed every single one of these people and calculated the mean, then we would have that value. However, we have only measured 200 people's ages at random. Depending on our sample size, we will have some degree of uncertainty about how far off our statistic of our random sample is from the true parameter. This distance is our measurement \"error.\"\n",
    "\n",
    "**The Mean, vs. The Standard Deviation, vs. The Standard Error**\n",
    "\n",
    "It is important to frame these definitions in the context of *repeated measurements*. Furthermore, as frequentists, we conceive of this sample as one of many hypothetical random samples from the same overall population. Let's start with our calculated statistic, the mean age.\n",
    "\n",
    "> **Mean:** Our sample mean age is the estimate of the true mean age of the overall population.\n",
    "\n",
    "We also calculated the standard deviation of ages in our sample.\n",
    "\n",
    "> **Standard deviation:** This quantifies the spread of our data — i.e., the square root of the average quadratic distance of an observation from the mean. If we were to repeat a measurement, it would quantify our certainty about how far that age will be from the mean age.\n",
    "\n",
    "Lastly, we have the standard error of our mean. Whereas the standard deviation is a measure of the spread of our data, the standard error is a measure of spread in our calculated statistic. In other words, the standard error is the standard deviation of our statistic.\n",
    "\n",
    "> **Standard error:** If you had a new random sample of ages that was the same size as the original, the standard error would quantify our certainty about how far the new sample mean would be from the original sample mean.\n",
    "\n",
    "The calculation for the standard error of the sample mean is:\n",
    "\n",
    "$$ SE_{\\bar{x}} = \\frac{s_{x}}{\\sqrt{n}} $$\n",
    "\n",
    "Here, $s_{x}$ is the sample standard deviation and $n$ is the sample size.\n",
    "\n",
    "**Now, let's manually calculate the standard error of the sample mean for our ages.**"
   ]
  },
  {
   "cell_type": "code",
   "execution_count": null,
   "metadata": {},
   "outputs": [],
   "source": [
    "std = np.std(single)\n",
    "n = len(single)\n",
    "sem = std/np.sqrt(n)\n",
    "print('SEM:', sem)"
   ]
  },
  {
   "cell_type": "markdown",
   "metadata": {},
   "source": [
    "<a id='clt-uncertainty'></a>\n",
    "\n",
    "### The CLT and Uncertainty of the Sample Mean\n",
    "\n",
    "---\n",
    "\n",
    "Recall that the central limit theorem dictates that the distribution of sample means (calculated across different random samples from our overall population) will be normally distributed. \n",
    "\n",
    "Using the CLT, we are able to state that:\n",
    "\n",
    "> Our sample mean (33.55) falls somewhere on the normal distribution of all sample means calculated from random samples drawn from the overall population of ages.\n",
    "\n",
    "We also know from the CLT that the standard deviation of this normal distribution sets parameters to be $\\frac{\\sigma}{\\sqrt{n}}$, where $\\sigma$ is the standard deviation of the population. \n",
    "\n",
    "Looks familiar? Replacing $\\sigma$ with our estimate of the standard deviation ($s$), we set parameters for the standard deviation of the distribution using our measure of the standard error of the mean, $\\frac{s}{\\sqrt{n}}$.\n",
    "\n",
    "Then, we use our sample mean $—$ our **point estimate** $—$ as the best estimate of the population mean. Set parameters for the distribution of sample means as\n",
    "\n",
    "$$ \\bar{X} \\sim N(\\bar{x}, \\frac{s_{x}}{\\sqrt{n}} )$$\n",
    "\n",
    "\n",
    "\n",
    "What this equation is saying is **$\\bar{X}$** is normally distributed ( $N$ ) with a mean of $\\bar{x}$ and standard deviation of $\\frac{s_{x}}{\\sqrt{n}}$ .\n",
    "\n",
    "In this equation, **$\\bar{X}$** is a random variable from the _sample space_ (a.k.a., $\\Omega$).  The sample space is the set containing all possible values of $\\bar{x}$ (_our_ sample mean).  Thus we are saying that any and all of our possible sample means will follow the normal distribution defined above.\n",
    "\n",
    "**The code below visualizes this distribution with `matplotlib` and `scipy`.**"
   ]
  },
  {
   "cell_type": "code",
   "execution_count": null,
   "metadata": {},
   "outputs": [],
   "source": [
    "single_mean = np.mean(single)\n",
    "single_sem = np.std(single)/np.sqrt(len(single))\n",
    "\n",
    "# Generate points on the x axis:\n",
    "xpoints = np.linspace(single_mean - single_sem*5, single_mean + single_sem*5, 250)\n",
    "\n",
    "# Use stats.norm.pdf to get values on the probability density function for the normal distribution:\n",
    "ypoints = stats.norm.pdf(xpoints, single_mean, single_sem)\n",
    "\n",
    "# Initialize a matplotlib \"figure:\"\n",
    "fig = plt.figure(figsize=(8,5))\n",
    "\n",
    "# Get the current \"axis\" out of the figure:\n",
    "ax = fig.gca()\n",
    "\n",
    "# Plot the lines using matplotlib's plot function:\n",
    "ax.plot(xpoints, ypoints, linewidth=3, color='darkred')\n",
    "ax.axvline(single_mean, linewidth=4, ls='dashed', c='black')\n",
    "plt.show()"
   ]
  },
  {
   "cell_type": "markdown",
   "metadata": {},
   "source": [
    "<a id='confidence-intervals'></a>\n",
    "\n",
    "### Confidence intervals\n",
    "\n",
    "---\n",
    "\n",
    "A confidence interval describes a set of possible values for the parameter based on a statistic. Confidence intervals will be centered at the point estimate and typically include +/- a few standard errors.\n",
    "\n",
    "Because the mean statistic is normally distributed, according to the CLT, our confidence interval for the sample mean will be:\n",
    "\n",
    "$$ \\text{CI} = \\text{point estimate} \\pm \\text{multiplier} \\cdot \\text{standard error} $$\n",
    "\n",
    "$$\\text{CI} = \\bar{x} \\pm z_{\\alpha/2} \\cdot \\frac{s}{\\sqrt{n}}$$\n",
    "\n",
    "$z_{\\alpha/2}$ is the z-score on the unit **$Z \\sim N(0, 1)$** distribution that specifies the *degree* of certainty we want. For now, you can ignore the $\\alpha/2$ part; this relates to the concept of Type I error, which we will cover later. What is important now is that, the larger the z-score, the greater the area under the normal distribution of sample means covered by the confidence interval.\n",
    "\n",
    "**If we want our confidence level $—$ i.e., how confident we are that the true value of the parameter lies within the confidence interval $—$ to be:**\n",
    "- **90%**: The z-score multiplier should be **z = 1.645**, because 90% of the area under the $Z \\sim N(0, 1)$ normal distribution lies between -1.645 and 1.645.\n",
    "- **95%**: The z-score multiplier should be **z = 1.960**, because 95% of the area under the $Z \\sim N(0, 1)$ normal distribution lies between -1.960 and 1.960.\n",
    "- **99%**: The z-score multiplier should be **z = 2.576**, because 99% of the area under the $Z \\sim N(0, 1)$ normal distribution lies between -2.576 and 2.576.\n",
    "\n"
   ]
  },
  {
   "cell_type": "markdown",
   "metadata": {},
   "source": [
    "Theses values can be calculated with the percent point function `ppf`. This function takes the percentile and returns the corresponding value on the x-axis."
   ]
  },
  {
   "cell_type": "code",
   "execution_count": null,
   "metadata": {},
   "outputs": [],
   "source": [
    "print((stats.norm().ppf([0.16,0.84])))"
   ]
  },
  {
   "cell_type": "code",
   "execution_count": null,
   "metadata": {},
   "outputs": [],
   "source": [
    "print('90 %: ',np.mean(single)+(stats.norm().ppf([0.05,0.95])))\n",
    "print('95 %: ',np.mean(single)+(stats.norm().ppf([0.025,0.975])))\n",
    "print('99 %: ',np.mean(single)+(stats.norm().ppf([0.005,0.995])))"
   ]
  },
  {
   "cell_type": "markdown",
   "metadata": {},
   "source": [
    "> **Note:** For a small number of samples (e.g. less than 30) instead of the z-score one has to use the t-statistic and the formula becomes \n",
    "\n",
    "> $$\\text{CI} = \\bar{x} \\pm t_{\\alpha/2,n-1} \\cdot \\frac{s}{\\sqrt{n}}$$\n",
    "\n",
    "> where $n-1$ is often referred to as  the numbers of degrees of freedom of the t-distribution.\n",
    "Using the t-statistic assumes that the sample for which the mean is calculated stems from a normal distribution. For large enough sample size, the mean is normally distributed due to the central limit theorem, and the population itself does not have to be normally distributed to use this formula."
   ]
  },
  {
   "cell_type": "markdown",
   "metadata": {},
   "source": [
    "#### The plot below shows these z-score bounds on the $Z \\sim N(0, 1)$ distribution:"
   ]
  },
  {
   "cell_type": "code",
   "execution_count": null,
   "metadata": {},
   "outputs": [],
   "source": [
    "# Initialize a matplotlib \"figure:\"\n",
    "fig = plt.figure(figsize=(10,5))\n",
    "ax = fig.gca()\n",
    "\n",
    "zx = np.linspace(-3.5, 3.5, 250)\n",
    "\n",
    "Z = stats.norm(0, 1)\n",
    "zy = Z.pdf(zx)\n",
    "\n",
    "# 90%:\n",
    "ax.axvline(stats.norm().ppf(0.05), ls='dashed', lw=3, color='#333333', alpha=0.7)\n",
    "ax.axvline(stats.norm().ppf(0.95), ls='dashed', lw=3, color='#333333', alpha=0.7, label='z=1.645, 90%')\n",
    "\n",
    "# 95%:\n",
    "ax.axvline(stats.norm().ppf(0.025), ls='dashed', lw=3, color='#666666', alpha=0.7)\n",
    "ax.axvline(stats.norm().ppf(0.975), ls='dashed', lw=3, color='#666666', alpha=0.7, label='z=1.960, 95%')\n",
    "\n",
    "# 99%:\n",
    "ax.axvline(stats.norm().ppf(0.005), ls='dashed', lw=3, color='#999999', alpha=0.7)\n",
    "ax.axvline(stats.norm().ppf(0.995), ls='dashed', lw=3, color='#999999', alpha=0.7, label='z=2.576, 99%')\n",
    "\n",
    "ax.plot(zx, zy, linewidth=3, color='darkred')\n",
    "ax.legend(loc='upper left',fontsize=16)\n",
    "plt.show()"
   ]
  },
  {
   "cell_type": "markdown",
   "metadata": {},
   "source": [
    "#### Comparison of standard normal distribution and t-distribution"
   ]
  },
  {
   "cell_type": "code",
   "execution_count": null,
   "metadata": {},
   "outputs": [],
   "source": [
    "fig = plt.figure(figsize=(10,5))\n",
    "ax = fig.gca()\n",
    "\n",
    "zx = np.linspace(-3.5, 3.5, 250)\n",
    "\n",
    "Z = stats.norm(0, 1)\n",
    "zy = Z.pdf(zx)\n",
    "\n",
    "# The variable in the t-distribution gives the number of degrees of freedom.\n",
    "\n",
    "t_10 = stats.t(10)\n",
    "t_10_y = t_10.pdf(zx)\n",
    "t_20 = stats.t(20)\n",
    "t_20_y = t_20.pdf(zx)\n",
    "t_30 = stats.t(30)\n",
    "t_30_y = t_30.pdf(zx)\n",
    "t_05 = stats.t(5)\n",
    "t_05_y = t_05.pdf(zx)\n",
    "\n",
    "ax.plot(zx, zy, linewidth=3, color='black',label='Z', alpha=0.5)\n",
    "ax.plot(zx, t_05_y, linewidth=1, color='darkred',label='t, df = 5', alpha=0.7)\n",
    "ax.plot(zx, t_10_y, linewidth=1, color='darkblue',label='t, df = 10', alpha=0.5)\n",
    "ax.plot(zx, t_20_y, linewidth=1, color='darkgreen',label='t, df = 20', alpha=0.5)\n",
    "ax.plot(zx, t_30_y, linewidth=1, color='lightblue',label='t, df = 30', alpha=0.5)\n",
    "ax.legend(loc='upper left')\n",
    "plt.show()"
   ]
  },
  {
   "cell_type": "markdown",
   "metadata": {},
   "source": [
    "<a id='interpreting-ci'></a>\n",
    "\n",
    "### Interpreting the Confidence Interval\n",
    "\n",
    "---\n",
    "\n",
    "Suppose a 95% confidence interval for the mean number of pasta dishes I eat in a week is [2.5, 5.5]. There are two interpretations we can derive from this, and one of them is wrong.\n",
    "\n",
    "\n",
    "**Interpretation 1 (incorrect):**\n",
    "> There is a 95% probability that the number of pasta dishes I eat in a week is between 2.5 and 5.5.\n",
    "\n",
    "**Interpretation 2 (correct):**\n",
    " > If we pulled 100 samples and constructed confidence intervals in the same manner, we expect that 95 of the intervals would contain the true mean of number of pasta dishes I eat in a week.\n",
    "\n",
    "\n",
    "\n",
    "\n",
    "Why is interpretation 1 wrong? It assigns a probability to the true value. In frequentist statistics, the true value is fixed and the data is random. Confidence intervals make a statement of probability about the confidence interval range that could contain the true value.\n",
    "\n",
    "This is a critical difference in frequentist statistics (vs. Bayesian); our data has a probability of occurring, but there is no probability regarding possible values for the true parameter.\n",
    "\n",
    "[This blog post has a great discussion of the difference between the frequentist confidence interval and the Bayesian credible interval.](http://jakevdp.github.io/blog/2014/06/12/frequentism-and-bayesianism-3-confidence-credibility/)\n",
    "\n",
    "**We can also reframe this statement in terms of the random sampling procedure:**\n",
    "\n",
    "Typically, you will see confidence intervals expressed as...\n",
    "> _We are 95% confident that the mean number of pasta dishes I eat each week is between 2.5 and 5.5._\n",
    "\n",
    "While the above is the common shorthand, we can also think about a supplementary statement...\n",
    "> _We are also 5% confident that the mean number of pasta dishes I eat each week does not fall in between 2.5 and 5.5. _\n",
    "\n",
    "**Tip:**  It is the random data and mathematical process that you are measuring when expressing a confidence interval. \n",
    "\n",
    "[This post has more examples and information on the correct way to interpret Confidence Intervals](http://www.mathbootcamps.com/interpreting-confidence-intervals/)"
   ]
  },
  {
   "cell_type": "markdown",
   "metadata": {},
   "source": [
    "## Example:\n",
    "    \n",
    "Measuring the IQ of 100 adults, we find that the mean is 125. The population standard deviation if assumed to be 20. What are the 95% confidence intervals for the mean?\n"
   ]
  },
  {
   "cell_type": "code",
   "execution_count": null,
   "metadata": {},
   "outputs": [],
   "source": [
    "# Finding the z-values for the percentiles from 0.025 to 0.975 \n",
    "# for the 95% confidence interval\n",
    "# We use the percent point function, ppf\n",
    "stats.norm.ppf([0.025,0.975])"
   ]
  },
  {
   "cell_type": "code",
   "execution_count": null,
   "metadata": {},
   "outputs": [],
   "source": [
    "# use the z values to calculate the confidence interval\n",
    "mean_iq = 125\n",
    "sd_iq = 20\n",
    "ci = mean_iq + stats.norm.ppf([0.025, 0.975])*(sd_iq/np.sqrt(100))\n",
    "print(f'The confidence interval is {ci}')"
   ]
  },
  {
   "cell_type": "markdown",
   "metadata": {},
   "source": [
    "## Other intervals\n",
    "Similarly we can obtain the 99% or 90% confidence interval estimates."
   ]
  },
  {
   "cell_type": "code",
   "execution_count": null,
   "metadata": {},
   "outputs": [],
   "source": [
    "ci_level = 0.9\n",
    "lower_bound = (1 -ci_level)/2\n",
    "upper_bound = (1 - lower_bound)\n",
    "ci = mean_iq + stats.norm.ppf([lower_bound, upper_bound])*(sd_iq/np.sqrt(100))\n",
    "print(lower_bound)\n",
    "print(upper_bound)\n",
    "print(f'The confidence interval is {ci}')\n",
    "print(f'We are {ci_level*100:.0f}% confident that the true mean IQ')\n",
    "print(f'is between {ci[0]:.2f} and {ci[1]:0.2f}')\n",
    "      "
   ]
  },
  {
   "cell_type": "markdown",
   "metadata": {},
   "source": [
    "## Quick Exercise"
   ]
  },
  {
   "cell_type": "markdown",
   "metadata": {},
   "source": [
    "### Q 1:\n",
    "\n",
    "Height measurements of 200 individuals resulted in an observed mean of 174 cm. General estimates indicate a standard deviation of 6 cm for heights. What are the 95 % confidence intervals for the measured mean? "
   ]
  },
  {
   "cell_type": "code",
   "execution_count": null,
   "metadata": {},
   "outputs": [],
   "source": []
  },
  {
   "cell_type": "markdown",
   "metadata": {},
   "source": [
    "### Another Example: small sample size\n",
    "\n",
    "You have a huge box with tennis balls of which you are not sure if they conform with rules for size (must be between 6.54 and 6.86 cm in diameter). You pick 10 of the balls and measure their diameter, obtaining a mean of 6.58 cm and a sample standard deviation of 0.04 cm. Find 95 % and 99 % confidence intervals. Can you be confident that the balls in the box conform with the rules?"
   ]
  },
  {
   "cell_type": "code",
   "execution_count": null,
   "metadata": {},
   "outputs": [],
   "source": [
    "# Since the sample size is small, we need to use the t-distribution.\n",
    "# To get the t-values for the 0.025 and 0.095 percentiles\n",
    "# We need to pass the parameter for the degrees of freedom which is n-1\n",
    "n=10\n",
    "stats.t(n-1).ppf([0.025, 0.975])\n"
   ]
  },
  {
   "cell_type": "code",
   "execution_count": null,
   "metadata": {},
   "outputs": [],
   "source": [
    "# Fill in the sample mean and sample sd.\n",
    "sample_mean = \n",
    "sample_sd = \n",
    "\n",
    "CI_t = sample_mean+stats.t(n-1).ppf([0.025,0.975])*(sample_sd/np.sqrt(n))\n",
    "\n",
    "print('We can be 95% confident that the mean size of the balls in the box')\n",
    "print(f'is in the interval {CI_t}')"
   ]
  },
  {
   "cell_type": "markdown",
   "metadata": {},
   "source": [
    "## What if you wanted the 99% confidence interval? "
   ]
  },
  {
   "cell_type": "code",
   "execution_count": null,
   "metadata": {},
   "outputs": [],
   "source": []
  }
 ],
 "metadata": {
  "kernelspec": {
   "display_name": "Python 3 (ipykernel)",
   "language": "python",
   "name": "python3"
  },
  "language_info": {
   "codemirror_mode": {
    "name": "ipython",
    "version": 3
   },
   "file_extension": ".py",
   "mimetype": "text/x-python",
   "name": "python",
   "nbconvert_exporter": "python",
   "pygments_lexer": "ipython3",
   "version": "3.9.7"
  },
  "toc": {
   "nav_menu": {},
   "number_sections": false,
   "sideBar": true,
   "skip_h1_title": true,
   "title_cell": "Lesson Guide",
   "title_sidebar": "Contents",
   "toc_cell": true,
   "toc_position": {
    "height": "441px",
    "left": "0px",
    "right": "878.8px",
    "top": "118px",
    "width": "146px"
   },
   "toc_section_display": "block",
   "toc_window_display": false
  }
 },
 "nbformat": 4,
 "nbformat_minor": 2
}
