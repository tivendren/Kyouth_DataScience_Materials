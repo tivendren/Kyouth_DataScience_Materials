{
 "cells": [
  {
   "cell_type": "markdown",
   "metadata": {
    "slideshow": {
     "slide_type": "slide"
    }
   },
   "source": [
    "<img src=\"http://imgur.com/1ZcRyrc.png\" style=\"float: left; margin: 20px; height: 55px\">\n",
    "\n",
    "## Introduction to Descriptive Statistics with `numpy`\n",
    "\n",
    "\n",
    "---\n",
    "\n",
    "### Learning Objectives\n",
    "*After this lesson, you will be able to:*\n",
    "- Understand the measures of central tendency (mean, median, and mode).\n",
    "- Understand how mean, median and mode are affected by skewness in data.\n",
    "- Understand measures of dispersion (variance and standard deviation)."
   ]
  },
  {
   "cell_type": "markdown",
   "metadata": {
    "slideshow": {
     "slide_type": "slide"
    }
   },
   "source": [
    "---\n",
    "\n",
    "### Lesson Guide\n",
    "\n",
    "- [Warm-Up on List & Dictionary Comprehensions](#warm-up)\n",
    "- [Descriptive Statistics vs. Inferential Statistics](#descriptive_stats)\n",
    "- [Measures of Central Tendency](#central_tendency)\n",
    "- [Skewness](#skewness)\n",
    "- [Measures of Dispersion](#dispersion)"
   ]
  },
  {
   "cell_type": "markdown",
   "metadata": {},
   "source": [
    "<a id='warm-up'></a>\n",
    "\n",
    "### Warm-Up on List & Dictionary Comprehensions\n",
    "\n",
    "---\n",
    "\n",
    "You have four minutes to try the questions below on list comprehensions and dictionary comprehensions."
   ]
  },
  {
   "cell_type": "markdown",
   "metadata": {
    "slideshow": {
     "slide_type": "subslide"
    }
   },
   "source": [
    "#### Warm-Up A: Write a list comprehension that will take each non-zero number in `lstA` below, subtract 3, and square the result. "
   ]
  },
  {
   "cell_type": "code",
   "execution_count": 1,
   "metadata": {},
   "outputs": [],
   "source": [
    "lstA = [3,8,2,0,5,10,0]"
   ]
  },
  {
   "cell_type": "code",
   "execution_count": 2,
   "metadata": {},
   "outputs": [
    {
     "data": {
      "text/plain": [
       "[0, 25, 1, 4, 49]"
      ]
     },
     "execution_count": 2,
     "metadata": {},
     "output_type": "execute_result"
    }
   ],
   "source": [
    "[(n-3)**2 for n in lstA if n !=0]"
   ]
  },
  {
   "cell_type": "markdown",
   "metadata": {},
   "source": [
    "#### Warm-Up B: Write a dictionary comprehension that will store the length of each of the words in `lstB`.  Each of the items in the dictionary should be in the form: `'BERLIN': 6`"
   ]
  },
  {
   "cell_type": "code",
   "execution_count": 3,
   "metadata": {},
   "outputs": [],
   "source": [
    "lstB = ['Paris','london','ROME','Madrid','reykjavik']"
   ]
  },
  {
   "cell_type": "code",
   "execution_count": 4,
   "metadata": {},
   "outputs": [
    {
     "data": {
      "text/plain": [
       "{'PARIS': 5, 'LONDON': 6, 'ROME': 4, 'MADRID': 6, 'REYKJAVIK': 9}"
      ]
     },
     "execution_count": 4,
     "metadata": {},
     "output_type": "execute_result"
    }
   ],
   "source": [
    "{city.upper():len(city) for city in lstB}"
   ]
  },
  {
   "cell_type": "markdown",
   "metadata": {},
   "source": [
    "<a id='descriptive_stats'></a>\n",
    "\n",
    "### Descriptive Statistics\n",
    "\n",
    "---\n",
    "\n",
    "There are two main fields of statistics: **descriptive** and **inferential**.\n",
    "\n",
    "- We use **descriptive** statistics to **make judgments** about the world based on **samples of data**. For example, how dependable is an observed difference between **groups**? \n",
    "- When we start covering **modeling and hypothesis testing**, our focus will shift to **inferential statistics**.\n",
    "\n",
    "Right now, we're going to focus on descriptive statistics: **describing, summarizing, and understanding data**."
   ]
  },
  {
   "cell_type": "markdown",
   "metadata": {
    "slideshow": {
     "slide_type": "slide"
    }
   },
   "source": [
    "All variables have what is called a **distribution**. The distribution is the set of **all possible values** that a variable can take on, as well as **how frequently** it takes on each of these values. (One popular way to visualize the distribution of a variable is by using a histogram or bar chart).\n",
    "\n",
    "=> The three questions that we want to answer about a distribution are:\n",
    "\n",
    "- What is the center?\n",
    "- What is the spread?\n",
    "- What is the shape?\n"
   ]
  },
  {
   "cell_type": "markdown",
   "metadata": {
    "slideshow": {
     "slide_type": "slide"
    }
   },
   "source": [
    "\n",
    "The first section of this lesson covers the **measures of central tendency**. Measures of central tendency provide descriptive information about the single numerical value that is considered to be the **\"most typical\" of the values of a quantitative variable**.\n",
    "You're probably already familiar with some measures of central tendency: The **mean, median,** and **mode**.\n",
    "\n",
    "We'll also discuss **skewness**, which is the lack of symmetry in a distribution of data that affects the mean, median, and mode.\n",
    "\n",
    "Lastly, we'll take a look at **measures of dispersion** or variability in our data, namely the **range, variance**, and **standard deviation**.\n"
   ]
  },
  {
   "cell_type": "markdown",
   "metadata": {
    "slideshow": {
     "slide_type": "slide"
    }
   },
   "source": [
    "<a id='central_tendency'></a>\n",
    "\n",
    "### Measures of Central Tendency: Mean, Median, Mode\n",
    "\n",
    "---\n",
    "\n",
    "We'll be using three datasets here: \n",
    "- the average monthly sunshine hours for each month of the year for London\n",
    "- the same data as above for New York City\n",
    "- the average daily high temperature in July for 7 cities (London, New York, Rome, Chicago, Berlin, Madrid, Paris)"
   ]
  },
  {
   "cell_type": "code",
   "execution_count": 5,
   "metadata": {},
   "outputs": [],
   "source": [
    "ldn_sun = [61.5,77.9,114.6,168.7,198.5,204.3,212.0,204.7,149.3,116.5,72.6,52.0]\n",
    "nyc_sun = [162.7,163.1,212.5,225.6,256.6,257.3,268.2,268.2,219.3,211.2,151.0,139.0]\n",
    "july_temps = [23.5,28.9,30.3,28.9,25.0,32.1,25.2]"
   ]
  },
  {
   "cell_type": "code",
   "execution_count": 6,
   "metadata": {},
   "outputs": [],
   "source": [
    "import numpy as np"
   ]
  },
  {
   "cell_type": "markdown",
   "metadata": {
    "slideshow": {
     "slide_type": "slide"
    }
   },
   "source": [
    "#### Mean\n",
    "\n",
    "The mean is the sum of the numbers in a list, divided by the length of that list."
   ]
  },
  {
   "cell_type": "code",
   "execution_count": 7,
   "metadata": {
    "slideshow": {
     "slide_type": "subslide"
    }
   },
   "outputs": [
    {
     "data": {
      "text/plain": [
       "136.04999999999998"
      ]
     },
     "execution_count": 7,
     "metadata": {},
     "output_type": "execute_result"
    }
   ],
   "source": [
    "#Find the mean of the ldn_sun data without using numpy: \n",
    "sum(ldn_sun)/len(ldn_sun)"
   ]
  },
  {
   "cell_type": "code",
   "execution_count": 8,
   "metadata": {},
   "outputs": [
    {
     "data": {
      "text/plain": [
       "211.22500000000002"
      ]
     },
     "execution_count": 8,
     "metadata": {},
     "output_type": "execute_result"
    }
   ],
   "source": [
    "#Find the mean of the nyc_sun data using np.mean():\n",
    "np.mean(nyc_sun)"
   ]
  },
  {
   "cell_type": "markdown",
   "metadata": {
    "slideshow": {
     "slide_type": "slide"
    }
   },
   "source": [
    "#### Median\n",
    "\n",
    "For **odd-length vectors**: The median is the middle number of the ordered list.\n",
    "\n",
    "For **even-length vectors**: The median is the average of the two middle-most numbers of the ordered list.\n",
    "\n",
    "The position of the median will be given by (n + 1)/2 with n being the number of numbers\n",
    "- if the answer is an integer, like 9, then the median is the 9th number\n",
    "- if the answer is a decimal, like 12.5, then the median is the mean of the 12th and 13th numbers"
   ]
  },
  {
   "cell_type": "code",
   "execution_count": 9,
   "metadata": {
    "slideshow": {
     "slide_type": "subslide"
    }
   },
   "outputs": [],
   "source": [
    "#find the median of the july_temps list without using numpy:\n",
    "# sort the list\n",
    "sorted_temps = july_temps\n",
    "median_pos = int((len(sorted_temps)+1)/2)"
   ]
  },
  {
   "cell_type": "code",
   "execution_count": 10,
   "metadata": {},
   "outputs": [
    {
     "name": "stdout",
     "output_type": "stream",
     "text": [
      "[23.5, 28.9, 30.3, 28.9, 25.0, 32.1, 25.2]\n",
      "median is 25.0\n"
     ]
    }
   ],
   "source": [
    "print(sorted_temps)\n",
    "print(f\"median is {sorted_temps[median_pos]}\")"
   ]
  },
  {
   "cell_type": "code",
   "execution_count": 11,
   "metadata": {
    "slideshow": {
     "slide_type": "slide"
    }
   },
   "outputs": [
    {
     "data": {
      "text/plain": [
       "132.9"
      ]
     },
     "execution_count": 11,
     "metadata": {},
     "output_type": "execute_result"
    }
   ],
   "source": [
    "#find the median of the ldn_sun list without using numpy:\n",
    "np.median(ldn_sun)"
   ]
  },
  {
   "cell_type": "code",
   "execution_count": 12,
   "metadata": {},
   "outputs": [
    {
     "data": {
      "text/plain": [
       "28.9"
      ]
     },
     "execution_count": 12,
     "metadata": {},
     "output_type": "execute_result"
    }
   ],
   "source": [
    "# check median of july_temps\n",
    "np.median(july_temps)"
   ]
  },
  {
   "cell_type": "code",
   "execution_count": 13,
   "metadata": {},
   "outputs": [],
   "source": [
    "#find the median of the nyc_sun list using np.median():\n"
   ]
  },
  {
   "cell_type": "markdown",
   "metadata": {
    "slideshow": {
     "slide_type": "slide"
    }
   },
   "source": [
    "#### Mode\n",
    "\n",
    "**The mode is the most frequently occurring number.**\n",
    "\n",
    "Finding the mode is not as straightforward as the mean or median, so let's walk through how to calculate it using `scipy.stats.mode()`. \n",
    "\n",
    "Note: Finding the mode without `scipy.stats.mode()` is a challenge problem in this lesson's independent practice section."
   ]
  },
  {
   "cell_type": "code",
   "execution_count": 14,
   "metadata": {
    "slideshow": {
     "slide_type": "slide"
    }
   },
   "outputs": [
    {
     "data": {
      "text/plain": [
       "ModeResult(mode=array([2]), count=array([4]))"
      ]
     },
     "execution_count": 14,
     "metadata": {},
     "output_type": "execute_result"
    }
   ],
   "source": [
    "#notice the type of result that we get when we use stats.mode\n",
    "from scipy import stats\n",
    "sample = [0,1,1,2,2,2,2,3,3,4,4,4,5]\n",
    "\n",
    "          \n",
    "stats.mode(sample)"
   ]
  },
  {
   "cell_type": "code",
   "execution_count": 15,
   "metadata": {},
   "outputs": [
    {
     "data": {
      "text/plain": [
       "2"
      ]
     },
     "execution_count": 15,
     "metadata": {},
     "output_type": "execute_result"
    }
   ],
   "source": [
    "# Mode Result shows the mode and the count of the mode. \n",
    "# If there is more than one mode, only one is returned. \n",
    "stats.mode(sample)[0][0]"
   ]
  },
  {
   "cell_type": "code",
   "execution_count": 16,
   "metadata": {},
   "outputs": [
    {
     "data": {
      "text/plain": [
       "28.9"
      ]
     },
     "execution_count": 16,
     "metadata": {},
     "output_type": "execute_result"
    }
   ],
   "source": [
    "#find the mode of the july_temps list using stats.mode()\n",
    "stats.mode(july_temps)[0][0]"
   ]
  },
  {
   "cell_type": "markdown",
   "metadata": {
    "slideshow": {
     "slide_type": "subslide"
    }
   },
   "source": [
    "#### Once again, with `scipy`\n",
    "\n",
    "Thankfully, we have a library that is easy to use and computationally optimized in `scipy` that can help us do the heavy lifting.  When possible it's best to use functions in `scipy` and `numpy`, since they are robust and fast. \n",
    "\n",
    "Using `scipy` and `numpy`, find the mean, median, and mode of the distribution `sample` below."
   ]
  },
  {
   "cell_type": "code",
   "execution_count": 17,
   "metadata": {
    "slideshow": {
     "slide_type": "subslide"
    }
   },
   "outputs": [
    {
     "name": "stdout",
     "output_type": "stream",
     "text": [
      "mean is 67.95\n",
      "median is 28.0\n",
      "mode is 3\n",
      "mode count is 2\n"
     ]
    }
   ],
   "source": [
    "# Import Python modules here\n",
    "from scipy import stats\n",
    "import numpy as np\n",
    "\n",
    "\n",
    "sample = [3, 75, 98, 2, 10, 3, 14, 99, 44, 25, 31, 100, 356, 4, 23, 55, 327, 64, 6, 20]\n",
    "\n",
    "# Your solution here:\n",
    "print(f\"mean is {np.mean(sample)}\")\n",
    "print(f\"median is {np.median(sample)}\")\n",
    "print(f\"mode is {stats.mode(sample)[0][0]}\")\n",
    "print(f\"mode count is {stats.mode(sample)[1][0]}\")\n"
   ]
  },
  {
   "cell_type": "code",
   "execution_count": 18,
   "metadata": {
    "slideshow": {
     "slide_type": "subslide"
    }
   },
   "outputs": [],
   "source": [
    "# Your answers should be:   \n",
    "# Mean: 67.95, Median: 28.0, Mode: 3.000000, Mode Count: 2"
   ]
  },
  {
   "cell_type": "markdown",
   "metadata": {},
   "source": [
    "#### Pair discussion:\n",
    "\n",
    "Come up with examples of when the mean may be slightly misleading in describing a dataset.\n",
    "\n",
    "Do the same for mode and median."
   ]
  },
  {
   "cell_type": "markdown",
   "metadata": {
    "slideshow": {
     "slide_type": "slide"
    }
   },
   "source": [
    "<a id='skewness'></a>\n",
    "\n",
    "### Skewness\n",
    "\n",
    "---\n",
    "\n",
    "Skewness refers to the **lack of symmetry** in a distribution of data.\n",
    "\n",
    "[Technical note: we will be talking about skewness here only in the context of _unimodal_ distributions.]\n",
    "\n",
    "![](assets/images/skewness.png)\n",
    "\n",
    "**A *positive-skewed* distribution is one whose right tail is longer or fatter than its left. **\n",
    "\n",
    "Conversely, **a *negative-skewed* distribution is one whose left tail is longer or fatter than its right**.\n",
    "\n",
    "\n",
    "Symmetric distributions have no skewness!\n"
   ]
  },
  {
   "cell_type": "markdown",
   "metadata": {
    "slideshow": {
     "slide_type": "slide"
    }
   },
   "source": [
    "#### Skewness and measures of central tendency\n",
    "\n",
    "The mean, median, and mode are affected by skewness.\n",
    "\n",
    "When a distribution is symmetric, the mean, median, and mode are the same.\n",
    "\n",
    "> Symmetric: **mean == median == mode**\n",
    "\n",
    "When a distribution is negatively skewed, the mean is less than the median, which is less than the mode.\n",
    "\n",
    "> Negative skew: **mean < median < mode**\n",
    "\n",
    "When a distribution is positively skewed, the mean is greater than the median, which is greater than the mode.\n",
    "\n",
    "> Positive skew: **mode < median < mean**\n"
   ]
  },
  {
   "cell_type": "markdown",
   "metadata": {
    "slideshow": {
     "slide_type": "slide"
    }
   },
   "source": [
    "Does the list of numbers below form a symmetric distribution? Is it skewed left of right?"
   ]
  },
  {
   "cell_type": "code",
   "execution_count": 19,
   "metadata": {
    "slideshow": {
     "slide_type": "subslide"
    }
   },
   "outputs": [],
   "source": [
    "# This is our sample\n",
    "sample = [3, 75, 98, 2, 10, 3, 14, 99, 44, 25, 31, 100, 356, 4, 23, 10, 55, 327, 64, 6, 20]"
   ]
  },
  {
   "cell_type": "code",
   "execution_count": 20,
   "metadata": {},
   "outputs": [
    {
     "name": "stdout",
     "output_type": "stream",
     "text": [
      "mean is 65.19047619047619, median is 25.0, mode is 3\n",
      "positively skewed\n"
     ]
    }
   ],
   "source": [
    "#find the mean, median, and mode for the distribution, and use these to determine the skew:\n",
    "s_mean = np.mean(sample)\n",
    "s_median = np.median(sample)\n",
    "s_mode = stats.mode(sample)[0][0]\n",
    "\n",
    "print(f\"mean is {s_mean}, median is {s_median}, mode is {s_mode}\")\n",
    "\n",
    "if (s_mean == s_median == s_mode):\n",
    "    print(\"symmetric\")\n",
    "elif (s_mean<s_median < s_mode):\n",
    "    print(\"negatively skewed\")\n",
    "elif (s_mean > s_median > s_mode):\n",
    "    print(\"positively skewed\")\n",
    "else:\n",
    "    print(\"undetermined\")\n"
   ]
  },
  {
   "cell_type": "code",
   "execution_count": 21,
   "metadata": {},
   "outputs": [
    {
     "data": {
      "image/png": "[encoded data removed]",
      "text/plain": [
       "<Figure size 640x480 with 1 Axes>"
      ]
     },
     "metadata": {},
     "output_type": "display_data"
    }
   ],
   "source": [
    "# We can code a quick example to plot this distribution:\n",
    "import pandas as pd\n",
    "import seaborn as sns\n",
    "import matplotlib.pyplot as plt\n",
    "\n",
    "df = pd.DataFrame(sample)\n",
    "\n",
    "%matplotlib inline\n",
    "\n",
    "df.hist(bins=len(sample))\n",
    "plt.show()"
   ]
  },
  {
   "cell_type": "markdown",
   "metadata": {
    "slideshow": {
     "slide_type": "slide"
    }
   },
   "source": [
    "<a id='dispersion'></a>\n",
    "\n",
    "### Measures of Dispersion\n",
    "\n",
    "---\n",
    "\n",
    "Measures of dispersion including the **range**, **variance**, and **standard deviation** tell you about the **spread of your data**.\n",
    "\n",
    "These measurements give complementary information to the measures of **central tendency** and are no less important.\n"
   ]
  },
  {
   "cell_type": "markdown",
   "metadata": {
    "slideshow": {
     "slide_type": "slide"
    }
   },
   "source": [
    "#### Range\n",
    "\n",
    "The range is the space between the **lowest and highest values of a distribution**. Because this metric only depends on two observations, it's a simple calculation. Range shows how widely the numbers in a set vary.\n",
    "\n",
    "To calculate the range:\n",
    "\n",
    "1. Sort the `sample` object in ascending order.\n",
    "- Subtract the first item from the last item.\n",
    "- Compare your result with `numpy`'s `ptp()` method, which accomplishes the same task.\n"
   ]
  },
  {
   "cell_type": "code",
   "execution_count": 22,
   "metadata": {
    "slideshow": {
     "slide_type": "subslide"
    }
   },
   "outputs": [
    {
     "name": "stdout",
     "output_type": "stream",
     "text": [
      "Max is 356\n",
      "Min is 2\n",
      "Range is 354\n",
      "Using np.ptp, range is 354\n"
     ]
    }
   ],
   "source": [
    "sample = [3, 75, 98, 2, 10, 3, 14, 99, 44, 25, 31, 100, 356, 4, 23, 55, 327, 64, 6, 20]\n",
    "\n",
    "# Find range with max() and min():\n",
    "print(f\"Max is {max(sample)}\")\n",
    "print(f\"Min is {min(sample)}\")\n",
    "print(f\"Range is {max(sample) - min(sample)}\")\n",
    "# Find range with np.ptp():\n",
    "\n",
    "print(f\"Using np.ptp, range is {np.ptp(sample)}\")"
   ]
  },
  {
   "cell_type": "markdown",
   "metadata": {
    "slideshow": {
     "slide_type": "slide"
    }
   },
   "source": [
    "#### Variance\n",
    "\n",
    "The variance is a numeric value used to describe the **degree of spread** in a distribution of the numbers.\n",
    "\n",
    "Variance is calculated by:\n",
    "- subtracting each value from the mean\n",
    "- squaring this difference\n",
    "- finding the average of these differences (ie finding the sum, then dividing by n)\n",
    "\n",
    "In Python variance can be calculated with:\n",
    "```python\n",
    "variance = []\n",
    "n_mean = np.mean(numbers)\n",
    "\n",
    "for num in numbers:\n",
    "  variance.append((num - n_mean) ** 2)\n",
    "\n",
    "variance = np.sum(variance)\n",
    "variance = variance / len(numbers)\n",
    "```\n",
    "\n",
    "\n",
    "Using `numpy` the variance is simply:\n",
    "```python\n",
    "variance = np.var(n)\n",
    "\n",
    "print(variance)\n",
    "9414.6475\n",
    "```\n",
    "\n"
   ]
  },
  {
   "cell_type": "markdown",
   "metadata": {
    "slideshow": {
     "slide_type": "slide"
    }
   },
   "source": [
    "#### Standard deviation\n",
    "\n",
    "The **standard deviation** (often written lowercase sigma: σ) is the **square root of the variance**.\n",
    "\n",
    "In other words, for a random variable X, \n",
    "\n",
    "```Latex\n",
    "var(X) = σ^2(X)\n",
    "```\n",
    "Because the **variance** is the **average of the distances from the mean _squared_**, the standard deviation tells us approximately, on average, the **distance of numbers in a distribution from the mean of the distribution**.\n",
    "\n",
    "The standard deviation can be calculated like so:\n",
    "```python\n",
    "std = np.std(n)\n",
    "\n",
    "print(std)\n",
    "97.029106457804716\n",
    "```\n",
    "\n",
    "![](assets/images/dist_with_var_std.png)\n"
   ]
  },
  {
   "cell_type": "code",
   "execution_count": 23,
   "metadata": {},
   "outputs": [],
   "source": [
    "# get a random sample from a random variable following a normal distribution with a mean of 5 and a variance of 12\n",
    "X = np.random.normal(0,15,1000)\n"
   ]
  },
  {
   "cell_type": "code",
   "execution_count": 24,
   "metadata": {},
   "outputs": [
    {
     "data": {
      "image/png": "[encoded data removed]",
      "text/plain": [
       "<Figure size 800x600 with 1 Axes>"
      ]
     },
     "metadata": {},
     "output_type": "display_data"
    }
   ],
   "source": [
    "fig, ax = plt.subplots(figsize=(8, 6))\n",
    "ax.hist(X, bins=round(len(X)/2))\n",
    "ax.plot(np.linspace(5, np.var(X), num=50), np.ones(50), label=\"Variance\")\n",
    "ax.plot(np.linspace(5, (np.var(X))**(1/2), num=20),\n",
    "        1.5*np.ones(20), label=\"Std\")\n",
    "\n",
    "ax.legend()\n",
    "ax.set_title('Distribution with variance and standard deviation', fontsize=20)\n",
    "plt.show()"
   ]
  },
  {
   "cell_type": "code",
   "execution_count": null,
   "metadata": {},
   "outputs": [],
   "source": []
  },
  {
   "cell_type": "code",
   "execution_count": null,
   "metadata": {},
   "outputs": [],
   "source": []
  },
  {
   "cell_type": "code",
   "execution_count": 25,
   "metadata": {},
   "outputs": [
    {
     "name": "stdout",
     "output_type": "stream",
     "text": [
      "variance is 3429.3841666666663\n"
     ]
    }
   ],
   "source": [
    "#find the variance for ldn_sun\n",
    "variance = np.var(ldn_sun)\n",
    "print(f\"variance is {variance}\")"
   ]
  },
  {
   "cell_type": "code",
   "execution_count": 26,
   "metadata": {},
   "outputs": [
    {
     "name": "stdout",
     "output_type": "stream",
     "text": [
      "standard deviation is 58.56094403838335\n"
     ]
    }
   ],
   "source": [
    "#find the standard deviation for ldn_sun\n",
    "print(f\"standard deviation is {np.std(ldn_sun)}\")"
   ]
  },
  {
   "cell_type": "code",
   "execution_count": 27,
   "metadata": {},
   "outputs": [
    {
     "name": "stdout",
     "output_type": "stream",
     "text": [
      "standard deviation is 45.149531651317645\n"
     ]
    }
   ],
   "source": [
    "#find the standard deviation for nyc_sun\n",
    "print(f\"standard deviation is {np.std(nyc_sun)}\")"
   ]
  },
  {
   "cell_type": "markdown",
   "metadata": {},
   "source": [
    "What can you conclude from the standard deviations that you found for ldn_sun and nyc_sun?  How would you explain the difference?\n"
   ]
  },
  {
   "cell_type": "code",
   "execution_count": null,
   "metadata": {},
   "outputs": [],
   "source": []
  }
 ],
 "metadata": {
  "anaconda-cloud": {},
  "kernelspec": {
   "display_name": "Python 3 (ipykernel)",
   "language": "python",
   "name": "python3"
  },
  "language_info": {
   "codemirror_mode": {
    "name": "ipython",
    "version": 3
   },
   "file_extension": ".py",
   "mimetype": "text/x-python",
   "name": "python",
   "nbconvert_exporter": "python",
   "pygments_lexer": "ipython3",
   "version": "3.9.7"
  },
  "toc": {
   "nav_menu": {},
   "number_sections": false,
   "sideBar": true,
   "skip_h1_title": false,
   "title_cell": "Table of Contents",
   "title_sidebar": "Contents",
   "toc_cell": false,
   "toc_position": {},
   "toc_section_display": "block",
   "toc_window_display": false
  },
  "varInspector": {
   "cols": {
    "lenName": 16,
    "lenType": 16,
    "lenVar": 40
   },
   "kernels_config": {
    "python": {
     "delete_cmd_postfix": "",
     "delete_cmd_prefix": "del ",
     "library": "var_list.py",
     "varRefreshCmd": "print(var_dic_list())"
    },
    "r": {
     "delete_cmd_postfix": ") ",
     "delete_cmd_prefix": "rm(",
     "library": "var_list.r",
     "varRefreshCmd": "cat(var_dic_list()) "
    }
   },
   "types_to_exclude": [
    "module",
    "function",
    "builtin_function_or_method",
    "instance",
    "_Feature"
   ],
   "window_display": false
  }
 },
 "nbformat": 4,
 "nbformat_minor": 1
}
