{
 "cells": [
  {
   "cell_type": "markdown",
   "id": "ad078ff4",
   "metadata": {},
   "source": [
    "\n",
    "<img src=\"http://imgur.com/1ZcRyrc.png\" style=\"float: left; margin: 20px; height: 55px\">\n",
    "\n",
    "## Introduction to `pandas` - lab Exercise\n",
    "\n",
    "Consider the Superstore dataset, which consist of several tables stored as .csv files.\n",
    "\n",
    "- Products Table (products.csv)\n",
    "- Orders Table (orders.csv)\n",
    "- Returns Table (returns.csv)\n",
    "\n",
    "\n",
    "The Products Table contains the following attributes:\n",
    "\n",
    "- **product_id** - \tThe unique identifier value for the product in the order.\n",
    "- **category** - \tThe product's highest level category.\n",
    "- **sub_category** - \tThe classification of the product within the high-level category.\n",
    "- **product_name** - \tThe name of the product.\n",
    "- **product_cost_to_consumer** - \tThe cost of each product on a single quantity basis.\n",
    "\n",
    "Let's explore the Products table using what we have learned about Pandas so far."
   ]
  },
  {
   "cell_type": "code",
   "execution_count": 1,
   "id": "c25d650a",
   "metadata": {},
   "outputs": [],
   "source": [
    "# import the required libraries first!\n",
    "import pandas as pd\n",
    "import numpy as np"
   ]
  },
  {
   "cell_type": "markdown",
   "id": "b63ea164",
   "metadata": {},
   "source": [
    "Q1. Read in the products.csv file that is in the `datasets` directory into a DataFrame called `products` (You may have to go up one folder to find it, type \"../\" and press the TAB key)\n",
    "\n"
   ]
  },
  {
   "cell_type": "code",
   "execution_count": null,
   "id": "8e5eae20",
   "metadata": {},
   "outputs": [],
   "source": [
    "#Q1 Answer here\n",
    "datasets_1=pd.read_csv('./datasets/pro')"
   ]
  },
  {
   "cell_type": "markdown",
   "id": "ae1e0a02",
   "metadata": {},
   "source": [
    "Q2. Print the first 4 rows of the `products` DataFrame.\n"
   ]
  },
  {
   "cell_type": "code",
   "execution_count": null,
   "id": "818bcd5d",
   "metadata": {},
   "outputs": [],
   "source": [
    "#Q2 answer here\n"
   ]
  },
  {
   "cell_type": "markdown",
   "id": "30a8632c",
   "metadata": {},
   "source": [
    "Q3. Identify the shape of the `products` DataFrame (how many rows and columns?)\n"
   ]
  },
  {
   "cell_type": "code",
   "execution_count": null,
   "id": "c7199a89",
   "metadata": {},
   "outputs": [],
   "source": [
    "#Q3 answer here\n"
   ]
  },
  {
   "cell_type": "markdown",
   "id": "0d2c19d8",
   "metadata": {},
   "source": [
    "Q4. Get information about the number of null values, data types, memory usage of the DataFrame."
   ]
  },
  {
   "cell_type": "code",
   "execution_count": null,
   "id": "2aa17e00",
   "metadata": {},
   "outputs": [],
   "source": [
    "#Q4 Answer here\n"
   ]
  },
  {
   "cell_type": "markdown",
   "id": "76e6e90f",
   "metadata": {},
   "source": [
    "Q5. How many products of each category are there?"
   ]
  },
  {
   "cell_type": "code",
   "execution_count": null,
   "id": "658c4bca",
   "metadata": {},
   "outputs": [],
   "source": [
    "#Q5 Answer here\n"
   ]
  },
  {
   "cell_type": "markdown",
   "id": "979822d3",
   "metadata": {},
   "source": [
    "Q6. What is the difference between using `unique()` and `nunique()`? Which one can be applied on the DataFrame and which one can be used on a Series, for example the `sub_category` column?"
   ]
  },
  {
   "cell_type": "code",
   "execution_count": null,
   "id": "86e98f8e",
   "metadata": {},
   "outputs": [],
   "source": [
    "# Q6 Test out here\n"
   ]
  },
  {
   "cell_type": "markdown",
   "id": "70ea2a18",
   "metadata": {},
   "source": [
    "Q7. Get some descriptive statistics about the numeric variable(s): count, mean, std dev, etc..."
   ]
  },
  {
   "cell_type": "code",
   "execution_count": null,
   "id": "13626c54",
   "metadata": {},
   "outputs": [],
   "source": [
    "#Q7 Answer here\n"
   ]
  },
  {
   "cell_type": "markdown",
   "id": "8d96e8f9",
   "metadata": {},
   "source": [
    "Q8. Using `.loc()`, find all the products in rows with index 10 - 20, showing the product_ID and product name only."
   ]
  },
  {
   "cell_type": "code",
   "execution_count": null,
   "id": "f234d2a6",
   "metadata": {},
   "outputs": [],
   "source": [
    "#Q8 Answer here\n"
   ]
  },
  {
   "cell_type": "markdown",
   "id": "5f457c78",
   "metadata": {},
   "source": [
    "Q9. Using `.iloc()`, get the products in rows with index offset from 10 to 20 and the product id and product name columns."
   ]
  },
  {
   "cell_type": "code",
   "execution_count": null,
   "id": "a9b511e0",
   "metadata": {},
   "outputs": [],
   "source": [
    "#Q9 Answer here\n"
   ]
  },
  {
   "cell_type": "markdown",
   "id": "88b16e75",
   "metadata": {},
   "source": [
    "Q10. What is the mean product cost to consumer for all products?"
   ]
  },
  {
   "cell_type": "code",
   "execution_count": null,
   "id": "a923c8f0",
   "metadata": {},
   "outputs": [],
   "source": [
    "#Q10 Answer here\n"
   ]
  },
  {
   "cell_type": "markdown",
   "id": "7aa7ba65",
   "metadata": {},
   "source": [
    "Q11. Find all the products in the category 'Furniture'."
   ]
  },
  {
   "cell_type": "code",
   "execution_count": null,
   "id": "e77ca084",
   "metadata": {},
   "outputs": [],
   "source": [
    "#Q11 Answer here\n"
   ]
  },
  {
   "cell_type": "markdown",
   "id": "228aa717",
   "metadata": {},
   "source": [
    "Q12. What is the mean product cost to consumer for products in the category 'Furniture'?"
   ]
  },
  {
   "cell_type": "code",
   "execution_count": null,
   "id": "aa4f2b2a",
   "metadata": {},
   "outputs": [],
   "source": [
    "#Q12 Answer here\n"
   ]
  },
  {
   "cell_type": "markdown",
   "id": "c4eacb9e",
   "metadata": {},
   "source": [
    "Q13. Find all the products in the category \"Office Supplies\" that have a product cost to consumer more than 100."
   ]
  },
  {
   "cell_type": "code",
   "execution_count": null,
   "id": "64c33d8d",
   "metadata": {},
   "outputs": [],
   "source": [
    "#Q13 Answer here\n"
   ]
  },
  {
   "cell_type": "markdown",
   "id": "c8782a94",
   "metadata": {},
   "source": [
    "Q14. Sort all the products by sub category, then product cost to consumer, showing the most expensive products in each sub category first."
   ]
  },
  {
   "cell_type": "code",
   "execution_count": null,
   "id": "273a13eb",
   "metadata": {},
   "outputs": [],
   "source": [
    "# Q14 Answer here\n"
   ]
  },
  {
   "cell_type": "markdown",
   "id": "31d235b0",
   "metadata": {},
   "source": [
    "Q15. What are the top 10 products with the highest product cost to consumer containing the word \"Recycled\" or \"Green\" in the product name?\n",
    "Return your answer as a DataFrame object."
   ]
  },
  {
   "cell_type": "code",
   "execution_count": null,
   "id": "7864c9e5",
   "metadata": {},
   "outputs": [],
   "source": [
    "#Q15 Answer here\n"
   ]
  },
  {
   "cell_type": "code",
   "execution_count": null,
   "id": "bac95515",
   "metadata": {},
   "outputs": [],
   "source": []
  }
 ],
 "metadata": {
  "kernelspec": {
   "display_name": "Python 3 (ipykernel)",
   "language": "python",
   "name": "python3"
  },
  "language_info": {
   "codemirror_mode": {
    "name": "ipython",
    "version": 3
   },
   "file_extension": ".py",
   "mimetype": "text/x-python",
   "name": "python",
   "nbconvert_exporter": "python",
   "pygments_lexer": "ipython3",
   "version": "3.10.13"
  }
 },
 "nbformat": 4,
 "nbformat_minor": 5
}
