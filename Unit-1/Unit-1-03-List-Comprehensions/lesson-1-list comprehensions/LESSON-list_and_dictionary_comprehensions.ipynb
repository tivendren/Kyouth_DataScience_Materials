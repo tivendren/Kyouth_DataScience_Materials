{
 "cells": [
  {
   "cell_type": "markdown",
   "metadata": {
    "slideshow": {
     "slide_type": "slide"
    }
   },
   "source": [
    "<img src=\"http://imgur.com/1ZcRyrc.png\" style=\"float: left; margin: 20px; height: 55px\">\n",
    "\n",
    "# Python List & Dictionary Comprehensions\n",
    "\n",
    "---\n",
    "\n",
    "### Learning Objectives\n",
    "*After this lesson, you will be able to:*\n",
    "- Create list comprehensions \n",
    "- Create dictionary comprehensions \n",
    "- Use conditional logic (`if`/`else`) within list & dictionary comprehensions\n",
    "- Use `zip()` and `enumerate()` within list & dictionary comprehensions\n",
    "- Use nested list & dictionary comprehensions "
   ]
  },
  {
   "cell_type": "markdown",
   "metadata": {},
   "source": [
    "---\n",
    "\n",
    "### Lesson Guide\n",
    "\n",
    "- [Warm-Up on Python Basics](#warm-up)\n",
    "- [Basic List Comprehensions](#list_comprehensions)\n",
    "- [Basic Dictionary Comprehensions](#dictionary_comprehensions)\n",
    "- [Conditional Logic within Comprehensions](#conditional_comprehensions)\n",
    "- [Zip and Enumerate within Comprehensions](#zip_enumerate)\n",
    "- [Nested Comprehensions](#nested_comprehensions)"
   ]
  },
  {
   "cell_type": "markdown",
   "metadata": {},
   "source": [
    "<a id='warm-up'></a>\n",
    "\n",
    "### Warm-Up on  Python Basics\n",
    "\n",
    "---\n",
    "\n",
    "In the next 5 minutes try to write the code for the questions below on the Python basics that you reviewed yesterday."
   ]
  },
  {
   "cell_type": "markdown",
   "metadata": {},
   "source": [
    "#### Warm-Up A:  Remove the last element in `lstA` below, then sort it, insert the number `22` into the 5th position, and take a slice of the 7th through the 10th elements (inclusive). "
   ]
  },
  {
   "cell_type": "markdown",
   "metadata": {},
   "source": [
    "**Hint:** You can use the function `dir()` to find out which attributes and methods are available for any python object."
   ]
  },
  {
   "cell_type": "code",
   "execution_count": 10,
   "metadata": {
    "slideshow": {
     "slide_type": "subslide"
    }
   },
   "outputs": [],
   "source": [
    "lstA = [13,15,-4,8,23,25,17,44,-7,-10,0,1,5,0,2,8,45]"
   ]
  },
  {
   "cell_type": "code",
   "execution_count": null,
   "metadata": {},
   "outputs": [],
   "source": []
  },
  {
   "cell_type": "code",
   "execution_count": 11,
   "metadata": {},
   "outputs": [
    {
     "name": "stdout",
     "output_type": "stream",
     "text": [
      "None\n",
      "[-10, -7, -4, 0, 22, 0, 1, 2, 5, 8, 8, 13, 15, 17, 23, 25, 44]\n",
      "[1, 2, 5, 8]\n"
     ]
    }
   ],
   "source": [
    "lstA.pop()\n",
    "print(lstA.sort())\n",
    "lstA.insert(4,22)\n",
    "print(lstA)\n",
    "print(lstA[6:10])"
   ]
  },
  {
   "cell_type": "markdown",
   "metadata": {},
   "source": [
    "#### Warm-Up B:  Remove Diesel from `dictB` below.  Add Teddy to the dictionary with a value of 5. Get a list of the key, value tuples now in the dictionary."
   ]
  },
  {
   "cell_type": "code",
   "execution_count": 12,
   "metadata": {},
   "outputs": [],
   "source": [
    "dictB = {'Mabel':10,\n",
    "         'Wilbur':12,\n",
    "         'Diesel':4,\n",
    "         'Schatzie':9}"
   ]
  },
  {
   "cell_type": "code",
   "execution_count": 13,
   "metadata": {},
   "outputs": [
    {
     "data": {
      "text/plain": [
       "{'Mabel': 10, 'Wilbur': 12, 'Schatzie': 9}"
      ]
     },
     "execution_count": 13,
     "metadata": {},
     "output_type": "execute_result"
    }
   ],
   "source": [
    "#del dictB[\"Diesel\"]\n",
    "dictB.pop(\"Diesel\")\n",
    "dictB"
   ]
  },
  {
   "cell_type": "code",
   "execution_count": null,
   "metadata": {},
   "outputs": [],
   "source": [
    "dictB.popitem"
   ]
  },
  {
   "cell_type": "code",
   "execution_count": 14,
   "metadata": {
    "scrolled": true
   },
   "outputs": [
    {
     "data": {
      "text/plain": [
       "{'Mabel': 10, 'Wilbur': 12, 'Schatzie': 9, 'Teddy': 5}"
      ]
     },
     "execution_count": 14,
     "metadata": {},
     "output_type": "execute_result"
    }
   ],
   "source": [
    "dictB[\"Teddy\"]=5\n",
    "dictB"
   ]
  },
  {
   "cell_type": "code",
   "execution_count": 16,
   "metadata": {},
   "outputs": [
    {
     "name": "stdout",
     "output_type": "stream",
     "text": [
      "('Mabel', 10)\n",
      "('Wilbur', 12)\n",
      "('Schatzie', 9)\n",
      "('Teddy', 5)\n"
     ]
    }
   ],
   "source": [
    "new_list=dictB.items()\n",
    "\n",
    "for x in new_list:\n",
    "    print(x)"
   ]
  },
  {
   "cell_type": "markdown",
   "metadata": {},
   "source": [
    "<a id='list_comprehensions'></a>\n",
    "\n",
    "### Basic List Comprehensions\n",
    "\n",
    "---\n",
    "\n",
    "List comprehensions are a simple and powerful syntax that allow for fast, efficient, and intuitive manipulation of array-like data types.\n",
    "\n",
    "They are very useful replacements for iteration control statements!"
   ]
  },
  {
   "cell_type": "code",
   "execution_count": 18,
   "metadata": {},
   "outputs": [
    {
     "name": "stdout",
     "output_type": "stream",
     "text": [
      "[1, 4, 9, 16, 25, 36, 100, 144]\n"
     ]
    }
   ],
   "source": [
    "#Let's write a for-loop to take the list below and return a list where each element has been squared:\n",
    "numbers_A = [1,2,3,4,5,6,10,12]\n",
    "numbers_A2=[]\n",
    "for number in numbers_A:\n",
    "    numbers_A2.append(number**2)\n",
    "numbers_A2\n",
    "\n",
    "numbers_A3=[number**2 for number in numbers_A]\n",
    "print(numbers_A3)"
   ]
  },
  {
   "cell_type": "code",
   "execution_count": null,
   "metadata": {},
   "outputs": [],
   "source": []
  },
  {
   "cell_type": "code",
   "execution_count": null,
   "metadata": {},
   "outputs": [],
   "source": [
    "#Now, let's do the same thing with a list comprehension:\n",
    "numbers_B = [1,3,5,7,9,11,15]\n",
    "numbers_B2 = [number**2 for number in numbers_B]\n",
    "numbers_B2"
   ]
  },
  {
   "cell_type": "markdown",
   "metadata": {
    "slideshow": {
     "slide_type": "slide"
    }
   },
   "source": [
    "- Within the brackets these elements are similar to a for loop:\n",
    "  1. The **operation per element** or **expression for the outcome** comes first: `n**2`\n",
    "  2. Next is the **for loop variable assignment**: `for n`\n",
    "  3. Last comes the **list of elements to iterate over**: `in numbers_B`"
   ]
  },
  {
   "cell_type": "markdown",
   "metadata": {},
   "source": [
    "#### Quick Practice: Try these basic list comprehensions!"
   ]
  },
  {
   "cell_type": "code",
   "execution_count": 19,
   "metadata": {},
   "outputs": [
    {
     "data": {
      "text/plain": [
       "[56, 96, 76, 46, 26]"
      ]
     },
     "execution_count": 19,
     "metadata": {},
     "output_type": "execute_result"
    }
   ],
   "source": [
    "#Multiply every element in this list by 10, and then subtract 4:\n",
    "numbers = [6,10,8,5,3]\n",
    "a=[(number*10)-4 for number in numbers]\n",
    "a"
   ]
  },
  {
   "cell_type": "code",
   "execution_count": 21,
   "metadata": {},
   "outputs": [
    {
     "data": {
      "text/plain": [
       "['Alex', 'Tom', 'Kate', 'Emily', 'Hilde']"
      ]
     },
     "execution_count": 21,
     "metadata": {},
     "output_type": "execute_result"
    }
   ],
   "source": [
    "#Use .capitalize() to get a list of the names with the first letters capitalized:\n",
    "names = ['alex','TOM','kate','Emily','hilde']\n",
    "b=[name.capitalize() for name in names]\n",
    "b"
   ]
  },
  {
   "cell_type": "markdown",
   "metadata": {},
   "source": [
    "<a id='dictionary_comprehensions'></a>\n",
    "\n",
    "### Basic Dictionary Comprehensions\n",
    "\n",
    "---\n",
    "\n",
    "You can also use comprehensions to create dictionaries instead of lists!\n",
    "You'll need to use `{}` instead of `[]`, and you'll need to determine what you want the key:value pair to look like!"
   ]
  },
  {
   "cell_type": "code",
   "execution_count": 22,
   "metadata": {},
   "outputs": [
    {
     "data": {
      "text/plain": [
       "{'exasperated': 3, 'angry': 0, 'elated': 2, 'incredulous': 1}"
      ]
     },
     "execution_count": 22,
     "metadata": {},
     "output_type": "execute_result"
    }
   ],
   "source": [
    "#let's write a for-loop to create a dictionary that stores how many 'e's there are in the words below:\n",
    "words_A = ['exasperated','angry','elated','incredulous']\n",
    "c_e={}\n",
    "for x in words_A:\n",
    "    c_e[x]=x.count(\"e\")\n",
    "c_e\n",
    " \n"
   ]
  },
  {
   "cell_type": "code",
   "execution_count": 24,
   "metadata": {},
   "outputs": [
    {
     "data": {
      "text/plain": [
       "{'exasperated': 3, 'angry': 0, 'elated': 2, 'incredulous': 1}"
      ]
     },
     "execution_count": 24,
     "metadata": {},
     "output_type": "execute_result"
    }
   ],
   "source": [
    "{x:x.count(\"e\") for x in words_A}"
   ]
  },
  {
   "cell_type": "code",
   "execution_count": 25,
   "metadata": {},
   "outputs": [
    {
     "data": {
      "text/plain": [
       "{'embarrassed': 2, 'exhausted': 2, 'overjoyed': 2, 'embittered': 3}"
      ]
     },
     "execution_count": 25,
     "metadata": {},
     "output_type": "execute_result"
    }
   ],
   "source": [
    "#now let's do the same thing with a dictionary comprehension:\n",
    "words_B = ['embarrassed','exhausted','overjoyed','embittered']\n",
    "{x:x.count(\"e\") for x in words_B}"
   ]
  },
  {
   "cell_type": "code",
   "execution_count": 28,
   "metadata": {},
   "outputs": [
    {
     "data": {
      "text/plain": [
       "{'embarrassed': [2, 2],\n",
       " 'exhausted': [2, 1],\n",
       " 'overjoyed': [2, 0],\n",
       " 'embittered': [3, 0]}"
      ]
     },
     "execution_count": 28,
     "metadata": {},
     "output_type": "execute_result"
    }
   ],
   "source": [
    "#now let's do the same thing again, but this time, let's count both the 'e's and the 'a's:\n",
    "words_B = ['embarrassed','exhausted','overjoyed','embittered']\n",
    "{x:[x.count(\"e\"),x.count(\"a\")] for x in words_B}"
   ]
  },
  {
   "cell_type": "markdown",
   "metadata": {},
   "source": [
    "#### Quick Practice: Try these basic dictionary comprehensions!"
   ]
  },
  {
   "cell_type": "code",
   "execution_count": 29,
   "metadata": {},
   "outputs": [
    {
     "data": {
      "text/plain": [
       "{'bus': 3, 'train': 5, 'airplane': 8, 'tram': 4, 'helicopter': 10}"
      ]
     },
     "execution_count": 29,
     "metadata": {},
     "output_type": "execute_result"
    }
   ],
   "source": [
    "#Create a dictionary storing the length of each word in the list below:\n",
    "words = ['bus','train','airplane','tram','helicopter']\n",
    "\n",
    "wrds_len={}\n",
    "\n",
    "for word in words:\n",
    "    wrds_len[word]=len(word)\n",
    "    \n",
    "wrds_len\n",
    "\n"
   ]
  },
  {
   "cell_type": "code",
   "execution_count": 30,
   "metadata": {},
   "outputs": [
    {
     "data": {
      "text/plain": [
       "{'bus': 3, 'train': 5, 'airplane': 8, 'tram': 4, 'helicopter': 10}"
      ]
     },
     "execution_count": 30,
     "metadata": {},
     "output_type": "execute_result"
    }
   ],
   "source": [
    "{word:len(word) for word in words}"
   ]
  },
  {
   "cell_type": "code",
   "execution_count": 31,
   "metadata": {},
   "outputs": [
    {
     "data": {
      "text/plain": [
       "{'Grant': 5, 'Sketchley': 9, 'Reustle': 7, 'Huse': 4, 'Mellgard': 8}"
      ]
     },
     "execution_count": 31,
     "metadata": {},
     "output_type": "execute_result"
    }
   ],
   "source": [
    "#Create a dictionary that stores the length of each of the surnames in the list below, but with the names capitalized:\n",
    "#ie: 'Grant': 5, etc\n",
    "surnames = ['grant','Sketchley','REUSTLE','huse','Mellgard']\n",
    "\n",
    "{word.capitalize():len(word) for word in surnames}"
   ]
  },
  {
   "cell_type": "code",
   "execution_count": 33,
   "metadata": {},
   "outputs": [
    {
     "data": {
      "text/plain": [
       "{1: [1, 1], 2: [4, 8], 3: [9, 27], 4: [16, 64], 5: [25, 125]}"
      ]
     },
     "execution_count": 33,
     "metadata": {},
     "output_type": "execute_result"
    }
   ],
   "source": [
    "#Create a dictionary that stores the square and the cube of each of the numbers below:\n",
    "numbers = [1,2,3,4,5]\n",
    "new_num_dict={num:[num**2,num**3] for num in numbers}\n",
    "new_num_dict"
   ]
  },
  {
   "cell_type": "markdown",
   "metadata": {},
   "source": [
    "<a id='conditional_comprehensions'></a>\n",
    "\n",
    "### Conditional Logic within Comprehensions\n",
    "\n",
    "---\n",
    "\n",
    "You can use if/else statements within comprehensions, just the same way that you can in a for loop! \n",
    "\n",
    "A rule of thumb is:\n",
    "- If the 'if' is related to **changing the outcome** you actually have, then it goes at **the beginning of your comprehension** after the expression for the outcome\n",
    "- If the 'if' is **filtering out some of the values** (for example, you ONLY want to find the square roots of the positive numbers in a list, and skip all the negatives), then it goes right **at the end of your comprehension**"
   ]
  },
  {
   "cell_type": "code",
   "execution_count": 35,
   "metadata": {
    "slideshow": {
     "slide_type": "subslide"
    }
   },
   "outputs": [
    {
     "data": {
      "text/plain": [
       "[0, 0, 0, 1, 1]"
      ]
     },
     "execution_count": 35,
     "metadata": {},
     "output_type": "execute_result"
    }
   ],
   "source": [
    "#Let's write a for-loop to binarize the list of numbers below depending on whether they are above or below 10\n",
    "#(If the number is below 10, we replace it with 0; if it's above 10, we replace it with 1)\n",
    "numbers_A = [5,7,8,19,30]\n",
    "[0 if n < 10 else 1 for n in numbers_A]"
   ]
  },
  {
   "cell_type": "code",
   "execution_count": 36,
   "metadata": {},
   "outputs": [
    {
     "data": {
      "text/plain": [
       "[1, 0, 0, 1, 1]"
      ]
     },
     "execution_count": 36,
     "metadata": {},
     "output_type": "execute_result"
    }
   ],
   "source": [
    "#Now let's do the same thing with a list comprehension:\n",
    "numbers_B = [34,2,8,13,20]\n",
    "[0 if n < 10 else 1 for n in numbers_B]"
   ]
  },
  {
   "cell_type": "code",
   "execution_count": 42,
   "metadata": {},
   "outputs": [
    {
     "data": {
      "text/plain": [
       "{'ostentatious': 'long',\n",
       " 'house': 'short',\n",
       " 'industrial': 'long',\n",
       " 'dog': 'short',\n",
       " 'eat': 'short'}"
      ]
     },
     "execution_count": 42,
     "metadata": {},
     "output_type": "execute_result"
    }
   ],
   "source": [
    "#Let's write a dictionary comprehension to store whether each word is 'short' or 'long' in the list below\n",
    "#If the length of the word is over six letters, then we'll say it's 'long'; otherwise it's 'short'\n",
    "#We want to skip over any items that aren't words\n",
    "lst_A = ['ostentatious','house','industrial', None,'dog',8,'eat']\n",
    "\n",
    "{word:\"long\" if len(word)>6 else \"short\" for word in lst_A if isinstance(word,str)}"
   ]
  },
  {
   "cell_type": "markdown",
   "metadata": {},
   "source": [
    "#### Quick Practice: Try these comprehensions with conditionals!"
   ]
  },
  {
   "cell_type": "code",
   "execution_count": 43,
   "metadata": {},
   "outputs": [
    {
     "data": {
      "text/plain": [
       "{'cat': 3, 'elephant': 8, 'rabbit': 6}"
      ]
     },
     "execution_count": 43,
     "metadata": {},
     "output_type": "execute_result"
    }
   ],
   "source": [
    "#Write a dictionary comprehension to store the length of each of the words in the list below, \n",
    "#but only for the words that end in 't'!\n",
    "words = ['cat','dog','elephant','rabbit','lizard']\n",
    "\n",
    "{word:len(word) for word in words if word[-1] ==\"t\"}"
   ]
  },
  {
   "cell_type": "code",
   "execution_count": 47,
   "metadata": {},
   "outputs": [
    {
     "data": {
      "text/plain": [
       "[8, 15, 9, 20, 21]"
      ]
     },
     "execution_count": 47,
     "metadata": {},
     "output_type": "execute_result"
    }
   ],
   "source": [
    "#Write a list comprehension to multiply all the even numbers by 2 and all the odd numbers by 3\n",
    "#BUT only do this for the positive numbers!\n",
    "#(remember, you can use % to find the remainder after division for two numbers, \n",
    "#so 10%5 would be 0 because 5 fits into 10 evenly with no remainder)\n",
    "numbers = [4,5,3,10,-6,7]\n",
    "\n",
    "[num*2 if num%2==0  else num*3 for num in numbers if num > 0]"
   ]
  },
  {
   "cell_type": "markdown",
   "metadata": {},
   "source": [
    "<a id='zip_enumerate'></a>\n",
    "\n",
    "### Zip and Enumerate within Comprehensions\n",
    "\n",
    "---\n",
    "\n",
    "The functions `zip()` and `enumerate()` can be really helpful for list and dictionary comprehensions!\n",
    "\n",
    "`zip()` is great for pairing together items from two different lists.\n",
    "\n",
    "`enumerate()` is helpful when you want to use both the items and also the position of the item in the list. It provides a count for each item. "
   ]
  },
  {
   "cell_type": "code",
   "execution_count": 52,
   "metadata": {},
   "outputs": [
    {
     "data": {
      "text/plain": [
       "{'Tokyo': 37.8,\n",
       " 'Shanghai': 34.9,\n",
       " 'Jakarta': 31.7,\n",
       " 'Delhi': 26.5,\n",
       " 'Seoul': 25.5}"
      ]
     },
     "execution_count": 52,
     "metadata": {},
     "output_type": "execute_result"
    }
   ],
   "source": [
    "#Let's write a for-loop to create a dictionary that stores the populations of the cities below:\n",
    "cities_A = ['Tokyo','Shanghai','Jakarta','Delhi','Seoul']\n",
    "populations_A = [37.8,34.9,31.7,26.5,25.5]\n",
    "\n",
    "combined_city=zip(cities_A,populations_A)\n",
    "{keys:values for keys,values in combined_city}"
   ]
  },
  {
   "cell_type": "code",
   "execution_count": 55,
   "metadata": {},
   "outputs": [
    {
     "data": {
      "text/plain": [
       "{'Karachi': 25.1, 'Guangzhou': 25.0, 'Beijing': 24.9, 'Shenzhen': 23.3}"
      ]
     },
     "execution_count": 55,
     "metadata": {},
     "output_type": "execute_result"
    }
   ],
   "source": [
    "#Let's write a dictionary comprehension to store the population of the cities below to the nearest million, \n",
    "#but ONLY if they're more than 22 million\n",
    "cities_B = ['Karachi','Guangzhou','Beijing','Shenzhen','Mexico City']\n",
    "populations_B = [25.1,25.0,24.9,23.3,21.5]\n",
    "\n",
    "combined_city_2=zip(cities_B,populations_B)\n",
    "{keys:values for keys,values in combined_city_2 if values > 22}"
   ]
  },
  {
   "cell_type": "code",
   "execution_count": 64,
   "metadata": {},
   "outputs": [
    {
     "name": "stdout",
     "output_type": "stream",
     "text": [
      "1 Tokyo\n",
      "2 Shanghai\n",
      "3 Jakarta\n",
      "4 Delhi\n",
      "5 Seoul\n",
      "6 Karachi\n",
      "7 Guangzhou\n",
      "8 Beijing\n",
      "9 Shenzhen\n",
      "10 Mexico City\n"
     ]
    }
   ],
   "source": [
    "#Let's combine the two lists of cities together and then write a list comprehension to get a list of strings \n",
    "#that looks like ['1 Tokyo','2 Shanghai',...]\n",
    "\n",
    "all_cities=cities_A+cities_B\n",
    "\n",
    "for i,city in enumerate(all_cities):\n",
    "    print(f\"{i+1} {city}\")\n"
   ]
  },
  {
   "cell_type": "code",
   "execution_count": 67,
   "metadata": {},
   "outputs": [
    {
     "data": {
      "text/plain": [
       "['1 Tokyo',\n",
       " '2 Shanghai',\n",
       " '3 Jakarta',\n",
       " '4 Delhi',\n",
       " '5 Seoul',\n",
       " '6 Karachi',\n",
       " '7 Guangzhou',\n",
       " '8 Beijing',\n",
       " '9 Shenzhen',\n",
       " '10 Mexico City']"
      ]
     },
     "execution_count": 67,
     "metadata": {},
     "output_type": "execute_result"
    }
   ],
   "source": [
    "aa_list=[f\"{i+1} {city}\" for i,city in enumerate(all_cities) ]\n",
    "aa_list"
   ]
  },
  {
   "cell_type": "code",
   "execution_count": 70,
   "metadata": {},
   "outputs": [
    {
     "data": {
      "text/plain": [
       "[37.8, 34.9, 31.7, 26.5, 25.5, 25.1, 25.0, 24.9, 23.3, 21.5]"
      ]
     },
     "execution_count": 70,
     "metadata": {},
     "output_type": "execute_result"
    }
   ],
   "source": [
    "all_pop=populations_A+populations_B\n",
    "all_pop"
   ]
  },
  {
   "cell_type": "code",
   "execution_count": 73,
   "metadata": {},
   "outputs": [
    {
     "data": {
      "text/plain": [
       "['Tokyo',\n",
       " 'Shanghai',\n",
       " 'Jakarta',\n",
       " 'Delhi',\n",
       " 'Seoul',\n",
       " 'Karachi',\n",
       " 'Guangzhou',\n",
       " 'Beijing',\n",
       " 'Shenzhen',\n",
       " 'Mexico City']"
      ]
     },
     "execution_count": 73,
     "metadata": {},
     "output_type": "execute_result"
    }
   ],
   "source": [
    "all_cities"
   ]
  },
  {
   "cell_type": "code",
   "execution_count": 85,
   "metadata": {},
   "outputs": [
    {
     "data": {
      "text/plain": [
       "{'Tokyo': (1, 37.8),\n",
       " 'Shanghai': (2, 34.9),\n",
       " 'Jakarta': (3, 31.7),\n",
       " 'Delhi': (4, 26.5),\n",
       " 'Seoul': (5, 25.5),\n",
       " 'Karachi': (6, 25.1),\n",
       " 'Guangzhou': (7, 25.0),\n",
       " 'Beijing': (8, 24.9)}"
      ]
     },
     "execution_count": 85,
     "metadata": {},
     "output_type": "execute_result"
    }
   ],
   "source": [
    "#Let's create a dictionary that holds each city as the key, \n",
    "#and a tuple containing the ranking of the city and its population as the value\n",
    "#but ONLY for the top 8 cities\n",
    "#each entry should look like:  'Delhi': (4, 26.5)\n",
    "\n",
    "all_pop=populations_A+populations_B\n",
    "\n",
    "{city:(i+1,value) for i,(city,value) in enumerate(zip(all_cities,all_pop)) if i <8}\n",
    "# {city:(i,values) for (i,city),values in zip(enumerate(all_cities),all_pop)}"
   ]
  },
  {
   "cell_type": "code",
   "execution_count": null,
   "metadata": {},
   "outputs": [],
   "source": [
    "# first combine all the cities and all the populations\n",
    "\n",
    "all_cities = cities_A + cities_B\n",
    "all_pop = populations_A+populations_B"
   ]
  },
  {
   "cell_type": "code",
   "execution_count": null,
   "metadata": {},
   "outputs": [],
   "source": [
    "# then find the rankings by using enumerate, then zip with the population\n"
   ]
  },
  {
   "cell_type": "markdown",
   "metadata": {},
   "source": [
    "#### Quick Practice: Try these comprehensions with zip and enumerate!"
   ]
  },
  {
   "cell_type": "code",
   "execution_count": 88,
   "metadata": {},
   "outputs": [
    {
     "data": {
      "text/plain": [
       "{'Faye': 41, 'Ollie': 25, 'Roberto': 42}"
      ]
     },
     "execution_count": 88,
     "metadata": {},
     "output_type": "execute_result"
    }
   ],
   "source": [
    "#create a dictionary that stores each person's name with the total number of hours they worked last week\n",
    "#each entry should look like:   'Ollie': 25 \n",
    "#hint: use the sum() function\n",
    "employees = ['Faye','Ollie','Roberto']\n",
    "hours = [(5,8,10,10,8),(4,0,6,10,5),(8,8,7,9,10)]\n",
    "\n",
    "\n",
    "{key:sum(values) for key,values in zip(employees,hours)}"
   ]
  },
  {
   "cell_type": "code",
   "execution_count": 93,
   "metadata": {},
   "outputs": [
    {
     "data": {
      "text/plain": [
       "[('Matt', 1),\n",
       " ('Keri', 2),\n",
       " ('Raushaun', 3),\n",
       " ('CJ', 4),\n",
       " ('Kush', 19),\n",
       " ('Precious', 20)]"
      ]
     },
     "execution_count": 93,
     "metadata": {},
     "output_type": "execute_result"
    }
   ],
   "source": [
    "#the following is a list of 20 students in order of how well they did on an exam\n",
    "#the top three students and the bottom three students will change sets\n",
    "#create a list of only the top three students and the bottom three students, with their ranking\n",
    "#each entry should look like:   ('Matt', 1)\n",
    "students = ['Matt','Keri','Raushaun','CJ','Sean',\n",
    "            'Abdullah','Chris','Mabel','Anna','Liza',\n",
    "            'Sam','Alfie','Emma','Michael','Boris',\n",
    "            'Fred','Demi','Renata','Kush','Precious']\n",
    "\n",
    "[(name,i+1) for i,name in enumerate(students) if i <4 or i > len(students)-3]\n"
   ]
  },
  {
   "cell_type": "markdown",
   "metadata": {},
   "source": [
    "Solution:\n",
    "\n",
    "<p style='color:white'>\n",
    "[(s, i) for i, s in enumerate(students, 1) \n",
    " if i <=3 or i >= len(students)-2 ]"
   ]
  },
  {
   "cell_type": "markdown",
   "metadata": {},
   "source": [
    "<a id='with_pandas'></a>\n",
    "\n",
    "### Application of Comprehensions with Pandas\n",
    "\n",
    "---\n",
    "\n",
    "It's very easy to create a dataframe using a dictionary, so dictionary comprehensions in particular may come in handy!\n",
    "\n",
    "Here's an example below:"
   ]
  },
  {
   "cell_type": "code",
   "execution_count": 94,
   "metadata": {},
   "outputs": [],
   "source": [
    "import pandas as pd\n",
    "\n",
    "column_names = ['height','weight','age']\n",
    "values = [[62, 54, 60, 50], [180, 120, 200, 100], [33, 40, 25, 28]]"
   ]
  },
  {
   "cell_type": "code",
   "execution_count": 95,
   "metadata": {},
   "outputs": [
    {
     "data": {
      "text/plain": [
       "{'height': [62, 54, 60, 50],\n",
       " 'weight': [180, 120, 200, 100],\n",
       " 'age': [33, 40, 25, 28]}"
      ]
     },
     "execution_count": 95,
     "metadata": {},
     "output_type": "execute_result"
    }
   ],
   "source": [
    "{col:vals for col, vals in zip(column_names, values)}"
   ]
  },
  {
   "cell_type": "code",
   "execution_count": 96,
   "metadata": {},
   "outputs": [
    {
     "data": {
      "text/html": [
       "<div>\n",
       "<style scoped>\n",
       "    .dataframe tbody tr th:only-of-type {\n",
       "        vertical-align: middle;\n",
       "    }\n",
       "\n",
       "    .dataframe tbody tr th {\n",
       "        vertical-align: top;\n",
       "    }\n",
       "\n",
       "    .dataframe thead th {\n",
       "        text-align: right;\n",
       "    }\n",
       "</style>\n",
       "<table border=\"1\" class=\"dataframe\">\n",
       "  <thead>\n",
       "    <tr style=\"text-align: right;\">\n",
       "      <th></th>\n",
       "      <th>height</th>\n",
       "      <th>weight</th>\n",
       "      <th>age</th>\n",
       "    </tr>\n",
       "  </thead>\n",
       "  <tbody>\n",
       "    <tr>\n",
       "      <th>0</th>\n",
       "      <td>62</td>\n",
       "      <td>180</td>\n",
       "      <td>33</td>\n",
       "    </tr>\n",
       "    <tr>\n",
       "      <th>1</th>\n",
       "      <td>54</td>\n",
       "      <td>120</td>\n",
       "      <td>40</td>\n",
       "    </tr>\n",
       "    <tr>\n",
       "      <th>2</th>\n",
       "      <td>60</td>\n",
       "      <td>200</td>\n",
       "      <td>25</td>\n",
       "    </tr>\n",
       "    <tr>\n",
       "      <th>3</th>\n",
       "      <td>50</td>\n",
       "      <td>100</td>\n",
       "      <td>28</td>\n",
       "    </tr>\n",
       "  </tbody>\n",
       "</table>\n",
       "</div>"
      ],
      "text/plain": [
       "   height  weight  age\n",
       "0      62     180   33\n",
       "1      54     120   40\n",
       "2      60     200   25\n",
       "3      50     100   28"
      ]
     },
     "execution_count": 96,
     "metadata": {},
     "output_type": "execute_result"
    }
   ],
   "source": [
    "records = pd.DataFrame({col:vals for col, vals in zip(column_names, values)})\n",
    "records"
   ]
  },
  {
   "cell_type": "code",
   "execution_count": 98,
   "metadata": {},
   "outputs": [
    {
     "data": {
      "text/html": [
       "<div>\n",
       "<style scoped>\n",
       "    .dataframe tbody tr th:only-of-type {\n",
       "        vertical-align: middle;\n",
       "    }\n",
       "\n",
       "    .dataframe tbody tr th {\n",
       "        vertical-align: top;\n",
       "    }\n",
       "\n",
       "    .dataframe thead th {\n",
       "        text-align: right;\n",
       "    }\n",
       "</style>\n",
       "<table border=\"1\" class=\"dataframe\">\n",
       "  <thead>\n",
       "    <tr style=\"text-align: right;\">\n",
       "      <th></th>\n",
       "      <th>height</th>\n",
       "      <th>weight</th>\n",
       "      <th>age</th>\n",
       "    </tr>\n",
       "  </thead>\n",
       "  <tbody>\n",
       "    <tr>\n",
       "      <th>count</th>\n",
       "      <td>4.000000</td>\n",
       "      <td>4.000000</td>\n",
       "      <td>4.000000</td>\n",
       "    </tr>\n",
       "    <tr>\n",
       "      <th>mean</th>\n",
       "      <td>56.500000</td>\n",
       "      <td>150.000000</td>\n",
       "      <td>31.500000</td>\n",
       "    </tr>\n",
       "    <tr>\n",
       "      <th>std</th>\n",
       "      <td>5.507571</td>\n",
       "      <td>47.609523</td>\n",
       "      <td>6.557439</td>\n",
       "    </tr>\n",
       "    <tr>\n",
       "      <th>min</th>\n",
       "      <td>50.000000</td>\n",
       "      <td>100.000000</td>\n",
       "      <td>25.000000</td>\n",
       "    </tr>\n",
       "    <tr>\n",
       "      <th>25%</th>\n",
       "      <td>53.000000</td>\n",
       "      <td>115.000000</td>\n",
       "      <td>27.250000</td>\n",
       "    </tr>\n",
       "    <tr>\n",
       "      <th>50%</th>\n",
       "      <td>57.000000</td>\n",
       "      <td>150.000000</td>\n",
       "      <td>30.500000</td>\n",
       "    </tr>\n",
       "    <tr>\n",
       "      <th>75%</th>\n",
       "      <td>60.500000</td>\n",
       "      <td>185.000000</td>\n",
       "      <td>34.750000</td>\n",
       "    </tr>\n",
       "    <tr>\n",
       "      <th>max</th>\n",
       "      <td>62.000000</td>\n",
       "      <td>200.000000</td>\n",
       "      <td>40.000000</td>\n",
       "    </tr>\n",
       "  </tbody>\n",
       "</table>\n",
       "</div>"
      ],
      "text/plain": [
       "          height      weight        age\n",
       "count   4.000000    4.000000   4.000000\n",
       "mean   56.500000  150.000000  31.500000\n",
       "std     5.507571   47.609523   6.557439\n",
       "min    50.000000  100.000000  25.000000\n",
       "25%    53.000000  115.000000  27.250000\n",
       "50%    57.000000  150.000000  30.500000\n",
       "75%    60.500000  185.000000  34.750000\n",
       "max    62.000000  200.000000  40.000000"
      ]
     },
     "execution_count": 98,
     "metadata": {},
     "output_type": "execute_result"
    }
   ],
   "source": [
    "records.describe()"
   ]
  }
 ],
 "metadata": {
  "kernelspec": {
   "display_name": "Python 3 (ipykernel)",
   "language": "python",
   "name": "python3"
  },
  "language_info": {
   "codemirror_mode": {
    "name": "ipython",
    "version": 3
   },
   "file_extension": ".py",
   "mimetype": "text/x-python",
   "name": "python",
   "nbconvert_exporter": "python",
   "pygments_lexer": "ipython3",
   "version": "3.11.3"
  },
  "toc": {
   "nav_menu": {},
   "number_sections": false,
   "sideBar": true,
   "skip_h1_title": false,
   "title_cell": "Table of Contents",
   "title_sidebar": "Contents",
   "toc_cell": false,
   "toc_position": {},
   "toc_section_display": "block",
   "toc_window_display": false
  },
  "varInspector": {
   "cols": {
    "lenName": 16,
    "lenType": 16,
    "lenVar": 40
   },
   "kernels_config": {
    "python": {
     "delete_cmd_postfix": "",
     "delete_cmd_prefix": "del ",
     "library": "var_list.py",
     "varRefreshCmd": "print(var_dic_list())"
    },
    "r": {
     "delete_cmd_postfix": ") ",
     "delete_cmd_prefix": "rm(",
     "library": "var_list.r",
     "varRefreshCmd": "cat(var_dic_list()) "
    }
   },
   "types_to_exclude": [
    "module",
    "function",
    "builtin_function_or_method",
    "instance",
    "_Feature"
   ],
   "window_display": false
  }
 },
 "nbformat": 4,
 "nbformat_minor": 2
}
