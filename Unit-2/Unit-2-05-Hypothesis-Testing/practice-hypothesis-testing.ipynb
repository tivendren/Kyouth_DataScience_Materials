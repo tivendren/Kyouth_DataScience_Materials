{
 "cells": [
  {
   "cell_type": "markdown",
   "metadata": {},
   "source": [
    "<img src=\"http://imgur.com/1ZcRyrc.png\" style=\"float: left; margin: 20px; height: 55px\">\n",
    "\n",
    "# Review CLT, Confidence Intervals, and Hypothesis Testing\n",
    "\n",
    "\n",
    "---"
   ]
  },
  {
   "cell_type": "markdown",
   "metadata": {},
   "source": [
    "### Read in the housing data (code provided).\n",
    "\n",
    "You can find the original data [here](https://archive.ics.uci.edu/ml/machine-learning-databases/housing/housing.data)."
   ]
  },
  {
   "cell_type": "code",
   "execution_count": null,
   "metadata": {},
   "outputs": [],
   "source": [
    "import numpy as np\n",
    "import pandas as pd\n",
    "import matplotlib.pyplot as plt\n",
    "plt.style.use('fivethirtyeight')\n",
    "%matplotlib inline\n",
    "%config InlineBackend.figure_format = 'retina'"
   ]
  },
  {
   "cell_type": "code",
   "execution_count": null,
   "metadata": {},
   "outputs": [],
   "source": [
    "from sklearn.datasets import load_boston\n",
    "\n",
    "data_boston = load_boston()\n",
    "data = pd.DataFrame(data_boston.data,columns=data_boston.feature_names)\n",
    "NOX = data['NOX']\n",
    "AGE = data['AGE']\n"
   ]
  },
  {
   "cell_type": "markdown",
   "metadata": {},
   "source": [
    "### 1. Find the mean, standard deviation, and the standard error of the mean for variable `AGE`"
   ]
  },
  {
   "cell_type": "code",
   "execution_count": null,
   "metadata": {},
   "outputs": [],
   "source": [
    "# A:\n",
    "\n"
   ]
  },
  {
   "cell_type": "code",
   "execution_count": null,
   "metadata": {},
   "outputs": [],
   "source": [
    "# scipy standard error function\n",
    "from scipy.stats import sem\n",
    "sem(AGE)"
   ]
  },
  {
   "cell_type": "markdown",
   "metadata": {},
   "source": [
    "### 2. Generate a 90%, 95%, and 99% confidence interval for `AGE`\n",
    "\n",
    "You can use the `scipy.stats.t.interval` function to calculate confidence interval range.\n",
    "\n",
    "```python\n",
    "# Endpoints of the range that contains alpha percent of the distribution\n",
    "stats.t.interval(confidence, df, loc=0, scale=1)\t\n",
    "```\n",
    "\n",
    "Arguments:\n",
    "- `confidence` = confidence level, between 0 and 1\n",
    "- `df` = the degrees of freedom, will be the length of the vector -1.\n",
    "- `loc` = the mean of the t-distribution (your point estimate - mean of the variable)\n",
    "- `scale` = the standard deviation of the t-distribution (the standard error of your sample mean)\n",
    "\n",
    "**Interpret the results from all three confidence intervals.**"
   ]
  },
  {
   "cell_type": "code",
   "execution_count": null,
   "metadata": {},
   "outputs": [],
   "source": [
    "from scipy.stats import t"
   ]
  },
  {
   "cell_type": "code",
   "execution_count": null,
   "metadata": {},
   "outputs": [],
   "source": [
    "# A: "
   ]
  },
  {
   "cell_type": "markdown",
   "metadata": {},
   "source": [
    "### 3. Did you rely on the Central Limit Theorem in question 2? Why or why not? Explain."
   ]
  },
  {
   "cell_type": "code",
   "execution_count": null,
   "metadata": {},
   "outputs": [],
   "source": [
    "# A:\n"
   ]
  },
  {
   "cell_type": "markdown",
   "metadata": {},
   "source": [
    "### 4. For the variable `NOX`, generate a 95% confidence interval and interpret it."
   ]
  },
  {
   "cell_type": "code",
   "execution_count": null,
   "metadata": {},
   "outputs": [],
   "source": [
    "# A:\n"
   ]
  },
  {
   "cell_type": "markdown",
   "metadata": {},
   "source": [
    "### 5. For the variable `NOX`, we are going to test the hypothesis that the (true) mean is equal to the median in the sample\n",
    "\n",
    "In this case, we are performing the hypothesis test to test the mean based on a single sample.\n",
    "These are the steps:\n",
    "1. Define hypothesis\n",
    "2. Set alpha (Let alpha = 0.05)\n",
    "3. Calculate point estimate\n",
    "4. Calculate test statistic\n",
    "5. Find the p-value\n",
    "6. Interpret results"
   ]
  },
  {
   "cell_type": "code",
   "execution_count": null,
   "metadata": {},
   "outputs": [],
   "source": [
    "# A:\n",
    "## Step 1: Define hypotheses.\n",
    "### H_0: mu_NOX = M_NOX\n",
    "### H_A: mu_NOX != M_NOX\n",
    "\n",
    "## Step 2: alpha = 0.05.\n",
    "alpha = 0.05\n",
    "\n",
    "## Step 3: Calculate point estimate.\n",
    "sample_mean = NOX.mean()\n",
    "sample_median = 0.54\n",
    "sample_std = NOX.std()\n",
    "sample_size = len(NOX)\n",
    "\n",
    "## Step 4: Calculate test statistic.\n",
    "t_statistic = (sample_mean - sample_median)/(sample_std/sample_size**0.5)\n",
    "\n",
    "## Step 5: Find p-value.\n",
    "## t.sf is survival function, which is 1-cdf at a given value \n",
    "## (proportion of values at least as extreme as...)\n",
    "p_value = t.sf(np.abs(t_statistic), len(NOX)-1) * 2 \n",
    "\n",
    "\n",
    "## Because our alternative hypothesis is != (rather than greater than or less than),\n",
    "## we multiply our p-value by 2. (This is called a two-sided test.)\n",
    "print(\"Our sample median is {:.4f}.\".format(0.54))\n",
    "print(\"Our sample mean is {:.4f}.\".format(sample_mean))\n",
    "print(\"Our t-statistic is {:.6f}.\".format(t_statistic))\n",
    "print(\"Our p-value is {:.6f}.\".format(p_value))\n",
    "\n",
    "if p_value < alpha:\n",
    "    print(\"We reject our null hypothesis and conclude that the true mean NOX value is different from the median NOX value.\")\n",
    "elif p_value > alpha:\n",
    "    print(\"We fail to reject our null hypothesis and cannot conclude that the true mean NOX value is different from the median .\")\n",
    "else:\n",
    "    print(\"Our test is inconclusive.\")"
   ]
  },
  {
   "cell_type": "markdown",
   "metadata": {},
   "source": [
    "**1-sample t-test**\n",
    "\n",
    "To perform the t-test on a single sample, you can use `scipy.stats.ttest_1samp()`.\n",
    "\n",
    "Try it out. Do you get the same values?"
   ]
  },
  {
   "cell_type": "code",
   "execution_count": null,
   "metadata": {},
   "outputs": [],
   "source": [
    "from scipy import stats\n",
    "\n",
    "# Use stats.ttest_1samp() with appropriate parameters to check the results above"
   ]
  },
  {
   "cell_type": "markdown",
   "metadata": {},
   "source": [
    "### 6. What do you notice about the results from Exercise 4 and Exercise 5? \n",
    "\n",
    "**If you were going to generalize this to the relationship between hypothesis tests and confidence intervals, what might you say? Be specific.**"
   ]
  },
  {
   "cell_type": "code",
   "execution_count": null,
   "metadata": {},
   "outputs": [],
   "source": []
  }
 ],
 "metadata": {
  "anaconda-cloud": {},
  "kernelspec": {
   "display_name": "Python 3 (ipykernel)",
   "language": "python",
   "name": "python3"
  },
  "language_info": {
   "codemirror_mode": {
    "name": "ipython",
    "version": 3
   },
   "file_extension": ".py",
   "mimetype": "text/x-python",
   "name": "python",
   "nbconvert_exporter": "python",
   "pygments_lexer": "ipython3",
   "version": "3.9.7"
  },
  "toc": {
   "nav_menu": {},
   "number_sections": false,
   "sideBar": true,
   "skip_h1_title": true,
   "title_cell": "Table of Contents",
   "title_sidebar": "Contents",
   "toc_cell": false,
   "toc_position": {},
   "toc_section_display": "block",
   "toc_window_display": false
  }
 },
 "nbformat": 4,
 "nbformat_minor": 1
}
