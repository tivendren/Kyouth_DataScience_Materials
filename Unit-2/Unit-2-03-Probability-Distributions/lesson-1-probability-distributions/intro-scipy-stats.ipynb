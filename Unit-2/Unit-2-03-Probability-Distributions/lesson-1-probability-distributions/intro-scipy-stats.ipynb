{
 "cells": [
  {
   "cell_type": "code",
   "execution_count": null,
   "id": "5ea415e7",
   "metadata": {},
   "outputs": [],
   "source": [
    "import pandas as pd\n",
    "import numpy as np\n",
    "import matplotlib.pyplot as plt\n",
    "import seaborn as sns\n",
    "import scipy.stats as stats\n",
    "plt.style.use('ggplot')\n",
    "sns.set(font_scale=1.5)\n",
    "%config InlineBackend.figure_format = 'retina'\n",
    "%matplotlib inline"
   ]
  },
  {
   "cell_type": "markdown",
   "id": "763a48f4",
   "metadata": {},
   "source": [
    "# Example of Probability Calculations\n",
    "\n",
    "The explanation below is adapted from a [Stack Overflow Answer](https://stackoverflow.com/questions/12412895/how-to-calculate-probability-in-a-normal-distribution-given-mean-standard-devi)\n",
    "\n",
    "Let's say body temperature is normally distributed with mean 98.2 Fahrenheit and std dev 0.73 Fahrenheit."
   ]
  },
  {
   "cell_type": "code",
   "execution_count": null,
   "id": "6dec2f1a",
   "metadata": {},
   "outputs": [],
   "source": [
    "# Set the body temperature distribution to be normal\n",
    "mean_temp = 98.2\n",
    "std_temp = 0.73\n",
    "bodytemp_norm = stats.norm(loc=mean_temp, scale=std_temp)\n",
    "#where loc is the mean and scale is the std dev"
   ]
  },
  {
   "cell_type": "markdown",
   "id": "0a95e78b",
   "metadata": {},
   "source": [
    "## Probability Density Function\n",
    "\n",
    "We can plot the distribution using the probability density function, pdf. First we will generate a set of numbers from the distribution to plot."
   ]
  },
  {
   "cell_type": "code",
   "execution_count": null,
   "id": "03f6eadd",
   "metadata": {},
   "outputs": [],
   "source": [
    "# get a set of 50 numbers within 3 standard deviations from the mean\n",
    "x = np.linspace(mean_temp-3*std_temp,mean_temp+3*std_temp,50)\n",
    "\n",
    "# Calculate the probability density function (PDF) for the given parameters\n",
    "pdf = bodytemp_norm.pdf(x)"
   ]
  },
  {
   "cell_type": "code",
   "execution_count": null,
   "id": "dc5f825c",
   "metadata": {},
   "outputs": [],
   "source": [
    "# Create a plot for the pdf function\n",
    "figure,ax = plt.subplots(figsize=(5,3))\n",
    "\n",
    "# plot the numbers with the probability density function\n",
    "ax.plot(x, pdf,lw=4)\n",
    "ax.set_ylim([0,pdf.max()+pdf.max()*0.1])\n",
    "ax.set_ylabel('Probability Density Function (pdf)', fontsize=12)\n",
    "ax.set_title('Body Temperature Distribution')\n",
    "plt.show()"
   ]
  },
  {
   "cell_type": "markdown",
   "id": "7dd89a85",
   "metadata": {},
   "source": [
    "## Cumulative Density Function\n",
    "\n",
    "To find the probability that the body temperature of an individual has a value LESS than let's say 97.24, you'd use `cdf`, the Cumulative Density Function."
   ]
  },
  {
   "cell_type": "code",
   "execution_count": null,
   "id": "8165ae65",
   "metadata": {},
   "outputs": [],
   "source": [
    "#To find the probability that the variable has a value LESS than or equal to 97.4\n",
    "bodytemp_norm.cdf(97.24)"
   ]
  },
  {
   "cell_type": "markdown",
   "id": "7e8dd5e6",
   "metadata": {},
   "source": [
    "## Probability Density Function vs Cumulative Density Function\n",
    "\n",
    "The probability density function, `pdf(x)` gives the shape of the distribution, while the cumulative density function `cdf(x)` gives the probability that a randomly selected value from the distribution is less than **x**. We can see the results of the two functions in the plot below."
   ]
  },
  {
   "cell_type": "code",
   "execution_count": null,
   "id": "5f65d672",
   "metadata": {},
   "outputs": [],
   "source": [
    "# Using the same distribution and x values defined before\n",
    "\n",
    "# Calculate the cumulative distribution function (CDF) up to 97.24\n",
    "cdf_value = bodytemp_norm.cdf(97.24)\n",
    "\n",
    "# Plot the normal distribution\n",
    "plt.figure(figsize=(5, 3))\n",
    "plt.plot(x, pdf, 'b-', lw=2, label='Body Temp Distribution PDF')\n",
    "\n",
    "# Shade the area under the curve less than 97.4\n",
    "plt.fill_between(x, pdf, where=(x < 97.4), color='red', alpha=0.3, label='P(Temp < 97.24)')\n",
    "\n",
    "\n",
    "plt.title('Body Temperature Distribution with P(Temp < 97.24) Shaded', fontsize=12)\n",
    "plt.xlabel('X')\n",
    "plt.ylabel('Probability Density', fontsize=12)\n",
    "plt.legend(fontsize=12, loc='lower right')\n",
    "plt.grid(True)\n",
    "plt.show()\n",
    "\n",
    "print(f'Probability (X < 97.24) = {cdf_value:.4f}')"
   ]
  },
  {
   "cell_type": "markdown",
   "id": "408ada1d",
   "metadata": {},
   "source": [
    "## Survival Function\n",
    "\n",
    "To find the probability that the variable has a value GREATER than or\n",
    "equal to 97.24, you'd use the Survival Function, `sf` "
   ]
  },
  {
   "cell_type": "code",
   "execution_count": null,
   "id": "fa2e9901",
   "metadata": {},
   "outputs": [],
   "source": [
    "#To find the probability that the body temperature is greater than 97.24\n",
    "bodytemp_norm.sf(97.24)"
   ]
  },
  {
   "cell_type": "code",
   "execution_count": null,
   "id": "c4defde8",
   "metadata": {},
   "outputs": [],
   "source": [
    "## Can you modify the plot for the cdf function to show area returned by the result?\n"
   ]
  },
  {
   "cell_type": "markdown",
   "id": "6676d51c",
   "metadata": {},
   "source": [
    "## Percent Point Function\n",
    "\n",
    "To find the variate for which the probability is given, let's say the value which is needed to provide a 30% probability, you'd use the Percent Point Function, `ppf`"
   ]
  },
  {
   "cell_type": "code",
   "execution_count": null,
   "id": "c404056e",
   "metadata": {},
   "outputs": [],
   "source": [
    "# Find the temperature where there'sa 30% probability that a randomly selected individual has less than that value\n",
    "bodytemp_norm.ppf(0.30)"
   ]
  },
  {
   "cell_type": "code",
   "execution_count": null,
   "id": "08599ed9",
   "metadata": {},
   "outputs": [],
   "source": [
    "# Using the same distribution and x values defined before\n",
    "\n",
    "# Calculate the percent point function (PPF) for 0.30\n",
    "ppf_value = bodytemp_norm.ppf(0.30)\n",
    "\n",
    "# Plot the normal distribution\n",
    "plt.figure(figsize=(5, 3))\n",
    "plt.plot(x, pdf, 'b-', lw=2, label='Normal Distribution PDF')\n",
    "\n",
    "# Shade the area under the curve less than ppf value\n",
    "plt.fill_between(x, pdf, where=(x < ppf_value), color='red', alpha=0.3, label='P(Temp < ??)=0.30')\n",
    "\n",
    "\n",
    "plt.title('Body Temperature Distribution with Probability 30% Shaded', fontsize=12)\n",
    "plt.xlabel('X')\n",
    "plt.ylabel('Probability Density', fontsize=12)\n",
    "plt.legend(fontsize=12, loc='lower right')\n",
    "plt.grid(True)\n",
    "plt.show()\n",
    "\n",
    "print(f'Probability (X < {ppf_value:.3f}) = 0.30')"
   ]
  },
  {
   "cell_type": "markdown",
   "id": "afc053e2",
   "metadata": {},
   "source": [
    "## Generate random values from the distribution\n",
    "\n",
    "The `rvs` function will generate the required number of random values that fall in this distribution. "
   ]
  },
  {
   "cell_type": "code",
   "execution_count": null,
   "id": "9eac8f37",
   "metadata": {},
   "outputs": [],
   "source": [
    "# Generate 100 random numbers from this distribution\n",
    "random_temps = bodytemp_norm.rvs(100)\n",
    "\n",
    "# Plot the points - what is the difference in the plot when you generate 10, 100,1000, 10000 numbers?\n",
    "plt.hist(random_temps)"
   ]
  },
  {
   "cell_type": "code",
   "execution_count": null,
   "id": "bb5c3da2",
   "metadata": {},
   "outputs": [],
   "source": []
  }
 ],
 "metadata": {
  "kernelspec": {
   "display_name": "Python 3 (ipykernel)",
   "language": "python",
   "name": "python3"
  },
  "language_info": {
   "codemirror_mode": {
    "name": "ipython",
    "version": 3
   },
   "file_extension": ".py",
   "mimetype": "text/x-python",
   "name": "python",
   "nbconvert_exporter": "python",
   "pygments_lexer": "ipython3",
   "version": "3.9.7"
  }
 },
 "nbformat": 4,
 "nbformat_minor": 5
}
