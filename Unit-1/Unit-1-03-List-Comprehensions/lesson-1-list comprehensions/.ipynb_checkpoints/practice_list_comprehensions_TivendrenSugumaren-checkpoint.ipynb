{
 "cells": [
  {
   "cell_type": "markdown",
   "id": "ed6dc721",
   "metadata": {},
   "source": [
    "<img src=\"http://imgur.com/1ZcRyrc.png\" style=\"float: left; margin: 20px; height: 55px\">\n",
    "\n",
    "## Practice : List and Dictionary Comprehensions\n",
    "\n",
    "---\n",
    "\n",
    "Practice essentials of performing list and dictionary comprehensions in Python."
   ]
  },
  {
   "cell_type": "code",
   "execution_count": 2,
   "id": "d5573344",
   "metadata": {},
   "outputs": [],
   "source": [
    "import numpy as np\n",
    "import string"
   ]
  },
  {
   "cell_type": "markdown",
   "id": "653884d1",
   "metadata": {},
   "source": [
    "\n",
    "### Section 1: List comprehensions\n",
    "\n",
    "##### 1) Add 1 to every element in the list."
   ]
  },
  {
   "cell_type": "code",
   "execution_count": 8,
   "id": "e360aa54",
   "metadata": {},
   "outputs": [
    {
     "data": {
      "text/plain": [
       "[1, 2, 3, 4, 5, 6, 7, 8, 9, 10]"
      ]
     },
     "execution_count": 8,
     "metadata": {},
     "output_type": "execute_result"
    }
   ],
   "source": [
    "numbers = [0,1,2,3,4,5,6,7,8,9]\n",
    "[num+1 for num in numbers]"
   ]
  },
  {
   "cell_type": "markdown",
   "id": "cecd2241",
   "metadata": {},
   "source": [
    "#####  2) Binarize\" n so that any value greater than or equal to the mean of n is 1, otherwise 0."
   ]
  },
  {
   "cell_type": "code",
   "execution_count": 19,
   "id": "0323a527",
   "metadata": {},
   "outputs": [
    {
     "name": "stdout",
     "output_type": "stream",
     "text": [
      "19.666666666666668\n",
      "[0, 0, 0, 1, 0, 0, 1, 0, 1, 0, 1, 1, 0, 0, 0]\n"
     ]
    }
   ],
   "source": [
    "n = [1, 2, 7, 21, 3, 1, 62, 3, 34, 12, 73, 44, 12, 11, 9]\n",
    "\n",
    "mean=sum(n)/len(n)\n",
    "print(mean)\n",
    "\n",
    "g_l=[1 if x >= mean else 0 for x in n]\n",
    "print(g_l)"
   ]
  },
  {
   "cell_type": "markdown",
   "id": "eed09238",
   "metadata": {},
   "source": [
    "#####  3) Get the square and square root of all non-negative numbers in the list."
   ]
  },
  {
   "cell_type": "code",
   "execution_count": 20,
   "id": "e5a54a0d",
   "metadata": {},
   "outputs": [],
   "source": [
    "import math"
   ]
  },
  {
   "cell_type": "code",
   "execution_count": 21,
   "id": "c42a5562",
   "metadata": {},
   "outputs": [
    {
     "data": {
      "text/plain": [
       "[(0, 0.0), (2, 1.0), (100, 7.0710678118654755), (150, 8.660254037844387)]"
      ]
     },
     "execution_count": 21,
     "metadata": {},
     "output_type": "execute_result"
    }
   ],
   "source": [
    "n = [0, 1, 50, -23, -1, 75, -3]\n",
    "\n",
    "[(x*2,math.sqrt(x)) for x in n if x >= 0]"
   ]
  },
  {
   "cell_type": "markdown",
   "id": "88f3af3f",
   "metadata": {},
   "source": [
    "##### 4) Combine elements of these two lists item by item into list pairs:\n",
    "result should be: `[['a', 'z'], ['b', 'y'], ['c', 'x'], ['d', 'w']]`"
   ]
  },
  {
   "cell_type": "code",
   "execution_count": 25,
   "id": "5d6445cb",
   "metadata": {},
   "outputs": [
    {
     "data": {
      "text/plain": [
       "[['a', 'z'], ['b', 'y'], ['c', 'x'], ['d', 'w']]"
      ]
     },
     "execution_count": 25,
     "metadata": {},
     "output_type": "execute_result"
    }
   ],
   "source": [
    "a = ['a','b','c','d']\n",
    "z = ['z','y','x','w']\n",
    "\n",
    "[[x,y] for (x,y) in zip(a,z)]"
   ]
  },
  {
   "cell_type": "markdown",
   "id": "a8bb4a84",
   "metadata": {},
   "source": [
    "##### 5) Pair each index and element in this list into list pairs:\n",
    "result should be: `[[0, 'a'], [1, 'b'], [2, 'c'], [3, 'd']]`"
   ]
  },
  {
   "cell_type": "code",
   "execution_count": 28,
   "id": "c8dc3be9",
   "metadata": {},
   "outputs": [
    {
     "data": {
      "text/plain": [
       "[[0, 'a'], [1, 'b'], [2, 'c'], [3, 'd']]"
      ]
     },
     "execution_count": 28,
     "metadata": {},
     "output_type": "execute_result"
    }
   ],
   "source": [
    "a = ['a','b','c','d']\n",
    "\n",
    "[[i,x] for i,x in enumerate(a)]"
   ]
  },
  {
   "cell_type": "markdown",
   "id": "f3e5175b",
   "metadata": {},
   "source": [
    "### Section 2: Dictionary comprehensions\n",
    "\n",
    "##### 6) Make a dictionary in which keys are animals and values are lists, storing the [ASCII](http://www.asciitable.com/) number value of each character in the key, eg `'dog': [100, 111, 103]`\n",
    "\n",
    "Hint: Use the **`ord()`** function to convert characters into their ASCII values.\n"
   ]
  },
  {
   "cell_type": "code",
   "execution_count": 17,
   "id": "8c92b2ed",
   "metadata": {},
   "outputs": [
    {
     "data": {
      "text/plain": [
       "[104, 111, 114, 115, 101]"
      ]
     },
     "execution_count": 17,
     "metadata": {},
     "output_type": "execute_result"
    }
   ],
   "source": [
    "values"
   ]
  },
  {
   "cell_type": "code",
   "execution_count": 75,
   "id": "ab7ffa14",
   "metadata": {},
   "outputs": [
    {
     "name": "stdout",
     "output_type": "stream",
     "text": [
      "[[100, 111, 103], [99, 97, 116], [98, 105, 114, 100], [104, 111, 114, 115, 101]]\n",
      "{'dog': [100, 111, 103], 'cat': [99, 97, 116], 'bird': [98, 105, 114, 100], 'horse': [104, 111, 114, 115, 101]}\n"
     ]
    }
   ],
   "source": [
    "keys = ['dog', 'cat', 'bird', 'horse']\n",
    "\n",
    "M=[]\n",
    "\n",
    "for key in keys:\n",
    "    L=[]\n",
    "    for i in key:\n",
    "        L.append(ord(i))\n",
    "    M.append(L)\n",
    "print(M)\n",
    "\n",
    "ord_dict={key:values for key,values in zip(keys,M)}\n",
    "print(ord_dict)\n",
    "    \n",
    "ord_list=[L for x in keys]\n"
   ]
  },
  {
   "cell_type": "code",
   "execution_count": 77,
   "id": "c34b02c4",
   "metadata": {},
   "outputs": [
    {
     "data": {
      "text/plain": [
       "{'dog': [100, 111, 103],\n",
       " 'cat': [99, 97, 116],\n",
       " 'bird': [98, 105, 114, 100],\n",
       " 'horse': [104, 111, 114, 115, 101]}"
      ]
     },
     "execution_count": 77,
     "metadata": {},
     "output_type": "execute_result"
    }
   ],
   "source": [
    "keys = ['dog', 'cat', 'bird', 'horse']\n",
    "\n",
    "\n",
    "animal_asci_dict={key:[ord(char) for char in key] for key in keys}\n",
    "animal_asci_dict"
   ]
  },
  {
   "cell_type": "markdown",
   "id": "ff3a447f",
   "metadata": {},
   "source": [
    "##### 7) Create a dictionary with these column names and the corresponding column values."
   ]
  },
  {
   "cell_type": "code",
   "execution_count": 78,
   "id": "6b3952a6",
   "metadata": {},
   "outputs": [
    {
     "data": {
      "text/plain": [
       "{'height': [62, 54, 60, 50],\n",
       " 'weight': [180, 120, 200, 100],\n",
       " 'is_male': [True, False, True, False]}"
      ]
     },
     "execution_count": 78,
     "metadata": {},
     "output_type": "execute_result"
    }
   ],
   "source": [
    "column_names = ['height','weight','is_male']\n",
    "values = [[62, 54, 60, 50], [180, 120, 200, 100], [True, False, True, False]]\n",
    "\n",
    "{key:value for key,value in zip(column_names,values)}"
   ]
  }
 ],
 "metadata": {
  "kernelspec": {
   "display_name": "Python 3 (ipykernel)",
   "language": "python",
   "name": "python3"
  },
  "language_info": {
   "codemirror_mode": {
    "name": "ipython",
    "version": 3
   },
   "file_extension": ".py",
   "mimetype": "text/x-python",
   "name": "python",
   "nbconvert_exporter": "python",
   "pygments_lexer": "ipython3",
   "version": "3.10.13"
  }
 },
 "nbformat": 4,
 "nbformat_minor": 5
}
