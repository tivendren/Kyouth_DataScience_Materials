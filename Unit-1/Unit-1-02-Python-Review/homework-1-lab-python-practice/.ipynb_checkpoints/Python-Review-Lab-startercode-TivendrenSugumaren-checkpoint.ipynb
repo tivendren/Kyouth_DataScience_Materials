{
 "cells": [
  {
   "cell_type": "markdown",
   "metadata": {},
   "source": [
    "<img src=\"http://imgur.com/1ZcRyrc.png\" style=\"float: left; margin: 20px; height: 55px\">\n",
    "\n",
    "# Python review lab\n",
    "\n",
    "Week 1 | Day 2 | Lab 1 \n",
    "\n",
    "---"
   ]
  },
  {
   "cell_type": "markdown",
   "metadata": {
    "toc": true
   },
   "source": [
    "<h1>Table of Contents<span class=\"tocSkip\"></span></h1>\n",
    "<div class=\"toc\"><ul class=\"toc-item\"><li><span><a href=\"#Miscellaneous-problems\" data-toc-modified-id=\"Miscellaneous-problems-1\">Miscellaneous problems</a></span><ul class=\"toc-item\"><li><span><a href=\"#1.-What-are-the-types-of-the-following-variables?\" data-toc-modified-id=\"1.-What-are-the-types-of-the-following-variables?-1.1\">1. What are the types of the following variables?</a></span></li><li><span><a href=\"#2.-What-is-the-difference-between-a-&quot;mutable&quot;-and-an-&quot;immutable&quot;-object?\" data-toc-modified-id=\"2.-What-is-the-difference-between-a-&quot;mutable&quot;-and-an-&quot;immutable&quot;-object?-1.2\">2. What is the difference between a \"mutable\" and an \"immutable\" object?</a></span></li><li><span><a href=\"#3.-Print-the-student_names-list.\" data-toc-modified-id=\"3.-Print-the-student_names-list.-1.3\">3. Print the <code>student_names</code> list.</a></span></li><li><span><a href=\"#4.-Print-the-names-of-the-first-and-last-students-in-the-list.\" data-toc-modified-id=\"4.-Print-the-names-of-the-first-and-last-students-in-the-list.-1.4\">4. Print the names of the first and last students in the list.</a></span></li><li><span><a href=\"#5.-Print-the-first-5-names-in-the-student-list.\" data-toc-modified-id=\"5.-Print-the-first-5-names-in-the-student-list.-1.5\">5. Print the first 5 names in the student list.</a></span></li><li><span><a href=\"#6.-Combine-the-9th-and-10th-student-names-into-a-single-string,-separated-by-a-space,-and-assign-to-a-variable.\" data-toc-modified-id=\"6.-Combine-the-9th-and-10th-student-names-into-a-single-string,-separated-by-a-space,-and-assign-to-a-variable.-1.6\">6. Combine the 9th and 10th student names into a single string, separated by a space, and assign to a variable.</a></span></li><li><span><a href=\"#7.-Append-an-animal-to-the-list-of-animals.\" data-toc-modified-id=\"7.-Append-an-animal-to-the-list-of-animals.-1.7\">7. Append an animal to the list of animals.</a></span></li><li><span><a href=\"#8.-Print-the-length-of-the-animals-list.\" data-toc-modified-id=\"8.-Print-the-length-of-the-animals-list.-1.8\">8. Print the length of the animals list.</a></span></li><li><span><a href=\"#9.-Show-two-different-ways-to-combine-the-animals-list-and-numbers-list.\" data-toc-modified-id=\"9.-Show-two-different-ways-to-combine-the-animals-list-and-numbers-list.-1.9\">9. Show two different ways to combine the animals list and numbers list.</a></span></li><li><span><a href=\"#10.-Remove-my-name-from-the-list-and-insert-your-own-in-the-same-place.\" data-toc-modified-id=\"10.-Remove-my-name-from-the-list-and-insert-your-own-in-the-same-place.-1.10\">10. Remove my name from the list and insert your own in the same place.</a></span></li><li><span><a href=\"#11.-Find-the-index-of-'a'-in-the--mix--list.\" data-toc-modified-id=\"11.-Find-the-index-of-'a'-in-the--mix--list.-1.11\">11. Find the index of <code>'a'</code> in the  <code>mix</code>  list.</a></span></li><li><span><a href=\"#12.-Reverse-the-mix-list.\" data-toc-modified-id=\"12.-Reverse-the-mix-list.-1.12\">12. Reverse the <code>mix</code> list.</a></span></li><li><span><a href=\"#13.-Remove-the-last-element-of-mix-and-assign-it-to-a-variable.\" data-toc-modified-id=\"13.-Remove-the-last-element-of-mix-and-assign-it-to-a-variable.-1.13\">13. Remove the last element of <code>mix</code> and assign it to a variable.</a></span></li><li><span><a href=\"#14.-Count-the-number-of-times-0-appears-in-the-following-list.\" data-toc-modified-id=\"14.-Count-the-number-of-times-0-appears-in-the-following-list.-1.14\">14. Count the number of times <code>0</code> appears in the following list.</a></span></li><li><span><a href=\"#15.-Try-to-convert-elements-in-a-list-to-floats.\" data-toc-modified-id=\"15.-Try-to-convert-elements-in-a-list-to-floats.-1.15\">15. Try to convert elements in a list to floats.</a></span></li><li><span><a href=\"#16.-While-loops-and-strings.\" data-toc-modified-id=\"16.-While-loops-and-strings.-1.16\">16. While loops and strings.</a></span><span>"
   ]
  },
  {
   "cell_type": "markdown",
   "metadata": {},
   "source": [
    "## Miscellaneous problems"
   ]
  },
  {
   "cell_type": "markdown",
   "metadata": {},
   "source": [
    "---"
   ]
  },
  {
   "cell_type": "markdown",
   "metadata": {},
   "source": [
    "### 1. What are the types of the following variables?"
   ]
  },
  {
   "cell_type": "code",
   "execution_count": 2,
   "metadata": {},
   "outputs": [],
   "source": [
    "a = 1\n",
    "b = 2.6\n",
    "c = [1,2,3,5,6]\n",
    "d = {'MYR':'Malaysian Ringgit', 'SGD':'Singapore Dollar'}\n",
    "e = ('one', 'two', 'three')\n",
    "f = {1:{'key':'value'}, 2:{'key2':'value2'}}\n",
    "g = True\n",
    "h = False\n",
    "i = 'integer'"
   ]
  },
  {
   "cell_type": "markdown",
   "metadata": {},
   "source": [
    "# a=integer\n",
    "# b=float\n",
    "# c=List\n",
    "# d=dictionary\n",
    "# e=tuple\n",
    "# f=dictionary\n",
    "# g=Boolean\n",
    "# h=Boolean\n",
    "# i=string"
   ]
  },
  {
   "cell_type": "code",
   "execution_count": 3,
   "metadata": {},
   "outputs": [
    {
     "name": "stdout",
     "output_type": "stream",
     "text": [
      "<class 'int'>\n",
      "<class 'float'>\n",
      "<class 'list'>\n",
      "<class 'dict'>\n",
      "<class 'tuple'>\n",
      "<class 'dict'>\n",
      "<class 'bool'>\n",
      "<class 'bool'>\n",
      "<class 'str'>\n"
     ]
    }
   ],
   "source": [
    "print(type(a))\n",
    "print(type(b))\n",
    "print(type(c))\n",
    "print(type(d))\n",
    "print(type(e))\n",
    "print(type(f))\n",
    "print(type(g))\n",
    "print(type(h))\n",
    "print(type(i))"
   ]
  },
  {
   "cell_type": "markdown",
   "metadata": {},
   "source": [
    "---"
   ]
  },
  {
   "cell_type": "markdown",
   "metadata": {},
   "source": [
    "### 2. What is the difference between a \"mutable\" and an \"immutable\" object? \n",
    "\n",
    "Answer in one sentence."
   ]
  },
  {
   "cell_type": "markdown",
   "metadata": {},
   "source": [
    "# mutable means we can change the objects but immutable we cant change object after we initialize it."
   ]
  },
  {
   "cell_type": "markdown",
   "metadata": {},
   "source": [
    "---"
   ]
  },
  {
   "cell_type": "markdown",
   "metadata": {},
   "source": [
    "### 3. Print the `student_names` list."
   ]
  },
  {
   "cell_type": "code",
   "execution_count": 4,
   "metadata": {},
   "outputs": [],
   "source": [
    "student_names = ['s1','s2','s3','s4','s5','s6','s7','s8','s9','s10']"
   ]
  },
  {
   "cell_type": "code",
   "execution_count": 5,
   "metadata": {},
   "outputs": [
    {
     "name": "stdout",
     "output_type": "stream",
     "text": [
      "s1\n",
      "s2\n",
      "s3\n",
      "s4\n",
      "s5\n",
      "s6\n",
      "s7\n",
      "s8\n",
      "s9\n",
      "s10\n"
     ]
    }
   ],
   "source": [
    "for x in student_names:\n",
    "    print(x)"
   ]
  },
  {
   "cell_type": "markdown",
   "metadata": {},
   "source": [
    "---"
   ]
  },
  {
   "cell_type": "markdown",
   "metadata": {},
   "source": [
    "### 4. Print the names of the first and last students in the list."
   ]
  },
  {
   "cell_type": "code",
   "execution_count": 6,
   "metadata": {},
   "outputs": [
    {
     "name": "stdout",
     "output_type": "stream",
     "text": [
      "s1 s10\n"
     ]
    }
   ],
   "source": [
    "print(student_names[0],student_names[-1])"
   ]
  },
  {
   "cell_type": "markdown",
   "metadata": {},
   "source": [
    "---"
   ]
  },
  {
   "cell_type": "markdown",
   "metadata": {},
   "source": [
    "### 5. Print the first 5 names in the student list."
   ]
  },
  {
   "cell_type": "code",
   "execution_count": 7,
   "metadata": {},
   "outputs": [
    {
     "name": "stdout",
     "output_type": "stream",
     "text": [
      "s1\n",
      "s2\n",
      "s3\n",
      "s4\n",
      "s5\n"
     ]
    }
   ],
   "source": [
    "\n",
    "for x in student_names[:5]:\n",
    "    print(x)\n",
    "\n",
    "    "
   ]
  },
  {
   "cell_type": "markdown",
   "metadata": {},
   "source": [
    "---"
   ]
  },
  {
   "cell_type": "markdown",
   "metadata": {},
   "source": [
    "### 6. Combine the 9th and 10th student names into a single string, separated by a space, and assign to a variable."
   ]
  },
  {
   "cell_type": "code",
   "execution_count": 10,
   "metadata": {},
   "outputs": [
    {
     "name": "stdout",
     "output_type": "stream",
     "text": [
      "s9 s10\n"
     ]
    }
   ],
   "source": [
    "names=student_names[8]+\" \"+student_names[9]\n",
    "print(names)"
   ]
  },
  {
   "cell_type": "markdown",
   "metadata": {},
   "source": [
    "---"
   ]
  },
  {
   "cell_type": "markdown",
   "metadata": {},
   "source": [
    "### 7. Append an animal to the list of animals."
   ]
  },
  {
   "cell_type": "code",
   "execution_count": 35,
   "metadata": {},
   "outputs": [],
   "source": [
    "animals = ['duck', 'rat', 'boar', 'elephant', 'mammoth', 'gazelle']"
   ]
  },
  {
   "cell_type": "code",
   "execution_count": 37,
   "metadata": {},
   "outputs": [
    {
     "data": {
      "text/plain": [
       "['duck', 'rat', 'boar', 'elephant', 'mammoth', 'gazelle', 'dog', 'dog']"
      ]
     },
     "execution_count": 37,
     "metadata": {},
     "output_type": "execute_result"
    }
   ],
   "source": [
    "animals.append(\"dog\")\n",
    "animals"
   ]
  },
  {
   "cell_type": "markdown",
   "metadata": {},
   "source": [
    "---"
   ]
  },
  {
   "cell_type": "markdown",
   "metadata": {},
   "source": [
    "### 8. Print the length of the animals list."
   ]
  },
  {
   "cell_type": "code",
   "execution_count": 38,
   "metadata": {},
   "outputs": [
    {
     "name": "stdout",
     "output_type": "stream",
     "text": [
      "8\n"
     ]
    }
   ],
   "source": [
    "print(len(animals))"
   ]
  },
  {
   "cell_type": "markdown",
   "metadata": {},
   "source": [
    "---"
   ]
  },
  {
   "cell_type": "markdown",
   "metadata": {},
   "source": [
    "### 9. Show two different ways to combine the animals list and numbers list."
   ]
  },
  {
   "cell_type": "code",
   "execution_count": 39,
   "metadata": {},
   "outputs": [
    {
     "data": {
      "text/plain": [
       "[0.0, 0.1, 1.0, 10.0, 100.0, 1000.0]"
      ]
     },
     "execution_count": 39,
     "metadata": {},
     "output_type": "execute_result"
    }
   ],
   "source": [
    "numbers = [0., 0.1, 1., 10., 100., 1000.]\n",
    "numbers"
   ]
  },
  {
   "cell_type": "code",
   "execution_count": 40,
   "metadata": {},
   "outputs": [
    {
     "data": {
      "text/plain": [
       "['duck',\n",
       " 'rat',\n",
       " 'boar',\n",
       " 'elephant',\n",
       " 'mammoth',\n",
       " 'gazelle',\n",
       " 'dog',\n",
       " 'dog',\n",
       " 0.0,\n",
       " 0.1,\n",
       " 1.0,\n",
       " 10.0,\n",
       " 100.0,\n",
       " 1000.0]"
      ]
     },
     "execution_count": 40,
     "metadata": {},
     "output_type": "execute_result"
    }
   ],
   "source": [
    "###First method\n",
    "animals.extend(numbers)\n",
    "animals\n"
   ]
  },
  {
   "cell_type": "code",
   "execution_count": 48,
   "metadata": {},
   "outputs": [
    {
     "name": "stdout",
     "output_type": "stream",
     "text": [
      "['duck', 'rat', 'boar', 'elephant', 'mammoth', 'gazelle', 0.0, 0.1, 1.0, 10.0, 100.0, 1000.0]\n"
     ]
    }
   ],
   "source": [
    "##Second method\n",
    "animals = ['duck', 'rat', 'boar', 'elephant', 'mammoth', 'gazelle']\n",
    "numbers = [0., 0.1, 1., 10., 100., 1000.]\n",
    "\n",
    "new_list=animals+numbers\n",
    "\n",
    "print(new_list)\n",
    "\n"
   ]
  },
  {
   "cell_type": "markdown",
   "metadata": {},
   "source": [
    "---"
   ]
  },
  {
   "cell_type": "markdown",
   "metadata": {},
   "source": [
    "### 10. Remove the name 'chris' from the list and insert your own in the same place."
   ]
  },
  {
   "cell_type": "code",
   "execution_count": 49,
   "metadata": {},
   "outputs": [],
   "source": [
    "names = ['doug', 'billy', 'chris', 'kian', 'sam']"
   ]
  },
  {
   "cell_type": "code",
   "execution_count": 50,
   "metadata": {},
   "outputs": [
    {
     "data": {
      "text/plain": [
       "['doug', 'billy', 'tivendren', 'kian', 'sam']"
      ]
     },
     "execution_count": 50,
     "metadata": {},
     "output_type": "execute_result"
    }
   ],
   "source": [
    "names.pop(2)\n",
    "names.insert(2,\"tivendren\")\n",
    "names"
   ]
  },
  {
   "cell_type": "markdown",
   "metadata": {},
   "source": [
    "---"
   ]
  },
  {
   "cell_type": "markdown",
   "metadata": {},
   "source": [
    "### 11. Find the index of `'a'` in the  `mix`  list."
   ]
  },
  {
   "cell_type": "code",
   "execution_count": 52,
   "metadata": {},
   "outputs": [],
   "source": [
    "mix = [['billy', 'sam'], {'key':'value'}, 12.999, 12, 'flower', 'a', (1, 2, 3)]"
   ]
  },
  {
   "cell_type": "code",
   "execution_count": 53,
   "metadata": {},
   "outputs": [
    {
     "name": "stdout",
     "output_type": "stream",
     "text": [
      "5\n"
     ]
    }
   ],
   "source": [
    "## im aware that index \"a\" is 5 but im unsure to answer this by just typing or you want me to code to find the index.. i did by code :)\n",
    "for i,x in enumerate(mix):\n",
    "    if x==\"a\":\n",
    "        i_num=i\n",
    "        \n",
    "print(i_num)"
   ]
  },
  {
   "cell_type": "markdown",
   "metadata": {},
   "source": [
    "---"
   ]
  },
  {
   "cell_type": "markdown",
   "metadata": {},
   "source": [
    "### 12. Reverse the `mix` list."
   ]
  },
  {
   "cell_type": "code",
   "execution_count": 58,
   "metadata": {},
   "outputs": [
    {
     "data": {
      "text/plain": [
       "[(1, 2, 3), 'a', 'flower', 12, 12.999, {'key': 'value'}, ['billy', 'sam']]"
      ]
     },
     "execution_count": 58,
     "metadata": {},
     "output_type": "execute_result"
    }
   ],
   "source": [
    "mix.reverse()\n",
    "mix"
   ]
  },
  {
   "cell_type": "markdown",
   "metadata": {},
   "source": [
    "---"
   ]
  },
  {
   "cell_type": "markdown",
   "metadata": {},
   "source": [
    "### 13. Remove the last element of `mix` and assign it to a variable."
   ]
  },
  {
   "cell_type": "code",
   "execution_count": 59,
   "metadata": {},
   "outputs": [
    {
     "data": {
      "text/plain": [
       "['billy', 'sam']"
      ]
     },
     "execution_count": 59,
     "metadata": {},
     "output_type": "execute_result"
    }
   ],
   "source": [
    "last_e=mix.pop()\n",
    "last_e"
   ]
  },
  {
   "cell_type": "markdown",
   "metadata": {},
   "source": [
    "---"
   ]
  },
  {
   "cell_type": "markdown",
   "metadata": {},
   "source": [
    "### 14. Count the number of times `0` appears in the following list."
   ]
  },
  {
   "cell_type": "code",
   "execution_count": 60,
   "metadata": {},
   "outputs": [],
   "source": [
    "binary = [0,1,1,0,1,0,1,1,1,1,0,0,1,0,0,1,0,1,1,0,0,1,1,0,1,1,0,0,0,1,1,1,0,1,0,1]"
   ]
  },
  {
   "cell_type": "code",
   "execution_count": 61,
   "metadata": {},
   "outputs": [
    {
     "name": "stdout",
     "output_type": "stream",
     "text": [
      "16\n"
     ]
    }
   ],
   "source": [
    "c=0\n",
    "for x in binary:\n",
    "    if x == 0:\n",
    "        c +=1\n",
    "print(c)"
   ]
  },
  {
   "cell_type": "markdown",
   "metadata": {},
   "source": [
    "---"
   ]
  },
  {
   "cell_type": "markdown",
   "metadata": {},
   "source": [
    "### 15. Try to convert elements in a list to floats.\n",
    "\n",
    "Create a new list with the converted numbers. If something cannot be converted, skip it and append nothing to the new list.\n",
    "\n",
    "> Hint: Use a try-except statement, see [here](http://www.pythonforbeginners.com/error-handling/python-try-and-except) or [here](https://www.programiz.com/python-programming/exception-handling)."
   ]
  },
  {
   "cell_type": "code",
   "execution_count": 62,
   "metadata": {},
   "outputs": [],
   "source": [
    "corrupted = ['!1', '23.1', '23.4.5', '??12', '.12', '12-12', '-11.1', '0-1', '*12.1', '1000']"
   ]
  },
  {
   "cell_type": "code",
   "execution_count": 65,
   "metadata": {},
   "outputs": [
    {
     "name": "stdout",
     "output_type": "stream",
     "text": [
      "done\n",
      "['23.1', '.12', '-11.1', '1000']\n"
     ]
    }
   ],
   "source": [
    "converted_list=[]\n",
    "for x in corrupted: \n",
    "    try:\n",
    "        float(x)\n",
    "\n",
    "\n",
    "    except:\n",
    "        pass\n",
    "\n",
    "    else:\n",
    "        converted_list.append(x)\n",
    "\n",
    "\n",
    "print(\"done\")\n",
    "print(converted_list)\n",
    "       "
   ]
  },
  {
   "cell_type": "markdown",
   "metadata": {},
   "source": [
    "---"
   ]
  },
  {
   "cell_type": "markdown",
   "metadata": {},
   "source": [
    "### 16. While loops and strings.\n",
    "\n",
    "Iterate over the following sentence and count the number of vowels in the sentence."
   ]
  },
  {
   "cell_type": "code",
   "execution_count": 66,
   "metadata": {},
   "outputs": [],
   "source": [
    "sentence = \"IF I PRACTICE A LOT I WILL SOON BECOME A VERY GOOD DATA SCIENTIST\""
   ]
  },
  {
   "cell_type": "code",
   "execution_count": 77,
   "metadata": {},
   "outputs": [
    {
     "name": "stdout",
     "output_type": "stream",
     "text": [
      "23\n"
     ]
    }
   ],
   "source": [
    "c=0\n",
    "for x in sentence.lower():\n",
    "    if x in [\"a\",\"e\",\"i\",\"o\",\"u\"]:\n",
    "        c += 1\n",
    "print(c)        "
   ]
  },
  {
   "cell_type": "markdown",
   "metadata": {},
   "source": [
    "### 17. Functions\n",
    "\n",
    "Based on your code in question 16 above, write a function that receives a sentence as a parameter and returns the number of vowels in the sentence. Then calculate the number of vowels in the following:\n"
   ]
  },
  {
   "cell_type": "code",
   "execution_count": 78,
   "metadata": {},
   "outputs": [],
   "source": [
    "sentence_2 = \"THIS IS ANOTHER SENTENCE WITH A SOME VOWELS\""
   ]
  },
  {
   "cell_type": "code",
   "execution_count": 79,
   "metadata": {},
   "outputs": [
    {
     "data": {
      "text/plain": [
       "14"
      ]
     },
     "execution_count": 79,
     "metadata": {},
     "output_type": "execute_result"
    }
   ],
   "source": [
    "def vowels_counter(sentence):\n",
    "    c=0\n",
    "    for x in sentence.lower():\n",
    "        if x in [\"a\",\"e\",\"i\",\"o\",\"u\"]:\n",
    "            c += 1\n",
    "    return c\n",
    "\n",
    "vowels_counter(sentence_2)\n",
    "    "
   ]
  },
  {
   "cell_type": "markdown",
   "metadata": {},
   "source": [
    "---"
   ]
  }
 ],
 "metadata": {
  "anaconda-cloud": {},
  "kernelspec": {
   "display_name": "Python 3 (ipykernel)",
   "language": "python",
   "name": "python3"
  },
  "language_info": {
   "codemirror_mode": {
    "name": "ipython",
    "version": 3
   },
   "file_extension": ".py",
   "mimetype": "text/x-python",
   "name": "python",
   "nbconvert_exporter": "python",
   "pygments_lexer": "ipython3",
   "version": "3.11.3"
  },
  "toc": {
   "nav_menu": {},
   "number_sections": false,
   "sideBar": true,
   "skip_h1_title": true,
   "title_cell": "Table of Contents",
   "title_sidebar": "Contents",
   "toc_cell": true,
   "toc_position": {},
   "toc_section_display": "block",
   "toc_window_display": false
  }
 },
 "nbformat": 4,
 "nbformat_minor": 1
}
