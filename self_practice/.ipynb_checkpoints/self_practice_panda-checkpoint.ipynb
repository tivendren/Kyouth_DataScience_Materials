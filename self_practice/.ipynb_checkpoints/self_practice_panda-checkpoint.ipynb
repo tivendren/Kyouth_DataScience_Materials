{
 "cells": [
  {
   "cell_type": "code",
   "execution_count": 2,
   "id": "c3908393",
   "metadata": {},
   "outputs": [],
   "source": [
    "import pandas as pd"
   ]
  },
  {
   "cell_type": "code",
   "execution_count": 8,
   "id": "2e8c8b69",
   "metadata": {},
   "outputs": [
    {
     "data": {
      "text/plain": [
       "10    DSA\n",
       "20     ML\n",
       "30     DS\n",
       "dtype: object"
      ]
     },
     "execution_count": 8,
     "metadata": {},
     "output_type": "execute_result"
    }
   ],
   "source": [
    "data={10: \"DSA\", 20: \"ML\", 30: \"DS\"}\n",
    "\n",
    "a=pd.Series(data)\n",
    "a"
   ]
  },
  {
   "cell_type": "code",
   "execution_count": 9,
   "id": "8e91a3a1",
   "metadata": {},
   "outputs": [
    {
     "data": {
      "text/plain": [
       "10    DSA\n",
       "20     ML\n",
       "30     DS\n",
       "dtype: object"
      ]
     },
     "execution_count": 9,
     "metadata": {},
     "output_type": "execute_result"
    }
   ],
   "source": [
    "a"
   ]
  }
 ],
 "metadata": {
  "kernelspec": {
   "display_name": "Python 3 (ipykernel)",
   "language": "python",
   "name": "python3"
  },
  "language_info": {
   "codemirror_mode": {
    "name": "ipython",
    "version": 3
   },
   "file_extension": ".py",
   "mimetype": "text/x-python",
   "name": "python",
   "nbconvert_exporter": "python",
   "pygments_lexer": "ipython3",
   "version": "3.10.13"
  }
 },
 "nbformat": 4,
 "nbformat_minor": 5
}
