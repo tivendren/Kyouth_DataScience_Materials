{
 "cells": [
  {
   "cell_type": "markdown",
   "metadata": {},
   "source": [
    "<img src=\"http://imgur.com/1ZcRyrc.png\" style=\"float: left; margin: 20px; height: 55px\">\n",
    "\n",
    "# Introduction to Random Variables and Common Distributions\n",
    "\n",
    "\n",
    "---"
   ]
  },
  {
   "cell_type": "markdown",
   "metadata": {},
   "source": [
    "## Learning Objectives\n",
    "\n",
    "### Core\n",
    "- Understand the concept of a random variable\n",
    "- Distinguish between discrete and continuous random variables\n",
    "- Interpret the\n",
    "    - Probability mass function (`.pmf`)\n",
    "    - Probability density function (`.pdf`)\n",
    "    - Cumulative distribution function (`.cdf`)\n",
    "    - Survival function (`.sf`)\n",
    "    - Percent point function (`.ppf`)\n",
    "\n",
    "### Target\n",
    "- Explore the most common discrete statistical distributions \n",
    "    - Uniform\n",
    "    - Bernoulli\n",
    "    - Binomial \n",
    "    - Poisson\n",
    "- Explore the most common continuous statistical distributions\n",
    "    - Uniform\n",
    "    - Normal\n",
    "    - Exponential\n",
    "    - Pareto\n",
    "- Characterize distributions by their shape parameters and range\n",
    "\n",
    "### Stretch\n",
    "- Remember the formulas for the binomial and normal distributions"
   ]
  },
  {
   "cell_type": "markdown",
   "metadata": {
    "toc": true
   },
   "source": [
    "<h1>Lesson Guide<span class=\"tocSkip\"></span></h1>\n",
    "<div class=\"toc\"><ul class=\"toc-item\"><li><span><a href=\"#Learning-Objectives\" data-toc-modified-id=\"Learning-Objectives-1\">Learning Objectives</a></span><ul class=\"toc-item\"><li><span><a href=\"#Core\" data-toc-modified-id=\"Core-1.1\">Core</a></span></li><li><span><a href=\"#Target\" data-toc-modified-id=\"Target-1.2\">Target</a></span></li><li><span><a href=\"#Stretch\" data-toc-modified-id=\"Stretch-1.3\">Stretch</a></span></li></ul></li><li><span><a href=\"#Random-variables\" data-toc-modified-id=\"Random-variables-2\">Random variables</a></span></li><li><span><a href=\"#Discrete-probability-distributions\" data-toc-modified-id=\"Discrete-probability-distributions-3\">Discrete probability distributions</a></span><ul class=\"toc-item\"><li><span><a href=\"#The-Discrete-Uniform-Distribution:-Rolling-a-Die\" data-toc-modified-id=\"The-Discrete-Uniform-Distribution:-Rolling-a-Die-3.1\">The Discrete Uniform Distribution: Rolling a Die</a></span><ul class=\"toc-item\"><li><span><a href=\"#Instantiate-the-scipy-distribution\" data-toc-modified-id=\"Instantiate-the-scipy-distribution-3.1.1\">Instantiate the scipy distribution</a></span></li><li><span><a href=\"#Distribution-attributes\" data-toc-modified-id=\"Distribution-attributes-3.1.2\">Distribution attributes</a></span></li><li><span><a href=\"#We-have-six-possible-outcomes-within-the-following-boundaries\" data-toc-modified-id=\"We-have-six-possible-outcomes-within-the-following-boundaries-3.1.3\">We have six possible outcomes within the following boundaries</a></span></li><li><span><a href=\"#The-probability-mass-function-(pmf)\" data-toc-modified-id=\"The-probability-mass-function-(pmf)-3.1.4\">The probability mass function (pmf)</a></span></li><li><span><a href=\"#The-cumulative-distribution-function-(cdf)\" data-toc-modified-id=\"The-cumulative-distribution-function-(cdf)-3.1.5\">The cumulative distribution function (cdf)</a></span></li><li><span><a href=\"#The-survival-function-(sf)\" data-toc-modified-id=\"The-survival-function-(sf)-3.1.6\">The survival function (sf)</a></span></li><li><span><a href=\"#The-percent-point-function-(ppf)\" data-toc-modified-id=\"The-percent-point-function-(ppf)-3.1.7\">The percent point function (ppf)</a></span></li><li><span><a href=\"#Random-samples\" data-toc-modified-id=\"Random-samples-3.1.8\">Random samples</a></span></li><li><span><a href=\"#Combine-the-plots\" data-toc-modified-id=\"Combine-the-plots-3.1.9\">Combine the plots</a></span></li></ul></li><li><span><a href=\"#The-Bernoulli-distribution\" data-toc-modified-id=\"The-Bernoulli-distribution-3.2\">The Bernoulli distribution</a></span><ul class=\"toc-item\"><li><span><a href=\"#The-Bernoulli-probability-mass-function\" data-toc-modified-id=\"The-Bernoulli-probability-mass-function-3.2.1\">The Bernoulli probability mass function</a></span></li></ul></li><li><span><a href=\"#The-Binomial-distribution\" data-toc-modified-id=\"The-Binomial-distribution-3.3\">The Binomial distribution</a></span><ul class=\"toc-item\"><li><span><a href=\"#Binomial-probability-mass-function\" data-toc-modified-id=\"Binomial-probability-mass-function-3.3.1\">Binomial probability mass function</a></span></li></ul></li><li><span><a href=\"#The-Poisson-distribution\" data-toc-modified-id=\"The-Poisson-distribution-3.4\">The Poisson distribution</a></span><ul class=\"toc-item\"><li><span><a href=\"#Poisson-probability-mass-function\" data-toc-modified-id=\"Poisson-probability-mass-function-3.4.1\">Poisson probability mass function</a></span></li><li><span><a href=\"#What-if-the-rate-was-5-instead?\" data-toc-modified-id=\"What-if-the-rate-was-5-instead?-3.4.2\">What if the rate was 5 instead?</a></span></li></ul></li><li><span><a href=\"#Further-interesting-discrete-distributions\" data-toc-modified-id=\"Further-interesting-discrete-distributions-3.5\">Further interesting discrete distributions</a></span><ul class=\"toc-item\"><li><span><a href=\"#Mulitnomial-distribution\" data-toc-modified-id=\"Mulitnomial-distribution-3.5.1\">Mulitnomial distribution</a></span></li></ul></li></ul></li><li><span><a href=\"#Continuous-distributions\" data-toc-modified-id=\"Continuous-distributions-4\">Continuous distributions</a></span><ul class=\"toc-item\"><li><span><a href=\"#Uniform-distribution\" data-toc-modified-id=\"Uniform-distribution-4.1\">Uniform distribution</a></span><ul class=\"toc-item\"><li><span><a href=\"#Probability-density-function-(pdf)\" data-toc-modified-id=\"Probability-density-function-(pdf)-4.1.1\">Probability density function (pdf)</a></span></li></ul></li><li><span><a href=\"#The-Normal-distribution\" data-toc-modified-id=\"The-Normal-distribution-4.2\">The Normal distribution</a></span><ul class=\"toc-item\"><li><span><a href=\"#Normal-probability-density-function\" data-toc-modified-id=\"Normal-probability-density-function-4.2.1\">Normal probability density function</a></span></li></ul></li><li><span><a href=\"#The-Exponential-distribution\" data-toc-modified-id=\"The-Exponential-distribution-4.3\">The Exponential distribution</a></span><ul class=\"toc-item\"><li><span><a href=\"#Exponential-probability-density-function\" data-toc-modified-id=\"Exponential-probability-density-function-4.3.1\">Exponential probability density function</a></span></li></ul></li><li><span><a href=\"#The-Pareto-distribution\" data-toc-modified-id=\"The-Pareto-distribution-4.4\">The Pareto distribution</a></span></li></ul></li><li><span><a href=\"#Common-notation\" data-toc-modified-id=\"Common-notation-5\">Common notation</a></span></li><li><span><a href=\"#Other-interesting-continuous-distributions\" data-toc-modified-id=\"Other-interesting-continuous-distributions-6\">Other interesting continuous distributions</a></span><ul class=\"toc-item\"><li><span><a href=\"#The-student/t-distribution\" data-toc-modified-id=\"The-student/t-distribution-6.1\">The student/t-distribution</a></span></li><li><span><a href=\"#The-chi-squared-($\\chi^2$)-distribution\" data-toc-modified-id=\"The-chi-squared-($\\chi^2$)-distribution-6.2\">The chi-squared ($\\chi^2$) distribution</a></span></li><li><span><a href=\"#The-beta-distribution\" data-toc-modified-id=\"The-beta-distribution-6.3\">The beta distribution</a></span></li></ul></li><li><span><a href=\"#Relationships-between-probability-distributions\" data-toc-modified-id=\"Relationships-between-probability-distributions-7\">Relationships between probability distributions</a></span></li><li><span><a href=\"#Additional-resources\" data-toc-modified-id=\"Additional-resources-8\">Additional resources</a></span></li></ul></div>"
   ]
  },
  {
   "cell_type": "markdown",
   "metadata": {},
   "source": [
    "## Random variables\n",
    "\n",
    "---\n",
    "\n",
    "Random variables are variables which assume specific values following some random (also called stochastic) process. \n",
    "Each of the possible values is associated with a probability.\n",
    "\n",
    "A typical example is a fair coin flip: The outcome is a random variable that can take on a value of head or tail (usually coded as 1 or 0), each with a probability, e.g. of 0.5 each.\n",
    "\n",
    "Random variables can be divided into two categories:\n",
    "\n",
    "**Discrete random variables**\n",
    "\n",
    "Discrete random variables have outcomes that are \"countable.\" The number of heads in a series of coin flips, for example, or the number of aces drawn in a series of hands from a deck of cards. Each discrete outcome has an associated probability of occurring.\n",
    "For discrete random variables, the distribution of the probabilities of each outcome is called the **probability mass function (pmf)**.\n",
    "\n",
    "**Continuous random variables**\n",
    "\n",
    "Continuous random variables, on the other hand, have outcomes that are not countable. Say, for example, $T$ is a random variable representing the temperature at noon. There aren't exact temperature outcomes with associated probabilities of occurrence — the number of possible outcomes is infinite and not countable. The probabilities of ranges of values are calculated as areas under the **probability density function (pdf)**, which is the probability function associated with continuous variables."
   ]
  },
  {
   "cell_type": "code",
   "execution_count": 1,
   "metadata": {},
   "outputs": [],
   "source": [
    "import pandas as pd\n",
    "import numpy as np\n",
    "import matplotlib.pyplot as plt\n",
    "import seaborn as sns\n",
    " \n",
    "plt.style.use('ggplot')\n",
    "sns.set(font_scale=1.5)\n",
    "%config InlineBackend.figure_format = 'retina'\n",
    "%matplotlib inline"
   ]
  },
  {
   "cell_type": "code",
   "execution_count": 2,
   "metadata": {},
   "outputs": [],
   "source": [
    "import scipy.stats as stats"
   ]
  },
  {
   "cell_type": "markdown",
   "metadata": {},
   "source": [
    "## Discrete probability distributions"
   ]
  },
  {
   "cell_type": "markdown",
   "metadata": {},
   "source": [
    "### The Discrete Uniform Distribution: Rolling a Die\n",
    "<a id='discrete_uniform'></a>\n",
    "\n",
    "---\n",
    "\n",
    "Imagine we are rolling a fair die. The outcome of rolling the die is represented by a random variable $X$, which can take on values $1$ through $6$. $X$ is therefore a discrete random variable.\n",
    "\n",
    "The probability mass function over the six possible outcomes $X$ - each with an associated probability $p$ - is defined as:\n",
    "\n",
    "$$  \\text{pmf}(X; p) =\n",
    "    \\begin{cases}\n",
    "    0.1\\overline{66} & \\text{for }X=1 \\\\ \n",
    "    0.1\\overline{66} & \\text{for }X=2 \\\\\n",
    "    0.1\\overline{66} & \\text{for }X=3 \\\\\n",
    "    0.1\\overline{66} & \\text{for }X=4 \\\\\n",
    "    0.1\\overline{66} & \\text{for }X=5 \\\\\n",
    "    0.1\\overline{66} & \\text{for }X=6\n",
    "    \\end{cases}\n",
    "$$\n",
    "\n",
    "This is an example of the **discrete uniform distribution**, as all of the outcomes have the same probability. If you plot the probability mass function, you can see that the probability histogram is uniform."
   ]
  },
  {
   "cell_type": "markdown",
   "metadata": {},
   "source": [
    "#### Instantiate the scipy distribution\n",
    "\n",
    "The [discrete uniform distribution](https://docs.scipy.org/doc/scipy/reference/generated/scipy.stats.randint.html) is implemented in scipy's stats package. "
   ]
  },
  {
   "cell_type": "code",
   "execution_count": 3,
   "metadata": {},
   "outputs": [],
   "source": [
    "# The stats.randint() function gen\n",
    "discrete = stats.randint(1, 7)"
   ]
  },
  {
   "cell_type": "code",
   "execution_count": 4,
   "metadata": {},
   "outputs": [
    {
     "data": {
      "text/plain": [
       "<scipy.stats._distn_infrastructure.rv_discrete_frozen at 0x173d61192d0>"
      ]
     },
     "execution_count": 4,
     "metadata": {},
     "output_type": "execute_result"
    }
   ],
   "source": [
    "discrete"
   ]
  },
  {
   "cell_type": "markdown",
   "metadata": {},
   "source": [
    "#### Distribution attributes\n",
    "\n",
    "The scipy distribution object contains many useful attributes/functions."
   ]
  },
  {
   "cell_type": "code",
   "execution_count": 5,
   "metadata": {},
   "outputs": [
    {
     "data": {
      "text/plain": [
       "['a',\n",
       " 'args',\n",
       " 'b',\n",
       " 'cdf',\n",
       " 'dist',\n",
       " 'entropy',\n",
       " 'expect',\n",
       " 'interval',\n",
       " 'isf',\n",
       " 'kwds',\n",
       " 'logcdf',\n",
       " 'logpmf',\n",
       " 'logsf',\n",
       " 'mean',\n",
       " 'median',\n",
       " 'moment',\n",
       " 'pmf',\n",
       " 'ppf',\n",
       " 'random_state',\n",
       " 'rvs',\n",
       " 'sf',\n",
       " 'stats',\n",
       " 'std',\n",
       " 'support',\n",
       " 'var']"
      ]
     },
     "execution_count": 5,
     "metadata": {},
     "output_type": "execute_result"
    }
   ],
   "source": [
    "[d for d in dir(discrete) if d[0]!='_']"
   ]
  },
  {
   "cell_type": "markdown",
   "metadata": {},
   "source": [
    "#### We have six possible outcomes within the following boundaries"
   ]
  },
  {
   "cell_type": "code",
   "execution_count": 6,
   "metadata": {},
   "outputs": [
    {
     "data": {
      "text/plain": [
       "(1, 6)"
      ]
     },
     "execution_count": 6,
     "metadata": {},
     "output_type": "execute_result"
    }
   ],
   "source": [
    "limits = discrete.a, discrete.b\n",
    "limits"
   ]
  },
  {
   "cell_type": "markdown",
   "metadata": {},
   "source": [
    "#### The probability mass function (pmf)\n",
    "\n",
    "The probabilities for the individual outcomes are defined by the probability mass function which can be extracted with `.pmf` for a single value or an array of values."
   ]
  },
  {
   "cell_type": "code",
   "execution_count": 7,
   "metadata": {},
   "outputs": [
    {
     "data": {
      "text/plain": [
       "0.16666666666666666"
      ]
     },
     "execution_count": 7,
     "metadata": {},
     "output_type": "execute_result"
    }
   ],
   "source": [
    "discrete.pmf(2)"
   ]
  },
  {
   "cell_type": "code",
   "execution_count": 8,
   "metadata": {},
   "outputs": [
    {
     "data": {
      "text/plain": [
       "array([0.16666667, 0.16666667, 0.16666667, 0.16666667, 0.16666667,\n",
       "       0.16666667])"
      ]
     },
     "execution_count": 8,
     "metadata": {},
     "output_type": "execute_result"
    }
   ],
   "source": [
    "x = np.arange(1,7)\n",
    "discrete.pmf(x)"
   ]
  },
  {
   "cell_type": "code",
   "execution_count": 10,
   "metadata": {},
   "outputs": [
    {
     "data": {
      "image/png": "[encoded data removed]",
      "text/plain": [
       "<Figure size 960x720 with 1 Axes>"
      ]
     },
     "metadata": {
      "image/png": {
       "height": 719,
       "width": 923
      }
     },
     "output_type": "display_data"
    }
   ],
   "source": [
    "fig, ax = plt.subplots()\n",
    "ax.bar(x,discrete.pmf(x))\n",
    "ax.set_xlabel('Outcomes')\n",
    "ax.set_ylabel('Probability Mass Function (pmf)')\n",
    "ax.set_title('Discrete Uniform Distribution, p = {:.3f}'.format(1/len(x)))\n",
    "plt.show()"
   ]
  },
  {
   "cell_type": "markdown",
   "metadata": {},
   "source": [
    "#### The cumulative distribution function (cdf)\n",
    "\n",
    "Similarly, we can extract the values for the cumulative distribution function with `.cdf`. The values indicate the probability for having a value smaller or equal to the indicated argument, e.g. in this case\n",
    "\n",
    "$$\n",
    "{\\rm cdf}(3) = P(X\\le 3) = 0.5\n",
    "$$"
   ]
  },
  {
   "cell_type": "code",
   "execution_count": 11,
   "metadata": {},
   "outputs": [
    {
     "data": {
      "text/plain": [
       "array([0.16666667, 0.33333333, 0.5       , 0.66666667, 0.83333333,\n",
       "       1.        ])"
      ]
     },
     "execution_count": 11,
     "metadata": {},
     "output_type": "execute_result"
    }
   ],
   "source": [
    "discrete.cdf(range(1,7))"
   ]
  },
  {
   "cell_type": "code",
   "execution_count": null,
   "metadata": {},
   "outputs": [],
   "source": [
    "fig, ax = plt.subplots()\n",
    "ax.bar(x,discrete.cdf(x))\n",
    "ax.set_xlabel('Outcomes')\n",
    "ax.set_ylabel('Cumulative distribution Function (cdf)')\n",
    "ax.set_title('Discrete Uniform Distribution, p = {:.3f}'.format(1/len(x)))\n",
    "plt.show()"
   ]
  },
  {
   "cell_type": "markdown",
   "metadata": {},
   "source": [
    "#### The survival function (sf)\n",
    "\n",
    "The survival function `.sf` is equivalent to calculating $1-{\\rm cdf}(x)$, e.g. in this case\n",
    "\n",
    "$$\n",
    "{\\rm sf}(3) = 1 - {\\rm cdf}(3) = P(X > 3) = 0.5\n",
    "$$"
   ]
  },
  {
   "cell_type": "code",
   "execution_count": null,
   "metadata": {},
   "outputs": [],
   "source": [
    "discrete.sf(range(1,7))"
   ]
  },
  {
   "cell_type": "code",
   "execution_count": null,
   "metadata": {},
   "outputs": [],
   "source": [
    "fig, ax = plt.subplots()\n",
    "ax.bar(x,discrete.sf(x))\n",
    "ax.set_xlabel('Outcomes')\n",
    "ax.set_ylabel('Survival Function (sf)')\n",
    "ax.set_title('Discrete Uniform Distribution, p = {:.3f}'.format(1/len(x)))\n",
    "plt.show()"
   ]
  },
  {
   "cell_type": "markdown",
   "metadata": {},
   "source": [
    "#### The percent point function (ppf)\n",
    "\n",
    "We could also ask which is is the possible outcome value for which the cumulative distribution function would give a specified result.\n",
    "\n",
    "For example we could ask which is the possible outcome value $x$ so that \n",
    "\n",
    "$$P(X\\le x) = 0.5$$\n",
    "\n",
    "The corresponding $x$ is then found with the `.ppf` function:"
   ]
  },
  {
   "cell_type": "code",
   "execution_count": null,
   "metadata": {},
   "outputs": [],
   "source": [
    "discrete.ppf(0.5)"
   ]
  },
  {
   "cell_type": "markdown",
   "metadata": {},
   "source": [
    "#### Random samples\n",
    "\n",
    "You can draw random samples from this distribution with the `.rvs` function. If you draw many such samples the frequencies of the individual events should be close to those of the probability mass function."
   ]
  },
  {
   "cell_type": "code",
   "execution_count": null,
   "metadata": {},
   "outputs": [],
   "source": [
    "n = 10000\n",
    "sample = discrete.rvs(n)\n",
    "counts = np.unique(sample,return_counts=True)\n",
    "\n",
    "fig, ax = plt.subplots()\n",
    "ax.bar(counts[0],counts[1]/n, 0.3,alpha=0.5,label='sample')\n",
    "ax.bar(x+0.3,discrete.pmf(x), 0.3,alpha=0.5,label='pmf')\n",
    "ax.legend(loc=(1,0))\n",
    "ax.set_xlabel('Outcomes')\n",
    "ax.set_ylabel('PMF and observed frequencies')\n",
    "ax.set_title('Discrete Uniform Distribution, p = 0.1667')\n",
    "plt.show()"
   ]
  },
  {
   "cell_type": "markdown",
   "metadata": {},
   "source": [
    "#### Combine the plots "
   ]
  },
  {
   "cell_type": "markdown",
   "metadata": {},
   "source": [
    "We create a function which combines the four plots from above.\n",
    "We call the function with arguments for the possible values, the distribution and the figure title."
   ]
  },
  {
   "cell_type": "code",
   "execution_count": null,
   "metadata": {},
   "outputs": [],
   "source": [
    "def distribution_plot(x, dist, title='Discrete distribution', sharex=True):\n",
    "    \"\"\"\n",
    "    Produce plots of pmf, cdf, sf and a histogram based on random samples \n",
    "    drawn from the given distribution.\n",
    "    Arguments:\n",
    "    x: possible outcome values\n",
    "    dist: the scipy distribution\n",
    "    title: the figure title\n",
    "    sharex: use the same x-axis for plots in each column\n",
    "    Returns:\n",
    "    fig and ax objects\n",
    "    \"\"\"\n",
    "    \n",
    "    fig, ax = plt.subplots(nrows=2, ncols=2, sharex=sharex, figsize=(16,12))\n",
    "\n",
    "    ax[0,0].bar(x, dist.pmf(x))\n",
    "    ax[0,0].set_ylabel('Probability Mass Function (pmf)')\n",
    "\n",
    "    ax[0,1].bar(x, dist.cdf(x))\n",
    "    ax[0,1].set_ylabel('Cumulative distribution Function (cdf)')\n",
    "\n",
    "    ax[1,0].bar(x, dist.sf(x))\n",
    "    ax[1,0].set_xlabel('Outcomes')\n",
    "    ax[1,0].set_ylabel('Survival Function (sf)')\n",
    "\n",
    "    n = 10000\n",
    "    sample = dist.rvs(n)\n",
    "    counts = np.unique(sample, return_counts=True)\n",
    "\n",
    "    ax[1,1].bar(counts[0], counts[1]/n, 0.3, alpha=0.5, label='sample')\n",
    "    ax[1,1].bar(x+0.3, dist.pmf(x), 0.3, alpha=0.5, label='pmf')\n",
    "    ax[1,1].legend(loc=(1, 0))\n",
    "    ax[1,1].set_xlabel('Outcomes')\n",
    "    ax[1,1].set_ylabel('PMF and observed frequencies')\n",
    "\n",
    "    fig.suptitle(title,fontsize=24)\n",
    "    \n",
    "    return fig, ax"
   ]
  },
  {
   "cell_type": "code",
   "execution_count": null,
   "metadata": {},
   "outputs": [],
   "source": [
    "x = np.arange(1,7)\n",
    "dist = discrete\n",
    "title = 'Discrete Uniform Distribution, p = {:.3f}'.format(1/len(x))\n",
    "\n",
    "fig, ax = distribution_plot(x, dist, title=title)"
   ]
  },
  {
   "cell_type": "markdown",
   "metadata": {},
   "source": [
    "<a id='bernoulli'></a>\n",
    "\n",
    "### The Bernoulli distribution\n",
    "\n",
    "---\n",
    "\n",
    "When the outcome of a random variable is binary it is known as a [Bernoulli distributed random variable](https://docs.scipy.org/doc/scipy/reference/generated/scipy.stats.bernoulli.html#scipy.stats.bernoulli). Typically, these outcomes are denoted with values of 0 and 1.\n",
    "\n",
    "Some common examples of a Bernoulli random variable include:\n",
    "\n",
    "- A coin flip\n",
    "- Whether or not it will rain tomorrow\n",
    "- Whether or not a user will buy your product after visiting your website\n",
    "\n",
    "That last example - and Bernoulli distributed variables in general - will continually appear throughout the course, especially in the contexts of classification and split tests."
   ]
  },
  {
   "cell_type": "markdown",
   "metadata": {},
   "source": [
    "#### The Bernoulli probability mass function \n",
    "\n",
    "The probability mass function for outcomes $X$ and probabilities $p$ is:\n",
    "\n",
    "$$  {\\rm pmf}(X; p) =\n",
    "    \\begin{cases}\n",
    "    p & \\text{for }X=1 \\\\\n",
    "    1-p & \\text{for }X=0 \\\\ \n",
    "    \\end{cases}\n",
    "$$\n",
    "\n",
    "Below is a PMF where $p({\\rm heads}) = 0.25$, an unfair coin-flip."
   ]
  },
  {
   "cell_type": "code",
   "execution_count": null,
   "metadata": {},
   "outputs": [],
   "source": [
    "p = 0.25\n",
    "bernoulli = stats.bernoulli(p)\n",
    "bernoulli.pmf(range(2))"
   ]
  },
  {
   "cell_type": "code",
   "execution_count": null,
   "metadata": {},
   "outputs": [],
   "source": [
    "x = np.arange(2)\n",
    "dist = bernoulli"
   ]
  },
  {
   "cell_type": "code",
   "execution_count": null,
   "metadata": {},
   "outputs": [],
   "source": [
    "fig, ax = distribution_plot(x, dist, 'Bernoulli Distribution, p = {:.3f}'.format(p))"
   ]
  },
  {
   "cell_type": "markdown",
   "metadata": {},
   "source": [
    "<a id='binomial'></a>\n",
    "\n",
    "### The Binomial distribution\n",
    "\n",
    "---\n",
    "\n",
    "The [binomial distribution](https://docs.scipy.org/doc/scipy/reference/generated/scipy.stats.binom.html#scipy.stats.binom) is directly related to the Bernoulli distribution: it gives **the probability of having k successes in n Bernoulli trials with probability p irrespective of the order of successes and failures.**\n",
    "\n",
    "Whereas the Bernoulli distribution represented a single binary outcome and its probability of occurring, the binomial distribution has a parameter $n$ for the number of \"trials\" and a parameter $k$ for the number of successes.\n",
    "\n",
    "It is important to note that each trial, or event, must be independent and have the same probability $p$ of success in order to be represented with the binomial distribution. \n",
    "\n",
    "#### Binomial probability mass function\n",
    "\n",
    "The probability mass function is a function of $n$ trials with $k$ successes of probability $p$:\n",
    "\n",
    "$$ {\\rm pmf}(k;n,p) = P(X = k) = \\binom n k  p^k(1-p)^{n-k} $$\n",
    "\n",
    "\n",
    "This involves the [binomial coefficient](https://docs.scipy.org/doc/scipy/reference/generated/scipy.special.comb.html#scipy.special.comb) given by\n",
    "\n",
    "$$\n",
    "\\binom n k = \\frac{n!}{k!(n-k)!}\n",
    "$$\n",
    "\n",
    "Below is the binomial PMF for 50 coin flips, with 25% probability of getting heads.\n"
   ]
  },
  {
   "cell_type": "code",
   "execution_count": null,
   "metadata": {},
   "outputs": [],
   "source": [
    "trials = 50\n",
    "probability_of_success = 0.25\n",
    "binom = stats.binom(trials, probability_of_success)"
   ]
  },
  {
   "cell_type": "code",
   "execution_count": null,
   "metadata": {},
   "outputs": [],
   "source": [
    "binom.pmf(10)"
   ]
  },
  {
   "cell_type": "code",
   "execution_count": null,
   "metadata": {},
   "outputs": [],
   "source": [
    "x = np.arange(trials)\n",
    "dist = binom"
   ]
  },
  {
   "cell_type": "code",
   "execution_count": null,
   "metadata": {},
   "outputs": [],
   "source": [
    "fig, ax = distribution_plot(x, dist, 'Binomial Distribution, trials = {}, p = {:.3f}'.format(trials,probability_of_success))"
   ]
  },
  {
   "cell_type": "markdown",
   "metadata": {},
   "source": [
    "<a id='poisson'></a>\n",
    "\n",
    "### The Poisson distribution\n",
    "\n",
    "---\n",
    "\n",
    "The [Poisson distribution](https://docs.scipy.org/doc/scipy/reference/generated/scipy.stats.poisson.html#scipy.stats.poisson) is a discrete distribution. This time however the random variable could in principle assume any positive value. The most likeliest value is fixed by the **rate** $\\lambda$. \n",
    "\n",
    "This distribution can be used for example for modeling the probability distribution of observing a certain number of counts for a Bernoulli random variable, e.g. visitors of a website, if the average rate of visitors per time interval is constant. The counts could be expressed as 10 visitors every 15 minutes (which would be equivalent to 40 visitors every hour). If the considered time interval is smaller, one expects less events, i.e. visitors.\n",
    "\n",
    "The Poisson distribution will look very similar to the binomial distribution  for large number of trials and small probability of success (e.g. $n=50$ and $n p=5$)."
   ]
  },
  {
   "cell_type": "markdown",
   "metadata": {},
   "source": [
    "#### Poisson probability mass function\n",
    "\n",
    "$$P(k;\\lambda) = \\frac{\\lambda^k e^{-\\lambda}}{k!} $$\n",
    "\n",
    "Here, $k$ is the number of events that occur in an interval,\n",
    "\n",
    "and $\\lambda$ is the rate at which events occur.\n",
    "\n",
    "Let's say, for example, we are measuring visitors to our website. What is the probability mass function of the Poisson distribution for visitor counts $k$, given that we have an average rate of 25 visitors per hour?"
   ]
  },
  {
   "cell_type": "code",
   "execution_count": null,
   "metadata": {},
   "outputs": [],
   "source": [
    "rate = 25\n",
    "events_max = 50\n",
    "poisson = stats.poisson(rate)"
   ]
  },
  {
   "cell_type": "code",
   "execution_count": null,
   "metadata": {},
   "outputs": [],
   "source": [
    "poisson.pmf(25)"
   ]
  },
  {
   "cell_type": "code",
   "execution_count": null,
   "metadata": {},
   "outputs": [],
   "source": [
    "x = np.arange(events_max)\n",
    "dist = poisson\n",
    "\n",
    "fig, ax = distribution_plot(x, dist, title='Poisson Distribution, {} events, rate = {}'.format(events_max,rate))"
   ]
  },
  {
   "cell_type": "markdown",
   "metadata": {},
   "source": [
    "#### What if the rate was 5 instead?"
   ]
  },
  {
   "cell_type": "code",
   "execution_count": null,
   "metadata": {},
   "outputs": [],
   "source": [
    "rate = 5\n",
    "poisson = stats.poisson(rate)\n",
    "x = np.arange(events_max)\n",
    "dist = poisson\n",
    "\n",
    "fig, ax = distribution_plot(x, dist, title='Poisson Distribution, {} events, rate = {}'.format(events_max,rate))"
   ]
  },
  {
   "cell_type": "markdown",
   "metadata": {},
   "source": [
    "### Further interesting discrete distributions\n",
    "\n",
    "#### Mulitnomial distribution\n",
    "\n",
    "The [multinomial distribution](https://docs.scipy.org/doc/scipy/reference/generated/scipy.stats.multinomial.html#scipy.stats.multinomial) generalizes the binomial distribution to more than two possible outcomes."
   ]
  },
  {
   "cell_type": "markdown",
   "metadata": {},
   "source": [
    "## Continuous distributions"
   ]
  },
  {
   "cell_type": "markdown",
   "metadata": {},
   "source": [
    "### Uniform distribution\n",
    "\n",
    "The [continuous uniform distribution](https://docs.scipy.org/doc/scipy/reference/generated/scipy.stats.uniform.html#scipy.stats.uniform) is called in a similar way. It gives the same probability density for all possible outcomes within the given continuous interval, for example any value between 0 and 0.5. Events outside these boundaries are not possible."
   ]
  },
  {
   "cell_type": "code",
   "execution_count": null,
   "metadata": {},
   "outputs": [],
   "source": [
    "left = 0\n",
    "right = 0.5\n",
    "uniform = stats.uniform(0,0.5)"
   ]
  },
  {
   "cell_type": "markdown",
   "metadata": {},
   "source": [
    "#### Probability density function (pdf)\n",
    "\n",
    "Now instead of the probability mass function we have a probability density function (pdf). \n",
    "\n",
    "Evaluating the pdf on various values does **not** give the probability of having a certain value (in this case we obtain 2 for every possible value between 0 and 0.5). \n",
    "\n",
    "Probabilities can only be associated with an interval and are given by the area under the curve within that interval. For example the probability for having any value between 0 and 0.5 is one corresponding to the surface of the rectangle under the curve.\n",
    "\n",
    "The cumulative distribution function/survival function are calculated in the same way as for the discrete distribution."
   ]
  },
  {
   "cell_type": "code",
   "execution_count": null,
   "metadata": {},
   "outputs": [],
   "source": [
    "x = np.linspace(left,right,10)\n",
    "uniform.pdf(x)"
   ]
  },
  {
   "cell_type": "code",
   "execution_count": null,
   "metadata": {},
   "outputs": [],
   "source": [
    "plt.figure(figsize=(5,6))\n",
    "plt.plot(x,uniform.pdf(x), color='b', lw=4)\n",
    "plt.vlines(0, 0, 2, color='b', lw=4)\n",
    "plt.vlines(0.5, 0, 2, color='b', lw=4)\n",
    "plt.ylim(0, 2.2)\n",
    "plt.show()"
   ]
  },
  {
   "cell_type": "code",
   "execution_count": null,
   "metadata": {},
   "outputs": [],
   "source": [
    "def continuous_distribution_plot(x, dist, title='Continuous distribution', sharex=True, bins=None):\n",
    "    \"\"\"\n",
    "    Produce plots of pdf, cdf, sf and a histogram based on random samples \n",
    "    drawn from the given distribution.\n",
    "    Arguments:\n",
    "    x: possible outcome values\n",
    "    dist: the scipy distribution\n",
    "    title: the figure title\n",
    "    sharex: use the same x-axis for plots in each column\n",
    "    bins: if None choose automatic binning, otherwise specify\n",
    "    Returns:\n",
    "    fig and ax objects\n",
    "    \"\"\"\n",
    "    fig, ax = plt.subplots(nrows=2, ncols=2, sharex=sharex, figsize=(16,12))\n",
    "\n",
    "    ax[0,0].plot(x, dist.pdf(x),lw=4)\n",
    "    ax[0,0].set_ylim([0,dist.pdf(x).max()+dist.pdf(x).max()*0.1])\n",
    "    ax[0,0].set_ylabel('Probability Density Function (pdf)')\n",
    "\n",
    "    ax[0,1].plot(x, dist.cdf(x),lw=4)\n",
    "    ax[0,1].set_ylabel('Cumulative Distribution Function (cdf)')\n",
    "\n",
    "    ax[1,0].plot(x, dist.sf(x),lw=4)\n",
    "    ax[1,0].set_xlabel('Outcomes')\n",
    "    ax[1,0].set_ylabel('Survival Function (sf)')\n",
    "\n",
    "    n = 10000\n",
    "    sample = dist.rvs(n)\n",
    "\n",
    "    ax[1,1].hist(sample, alpha=0.5, label='sample',density=True, bins=bins)\n",
    "    ax[1,1].plot(x, dist.pdf(x), alpha=1, lw=4, label='pdf')\n",
    "    ax[1,1].legend(loc=(1, 0))\n",
    "    ax[1,1].set_xlabel('Outcomes')\n",
    "    ax[1,1].set_ylabel('PDF and observed frequencies')\n",
    "\n",
    "    fig.suptitle(title,fontsize=24)\n",
    "    \n",
    "    return fig, ax"
   ]
  },
  {
   "cell_type": "code",
   "execution_count": null,
   "metadata": {},
   "outputs": [],
   "source": [
    "x = np.linspace(0,0.5,50)\n",
    "dist = uniform\n",
    "title = 'Continuous Uniform Distribution, left: {}, right: {}'.format(left,right)"
   ]
  },
  {
   "cell_type": "code",
   "execution_count": null,
   "metadata": {},
   "outputs": [],
   "source": [
    "fig, ax = continuous_distribution_plot(x, dist, title)"
   ]
  },
  {
   "cell_type": "markdown",
   "metadata": {},
   "source": [
    "<a id='normal'></a>\n",
    "\n",
    "### The Normal distribution\n",
    "\n",
    "---\n",
    "\n",
    "The [normal distribution](https://docs.scipy.org/doc/scipy/reference/generated/scipy.stats.norm.html#scipy.stats.norm) is the most well known and arguably most important distribution in statistics. The normal distribution models the sum of random variables from _any_ distribution. This is the central limit theorem, which we discuss in greater detail in another lesson.\n",
    "\n",
    "There are some caveats to the idea that the sum of random variables will be normally distributed, but it holds true in many cases. Because of the central limit theorem, the normal distribution appears all the time in the real world."
   ]
  },
  {
   "cell_type": "markdown",
   "metadata": {},
   "source": [
    "#### Normal probability density function\n",
    "\n",
    "The probability density function of the normal distribution is given by:\n",
    "\n",
    "$$ {\\rm pdf}(X \\; | \\; \\mu, \\sigma^2) = \\frac{1}{\\sqrt{2\\pi\\sigma^2} } \\; e^{ -\\frac{(X-\\mu)^2}{2\\sigma^2} } $$\n",
    "\n",
    "Here, $\\mu$ is the mean of the distribution,\n",
    "\n",
    "and $\\sigma^2$ is the variance of the distribution.\n",
    "\n",
    "Thus, the parameters of a Normal distribution are its mean and variance.\n",
    "\n",
    "> **This is one of the very few formulas that you should really remember!**"
   ]
  },
  {
   "cell_type": "code",
   "execution_count": null,
   "metadata": {},
   "outputs": [],
   "source": [
    "mean_ex = 10\n",
    "std_ex = 5\n",
    "normal = stats.norm(mean_ex, std_ex)\n",
    "title = 'Normal Distribution, mean: {}, std: {}'.format(mean_ex,std_ex)"
   ]
  },
  {
   "cell_type": "code",
   "execution_count": null,
   "metadata": {},
   "outputs": [],
   "source": [
    "x = np.linspace(mean_ex-3*std_ex,mean_ex+3*std_ex,50)\n",
    "dist = normal\n",
    "fig, ax = continuous_distribution_plot(x, dist, title=title)"
   ]
  },
  {
   "cell_type": "markdown",
   "metadata": {},
   "source": [
    "<a id='exponential'></a>\n",
    "\n",
    "### The Exponential distribution\n",
    "\n",
    "---\n",
    "\n",
    "\n",
    "\n",
    "#### Exponential probability density function\n",
    "\n",
    "The continuous [exponential distribution](https://docs.scipy.org/doc/scipy/reference/generated/scipy.stats.expon.html#scipy.stats.expon) is defined as\n",
    "\n",
    "$$ {\\rm pdf}(x;\\lambda) = \\lambda  e^{-\\lambda x} $$\n",
    "\n",
    "In this case, the random variable $x$ can only take positive values.\n",
    "Here, $\\lambda$ is the shape parameter of the distribution.\n",
    "\n",
    "Low values of $x$ are the likeliest and all higher values are less likely, with probability reducing exponentially."
   ]
  },
  {
   "cell_type": "code",
   "execution_count": null,
   "metadata": {},
   "outputs": [],
   "source": [
    "duration = 60\n",
    "counts = 10\n",
    "lambda_exp = 1/6\n",
    "exponential = stats.expon(scale=1./rate)\n",
    "title = r'Exponential Distribution, $\\lambda$: {:.3f}'.format(lambda_exp)"
   ]
  },
  {
   "cell_type": "code",
   "execution_count": null,
   "metadata": {},
   "outputs": [],
   "source": [
    "x = np.linspace(0,2,50)\n",
    "\n",
    "dist = exponential\n",
    "fig, ax = continuous_distribution_plot(x, dist, title=title)"
   ]
  },
  {
   "cell_type": "markdown",
   "metadata": {},
   "source": [
    "If one is indeed dealing with an exponential distribution can be quickly checked by plotting the probability distribution with a logarithmically scaled y-axis. You should see a straight line."
   ]
  },
  {
   "cell_type": "code",
   "execution_count": null,
   "metadata": {},
   "outputs": [],
   "source": [
    "plt.plot(x, dist.pdf(x),lw=4)\n",
    "plt.yscale('log')\n",
    "plt.show()"
   ]
  },
  {
   "cell_type": "markdown",
   "metadata": {},
   "source": [
    "### The Pareto distribution\n",
    "\n",
    "---\n",
    "\n",
    "Another distribution which appears in many different contexts is the [Pareto distribution](https://docs.scipy.org/doc/scipy/reference/generated/scipy.stats.pareto.html#scipy.stats.pareto). A typical example is the distribution of wealth or salaries which ranges from many people at the lowest income to few extremely wealthy people at the top. A good approximation can be given by the Pareto (also called power-law) distribution of the form\n",
    "\n",
    "\\begin{equation*}\n",
    "{\\rm pdf}(x;b) = \\frac{b}{x^{b+1}}\n",
    "\\end{equation*}\n",
    "\n",
    "\n",
    "The cumulative distribution function is\n",
    "\n",
    "\\begin{equation*}\n",
    "{\\rm cdf}(x;b) = 1-\\frac{1}{x^{b}}\n",
    "\\end{equation*}\n",
    "\n",
    "Here $x\\ge 1$ and $b>0$. The variable $x$ measures the ratio between any value and the lowest possible value, that is why it cannot become smaller than 1.\n",
    "\n",
    "In contrast to the normal distribution which decays exponentially fast away from the mean, here the probability distribution decays much slower according to the power law with exponent $b$. Distributions with such slow decay are often described as being \"fat tailed\".\n",
    "\n",
    "The form of this distribution leads also to the fact that the higher moments of this distribution do not exist. For example, if $b\\le 2$, the variance does not exist, and if $b\\le 1$ both mean and variance do not exist."
   ]
  },
  {
   "cell_type": "code",
   "execution_count": null,
   "metadata": {},
   "outputs": [],
   "source": [
    "b = 2.5\n",
    "pareto = stats.pareto(b=b)"
   ]
  },
  {
   "cell_type": "code",
   "execution_count": null,
   "metadata": {},
   "outputs": [],
   "source": [
    "pareto_mean, pareto_std = pareto.stats()\n",
    "print('Mean: ', pareto_mean, ', Var: ', pareto_std)"
   ]
  },
  {
   "cell_type": "code",
   "execution_count": null,
   "metadata": {},
   "outputs": [],
   "source": [
    "x = np.linspace(1,6,50)\n",
    "\n",
    "dist = pareto\n",
    "title = r'Pareto Distribution, $b$: {:.1f}'.format(b)\n",
    "\n",
    "fig, ax = continuous_distribution_plot(x, dist, title=title, sharex=False, bins=np.linspace(0,10,10))"
   ]
  },
  {
   "cell_type": "markdown",
   "metadata": {
    "slideshow": {
     "slide_type": "fragment"
    }
   },
   "source": [
    "Plotting the probability density on a double-logarithmic scale will show you a straight line."
   ]
  },
  {
   "cell_type": "code",
   "execution_count": null,
   "metadata": {},
   "outputs": [],
   "source": [
    "plt.plot(x, dist.pdf(x),lw=4)\n",
    "plt.xscale('log')\n",
    "plt.yscale('log')\n",
    "plt.show()"
   ]
  },
  {
   "cell_type": "markdown",
   "metadata": {},
   "source": [
    "## Common notation\n",
    "\n",
    "To express that a continuous random variable follows a normal distribution with mean $\\mu$ and standard deviation $\\sigma$ one often writes\n",
    "\n",
    "$$\n",
    "X \\sim N(\\mu,\\sigma)\n",
    "$$\n",
    "\n",
    "Similarly for a discrete random variable following a Poisson distribution with rate $\\lambda$ one would write\n",
    "\n",
    "$$\n",
    "X \\sim {\\rm Poisson}(\\lambda)\n",
    "$$"
   ]
  },
  {
   "cell_type": "markdown",
   "metadata": {},
   "source": [
    "## Other interesting continuous distributions\n",
    "\n",
    "### The student/t-distribution\n",
    "\n",
    "The [t-distribution](https://docs.scipy.org/doc/scipy/reference/generated/scipy.stats.t.html#scipy.stats.t) distribution occurs in the context of confidence intervals around estimated means and in hypothesis testing related to means of two samples being statistically significantly different.\n",
    "\n",
    "### The chi-squared ($\\chi^2$) distribution\n",
    "\n",
    "The [$\\chi^2$ distribution](https://docs.scipy.org/doc/scipy/reference/generated/scipy.stats.chi2.html#scipy.stats.chi2) occurs for example in the context of hypothesis testing (testing for equality of standard deviations of two samples).\n",
    "\n",
    "### The beta distribution\n",
    "\n",
    "The [beta distribution](https://docs.scipy.org/doc/scipy/reference/generated/scipy.stats.beta.html#scipy.stats.beta) is a continuous distribution for random variables limited to values between 0 and 1. We will meet it in the context of Bayesian modeling. We will need it to model the probability of having a certain probability for Bernoulli trials."
   ]
  },
  {
   "cell_type": "markdown",
   "metadata": {},
   "source": [
    "## Relationships between probability distributions\n",
    "\n",
    "There are many relationships among the different probability distributions, some of them are special cases of others, or arise from each other in particular limits or after variable transformations. Have a look at\n",
    "\n",
    "- [Wikipedia overview](https://en.wikipedia.org/wiki/Relationships_among_probability_distributions)\n"
   ]
  },
  {
   "cell_type": "markdown",
   "metadata": {},
   "source": [
    "## Additional resources\n",
    "\n",
    "- [Scipy documentation](https://docs.scipy.org/doc/scipy/reference/)\n",
    "- [Scipy stats package documentation](https://docs.scipy.org/doc/scipy/reference/stats.html)"
   ]
  }
 ],
 "metadata": {
  "kernelspec": {
   "display_name": "Python 3 (ipykernel)",
   "language": "python",
   "name": "python3"
  },
  "language_info": {
   "codemirror_mode": {
    "name": "ipython",
    "version": 3
   },
   "file_extension": ".py",
   "mimetype": "text/x-python",
   "name": "python",
   "nbconvert_exporter": "python",
   "pygments_lexer": "ipython3",
   "version": "3.10.13"
  },
  "toc": {
   "nav_menu": {},
   "number_sections": false,
   "sideBar": true,
   "skip_h1_title": true,
   "title_cell": "Lesson Guide",
   "title_sidebar": "Contents",
   "toc_cell": true,
   "toc_position": {
    "height": "322px",
    "left": "0px",
    "right": "703.333px",
    "top": "144px",
    "width": "180px"
   },
   "toc_section_display": "block",
   "toc_window_display": false
  }
 },
 "nbformat": 4,
 "nbformat_minor": 1
}
