{
 "cells": [
  {
   "cell_type": "markdown",
   "metadata": {},
   "source": [
    "<img src=\"http://imgur.com/1ZcRyrc.png\" style=\"float: left; margin: 20px; height: 55px\">\n",
    "\n",
    "# For loops\n",
    "\n",
    "---"
   ]
  },
  {
   "cell_type": "markdown",
   "metadata": {},
   "source": [
    "### 1. Write a for-loop that prints out the numbers from 1 to 15 inclusively."
   ]
  },
  {
   "cell_type": "code",
   "execution_count": 1,
   "metadata": {},
   "outputs": [
    {
     "name": "stdout",
     "output_type": "stream",
     "text": [
      "1\n",
      "2\n",
      "3\n",
      "4\n",
      "5\n",
      "6\n",
      "7\n",
      "8\n",
      "9\n",
      "10\n",
      "11\n",
      "12\n",
      "13\n",
      "14\n",
      "15\n"
     ]
    }
   ],
   "source": [
    "for x in range(15):\n",
    "    print(x+1)"
   ]
  },
  {
   "cell_type": "markdown",
   "metadata": {},
   "source": [
    "---\n",
    "\n",
    "### 2. Use a for loop to iterate over a string and append each letter to a list. Print the list."
   ]
  },
  {
   "cell_type": "code",
   "execution_count": 2,
   "metadata": {},
   "outputs": [
    {
     "name": "stdout",
     "output_type": "stream",
     "text": [
      "['t', 'i', 'v', 'e', 'n', 'd', 'r', 'e', 'n']\n"
     ]
    }
   ],
   "source": [
    "L=[]\n",
    "s=\"tivendren\"\n",
    "\n",
    "for x in s:\n",
    "    L.append(x)\n",
    "    \n",
    "print(L)"
   ]
  },
  {
   "cell_type": "markdown",
   "metadata": {},
   "source": [
    "---\n",
    "\n",
    "### 3. Iterate through the list of animals and print the capitalized version of each.\n",
    "\n",
    "Hint: there is a function `.upper()` which can be applied to strings."
   ]
  },
  {
   "cell_type": "code",
   "execution_count": 4,
   "metadata": {},
   "outputs": [],
   "source": [
    "animals = ['duck', 'rat', 'boar', 'elefant', 'mammoth', 'gazelle']"
   ]
  },
  {
   "cell_type": "code",
   "execution_count": 6,
   "metadata": {},
   "outputs": [
    {
     "name": "stdout",
     "output_type": "stream",
     "text": [
      "DUCK\n",
      "RAT\n",
      "BOAR\n",
      "ELEFANT\n",
      "MAMMOTH\n",
      "GAZELLE\n"
     ]
    }
   ],
   "source": [
    "for x in animals:\n",
    "    print(x.upper())"
   ]
  },
  {
   "cell_type": "markdown",
   "metadata": {},
   "source": [
    "---\n",
    "\n",
    "### 4. Iterate through the list of animals from the previous exercise. Capitalize the first letter and append the modified animals to a new list.\n",
    "\n",
    "Hint: You have to initialise the list to which you want to append first, just assign an empty list (one without elements) to a variable name."
   ]
  },
  {
   "cell_type": "code",
   "execution_count": 21,
   "metadata": {},
   "outputs": [],
   "source": [
    "animals = ['DUCK', 'rat', 'boar', 'elefant', 'mammoth', 'gazelle']"
   ]
  },
  {
   "cell_type": "code",
   "execution_count": 18,
   "metadata": {},
   "outputs": [
    {
     "name": "stdout",
     "output_type": "stream",
     "text": [
      "Asdkhbasdjknasd\n"
     ]
    }
   ],
   "source": [
    "s=\"asdkhbasdjknasd\"\n",
    "s=s.capitalize()\n",
    "print(s)"
   ]
  },
  {
   "cell_type": "code",
   "execution_count": 22,
   "metadata": {},
   "outputs": [
    {
     "name": "stdout",
     "output_type": "stream",
     "text": [
      "['Duck', 'Rat', 'Boar', 'Elefant', 'Mammoth', 'Gazelle']\n"
     ]
    }
   ],
   "source": [
    "new_animals=[]\n",
    "\n",
    "for x in animals:\n",
    "    new_animals.append(x.capitalize())\n",
    "    \n",
    "print(new_animals)\n",
    "    "
   ]
  },
  {
   "cell_type": "markdown",
   "metadata": {},
   "source": [
    "---\n",
    "\n",
    "## While loops"
   ]
  },
  {
   "cell_type": "markdown",
   "metadata": {},
   "source": [
    "---\n",
    "\n",
    "### 5. Use a while loop to sum the integers from 1 to 100 inclusively."
   ]
  },
  {
   "cell_type": "code",
   "execution_count": 29,
   "metadata": {},
   "outputs": [
    {
     "name": "stdout",
     "output_type": "stream",
     "text": [
      "5050\n"
     ]
    }
   ],
   "source": [
    "sum=0\n",
    "num=1\n",
    "while sum < 100:\n",
    "    for x in range(100):\n",
    "        sum +=num\n",
    "        num +=1\n",
    "    \n",
    "print(sum)"
   ]
  },
  {
   "cell_type": "markdown",
   "metadata": {},
   "source": [
    "---\n",
    "\n",
    "### 6. Write a while loop which prints 'inside loop' each time it runs through the loop. Don't forget to limit the number of times you want to run through the loop."
   ]
  },
  {
   "cell_type": "code",
   "execution_count": 11,
   "metadata": {},
   "outputs": [
    {
     "name": "stdout",
     "output_type": "stream",
     "text": [
      "inside loop\n",
      "inside loop\n",
      "inside loop\n",
      "inside loop\n",
      "inside loop\n"
     ]
    }
   ],
   "source": [
    "x=0\n",
    "while x < 5:\n",
    "    print(\"inside loop\")\n",
    "    x +=1\n",
    "    "
   ]
  },
  {
   "cell_type": "markdown",
   "metadata": {},
   "source": [
    "--- \n",
    "### 7. Write a while loop that removes in each traversal the last element from my_list and stops as soon as my_list is empty."
   ]
  },
  {
   "cell_type": "code",
   "execution_count": 15,
   "metadata": {},
   "outputs": [
    {
     "name": "stdout",
     "output_type": "stream",
     "text": [
      "[]\n"
     ]
    }
   ],
   "source": [
    "my_list = list(range(20))\n",
    "\n",
    "while my_list != []:\n",
    "    for x in my_list:\n",
    "        my_list.pop()\n",
    "        \n",
    "print(my_list)\n"
   ]
  },
  {
   "cell_type": "markdown",
   "metadata": {},
   "source": [
    "---\n",
    "### 8. Write a quiz using for and while loops. Formulate a dictionary containing questions and a list containing the corresponding answers. Loop through the questions, print out the question and ask for the answer. Make the program ask the question again as long as the question has not been answered correctly."
   ]
  },
  {
   "cell_type": "code",
   "execution_count": 26,
   "metadata": {},
   "outputs": [
    {
     "name": "stdout",
     "output_type": "stream",
     "text": [
      "how many in a week\n",
      "whats is your answer ?\n",
      "whats is your answer ?\n",
      "whats is your answer ?\n",
      "whats is your answer ?\n",
      "whats is your answer ?\n",
      "whats is your answer ?7\n",
      "You are correct\n",
      "capital of france\n",
      "whats is your answer ?\n",
      "whats is your answer ?\n",
      "whats is your answer ?\n",
      "whats is your answer ?\n",
      "whats is your answer ?\n",
      "whats is your answer ?paris\n",
      "You are correct\n"
     ]
    }
   ],
   "source": [
    "d_list={\"how many in a week\":\"7\",\"capital of france\":\"paris\"}\n",
    "user_answer=\"\"\n",
    "\n",
    "for keys,values in d_list.items():\n",
    "    print(keys)\n",
    "    while user_answer == \"\" :\n",
    "        user_answer=input(\"whats is your answer ?\")\n",
    "        \n",
    "    if values ==user_answer:\n",
    "        print(\"You are correct\")\n",
    "        \n",
    "    else:\n",
    "        print(\"You are wrong\")\n",
    "    user_answer=\"\"\n",
    "        \n",
    "    \n",
    "    "
   ]
  }
 ],
 "metadata": {
  "anaconda-cloud": {},
  "kernelspec": {
   "display_name": "Python 3 (ipykernel)",
   "language": "python",
   "name": "python3"
  },
  "language_info": {
   "codemirror_mode": {
    "name": "ipython",
    "version": 3
   },
   "file_extension": ".py",
   "mimetype": "text/x-python",
   "name": "python",
   "nbconvert_exporter": "python",
   "pygments_lexer": "ipython3",
   "version": "3.11.3"
  },
  "toc": {
   "nav_menu": {},
   "number_sections": false,
   "sideBar": true,
   "skip_h1_title": true,
   "title_cell": "Table of Contents",
   "title_sidebar": "Contents",
   "toc_cell": false,
   "toc_position": {},
   "toc_section_display": "block",
   "toc_window_display": false
  }
 },
 "nbformat": 4,
 "nbformat_minor": 1
}
