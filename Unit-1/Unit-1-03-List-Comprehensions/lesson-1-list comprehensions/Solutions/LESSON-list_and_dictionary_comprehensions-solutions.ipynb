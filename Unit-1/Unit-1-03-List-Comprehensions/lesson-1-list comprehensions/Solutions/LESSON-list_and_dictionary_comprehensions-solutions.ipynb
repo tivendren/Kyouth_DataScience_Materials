{
 "cells": [
  {
   "cell_type": "markdown",
   "metadata": {
    "slideshow": {
     "slide_type": "slide"
    }
   },
   "source": [
    "<img src=\"http://imgur.com/1ZcRyrc.png\" style=\"float: left; margin: 20px; height: 55px\">\n",
    "\n",
    "# Python List & Dictionary Comprehensions\n",
    "\n",
    "---\n",
    "\n",
    "### Learning Objectives\n",
    "*After this lesson, you will be able to:*\n",
    "- Create list comprehensions \n",
    "- Create dictionary comprehensions \n",
    "- Use conditional logic (`if`/`else`) within list & dictionary comprehensions\n",
    "- Use `zip()` and `enumerate()` within list & dictionary comprehensions\n",
    "- Use nested list & dictionary comprehensions "
   ]
  },
  {
   "cell_type": "markdown",
   "metadata": {},
   "source": [
    "---\n",
    "\n",
    "### Lesson Guide\n",
    "\n",
    "- [Warm-Up on Python Basics](#warm-up)\n",
    "- [Basic List Comprehensions](#list_comprehensions)\n",
    "- [Basic Dictionary Comprehensions](#dictionary_comprehensions)\n",
    "- [Conditional Logic within Comprehensions](#conditional_comprehensions)\n",
    "- [Zip and Enumerate within Comprehensions](#zip_enumerate)\n",
    "- [Nested Comprehensions](#nested_comprehensions)"
   ]
  },
  {
   "cell_type": "markdown",
   "metadata": {},
   "source": [
    "<a id='warm-up'></a>\n",
    "\n",
    "### Warm-Up on  Python Basics\n",
    "\n",
    "---\n",
    "\n",
    "In the next 10-15min try to write the code for the questions below on the Python basics that you reviewed yesterday."
   ]
  },
  {
   "cell_type": "markdown",
   "metadata": {},
   "source": [
    "#### Warm-Up A:  Remove the last element in `lstA` below, then sort it, insert the number `22` into the 5th position, and take a slice of the 7th through the 10th elements (inclusive). "
   ]
  },
  {
   "cell_type": "markdown",
   "metadata": {},
   "source": [
    "**Hint:** You can use the function `dir()` to find out which attributes and methods are available for any python object."
   ]
  },
  {
   "cell_type": "code",
   "execution_count": 1,
   "metadata": {
    "slideshow": {
     "slide_type": "subslide"
    }
   },
   "outputs": [],
   "source": [
    "lstA = [13,15,-4,8,23,25,17,44,-7,-10,0,1,5,0,2,8,45]"
   ]
  },
  {
   "cell_type": "code",
   "execution_count": 2,
   "metadata": {},
   "outputs": [
    {
     "data": {
      "text/plain": [
       "['__add__',\n",
       " '__class__',\n",
       " '__class_getitem__',\n",
       " '__contains__',\n",
       " '__delattr__',\n",
       " '__delitem__',\n",
       " '__dir__',\n",
       " '__doc__',\n",
       " '__eq__',\n",
       " '__format__',\n",
       " '__ge__',\n",
       " '__getattribute__',\n",
       " '__getitem__',\n",
       " '__gt__',\n",
       " '__hash__',\n",
       " '__iadd__',\n",
       " '__imul__',\n",
       " '__init__',\n",
       " '__init_subclass__',\n",
       " '__iter__',\n",
       " '__le__',\n",
       " '__len__',\n",
       " '__lt__',\n",
       " '__mul__',\n",
       " '__ne__',\n",
       " '__new__',\n",
       " '__reduce__',\n",
       " '__reduce_ex__',\n",
       " '__repr__',\n",
       " '__reversed__',\n",
       " '__rmul__',\n",
       " '__setattr__',\n",
       " '__setitem__',\n",
       " '__sizeof__',\n",
       " '__str__',\n",
       " '__subclasshook__',\n",
       " 'append',\n",
       " 'clear',\n",
       " 'copy',\n",
       " 'count',\n",
       " 'extend',\n",
       " 'index',\n",
       " 'insert',\n",
       " 'pop',\n",
       " 'remove',\n",
       " 'reverse',\n",
       " 'sort']"
      ]
     },
     "execution_count": 2,
     "metadata": {},
     "output_type": "execute_result"
    }
   ],
   "source": [
    "dir(lstA)"
   ]
  },
  {
   "cell_type": "code",
   "execution_count": 3,
   "metadata": {},
   "outputs": [
    {
     "data": {
      "text/plain": [
       "[-10, -7, -4, 0, 0, 1, 2, 5, 8, 8, 13, 15, 17, 23, 25, 44, 45]"
      ]
     },
     "execution_count": 3,
     "metadata": {},
     "output_type": "execute_result"
    }
   ],
   "source": [
    "lstA.sort()\n",
    "lstA"
   ]
  },
  {
   "cell_type": "code",
   "execution_count": 4,
   "metadata": {},
   "outputs": [],
   "source": [
    "ls = sorted(lstA[:-1])"
   ]
  },
  {
   "cell_type": "code",
   "execution_count": 5,
   "metadata": {},
   "outputs": [],
   "source": [
    "ls.insert(4, 22)"
   ]
  },
  {
   "cell_type": "code",
   "execution_count": 6,
   "metadata": {},
   "outputs": [
    {
     "data": {
      "text/plain": [
       "[1, 2, 5, 8]"
      ]
     },
     "execution_count": 6,
     "metadata": {},
     "output_type": "execute_result"
    }
   ],
   "source": [
    "ls[6:10]"
   ]
  },
  {
   "cell_type": "markdown",
   "metadata": {},
   "source": [
    "#### Warm-Up B:  Remove Diesel from `dictB` below.  Add Teddy to the dictionary with a value of 5. Get a list of the key, value tuples now in the dictionary."
   ]
  },
  {
   "cell_type": "code",
   "execution_count": 7,
   "metadata": {},
   "outputs": [],
   "source": [
    "dictB = {'Mabel':10,\n",
    "         'Wilbur':12,\n",
    "         'Diesel':4,\n",
    "         'Schatzie':9}"
   ]
  },
  {
   "cell_type": "code",
   "execution_count": 8,
   "metadata": {},
   "outputs": [
    {
     "data": {
      "text/plain": [
       "4"
      ]
     },
     "execution_count": 8,
     "metadata": {},
     "output_type": "execute_result"
    }
   ],
   "source": [
    "dictB.pop('Diesel')\n"
   ]
  },
  {
   "cell_type": "code",
   "execution_count": 9,
   "metadata": {},
   "outputs": [],
   "source": [
    "dictB['Teddy'] = 5"
   ]
  },
  {
   "cell_type": "code",
   "execution_count": 10,
   "metadata": {},
   "outputs": [
    {
     "data": {
      "text/plain": [
       "[('Mabel', 10), ('Wilbur', 12), ('Schatzie', 9), ('Teddy', 5)]"
      ]
     },
     "execution_count": 10,
     "metadata": {},
     "output_type": "execute_result"
    }
   ],
   "source": [
    "list(dictB.items())"
   ]
  },
  {
   "cell_type": "markdown",
   "metadata": {},
   "source": [
    "<a id='list_comprehensions'></a>\n",
    "\n",
    "### Basic List Comprehensions\n",
    "\n",
    "---\n",
    "\n",
    "List comprehensions are a simple and powerful syntax that allow for fast, efficient, and intuitive manipulation of array-like data types.\n",
    "\n",
    "They are very useful replacements for iteration control statements!"
   ]
  },
  {
   "cell_type": "code",
   "execution_count": 21,
   "metadata": {},
   "outputs": [],
   "source": [
    "#Let's write a for-loop to take the list below and return a list where each element has been squared:\n",
    "numbers_A = [1,2,3,4,5,6,10,12]\n",
    "\n",
    "ls_ = []\n",
    "for n in numbers_A:\n",
    "    ls_.append(n**2)\n"
   ]
  },
  {
   "cell_type": "code",
   "execution_count": 22,
   "metadata": {},
   "outputs": [
    {
     "data": {
      "text/plain": [
       "[1, 4, 9, 16, 25, 36, 100, 144]"
      ]
     },
     "execution_count": 22,
     "metadata": {},
     "output_type": "execute_result"
    }
   ],
   "source": [
    "ls_"
   ]
  },
  {
   "cell_type": "code",
   "execution_count": 23,
   "metadata": {},
   "outputs": [
    {
     "data": {
      "text/plain": [
       "[1, 9, 25, 49, 81, 121, 225]"
      ]
     },
     "execution_count": 23,
     "metadata": {},
     "output_type": "execute_result"
    }
   ],
   "source": [
    "#Now, let's do the same thing with a list comprehension:\n",
    "numbers_B = [1,3,5,7,9,11,15]\n",
    "\n",
    "\n",
    "[n**2 for n in numbers_B]"
   ]
  },
  {
   "cell_type": "markdown",
   "metadata": {
    "slideshow": {
     "slide_type": "slide"
    }
   },
   "source": [
    "- Within the brackets these elements are similar to a for loop:\n",
    "  1. The **operation per element** or **expression for the outcome** comes first: `n**2`\n",
    "  2. Next is the **for loop variable assignment**: `for n`\n",
    "  3. Last comes the **list of elements to iterate over**: `in numbers_B`"
   ]
  },
  {
   "cell_type": "markdown",
   "metadata": {},
   "source": [
    "#### Quick Practice: Try these basic list comprehensions!"
   ]
  },
  {
   "cell_type": "code",
   "execution_count": 24,
   "metadata": {},
   "outputs": [],
   "source": [
    "#Multiply every element in this list by 10, and then subtract 4:\n",
    "numbers = [6,10,8,5,3]"
   ]
  },
  {
   "cell_type": "code",
   "execution_count": 25,
   "metadata": {},
   "outputs": [
    {
     "data": {
      "text/plain": [
       "[56, 96, 76, 46, 26]"
      ]
     },
     "execution_count": 25,
     "metadata": {},
     "output_type": "execute_result"
    }
   ],
   "source": [
    "[n*10-4 for n in numbers]"
   ]
  },
  {
   "cell_type": "code",
   "execution_count": 26,
   "metadata": {},
   "outputs": [],
   "source": [
    "#Use .capitalize() to get a list of the names with the first letters capitalized:\n",
    "names = ['alex','TOM','kate','Emily','hilde']\n"
   ]
  },
  {
   "cell_type": "code",
   "execution_count": 27,
   "metadata": {},
   "outputs": [
    {
     "data": {
      "text/plain": [
       "['Alex', 'Tom', 'Kate', 'Emily', 'Hilde']"
      ]
     },
     "execution_count": 27,
     "metadata": {},
     "output_type": "execute_result"
    }
   ],
   "source": [
    "[s.capitalize() for s in names]"
   ]
  },
  {
   "cell_type": "markdown",
   "metadata": {},
   "source": [
    "<a id='dictionary_comprehensions'></a>\n",
    "\n",
    "### Basic Dictionary Comprehensions\n",
    "\n",
    "---\n",
    "\n",
    "You can also use comprehensions to create dictionaries instead of lists!\n",
    "You'll need to use `{}` instead of `[]`, and you'll need to determine what you want the key:value pair to look like!"
   ]
  },
  {
   "cell_type": "code",
   "execution_count": 30,
   "metadata": {},
   "outputs": [],
   "source": [
    "#let's write a for-loop to create a dictionary that stores how many 'e's there are in the words below:\n",
    "words_A = ['exasperated','angry','elated','incredulous']\n"
   ]
  },
  {
   "cell_type": "code",
   "execution_count": 31,
   "metadata": {},
   "outputs": [
    {
     "data": {
      "text/plain": [
       "3"
      ]
     },
     "execution_count": 31,
     "metadata": {},
     "output_type": "execute_result"
    }
   ],
   "source": [
    "'exasperated'.count('e')"
   ]
  },
  {
   "cell_type": "code",
   "execution_count": 32,
   "metadata": {},
   "outputs": [],
   "source": [
    "d = dict()\n",
    "for w in words_A:\n",
    "    d[w] = w.count('e')"
   ]
  },
  {
   "cell_type": "code",
   "execution_count": 33,
   "metadata": {},
   "outputs": [
    {
     "data": {
      "text/plain": [
       "{'exasperated': 3, 'angry': 0, 'elated': 2, 'incredulous': 1}"
      ]
     },
     "execution_count": 33,
     "metadata": {},
     "output_type": "execute_result"
    }
   ],
   "source": [
    "d"
   ]
  },
  {
   "cell_type": "code",
   "execution_count": 34,
   "metadata": {},
   "outputs": [
    {
     "data": {
      "text/plain": [
       "{'embarrassed': 2, 'exhausted': 2, 'overjoyed': 2, 'embittered': 3}"
      ]
     },
     "execution_count": 34,
     "metadata": {},
     "output_type": "execute_result"
    }
   ],
   "source": [
    "#now let's do the same thing with a dictionary comprehension:\n",
    "words_B = ['embarrassed','exhausted','overjoyed','embittered']\n",
    "{w:w.count('e') for w in words_B}"
   ]
  },
  {
   "cell_type": "code",
   "execution_count": 35,
   "metadata": {},
   "outputs": [
    {
     "data": {
      "text/plain": [
       "{'embarrassed': 4, 'exhausted': 3, 'overjoyed': 2, 'embittered': 3}"
      ]
     },
     "execution_count": 35,
     "metadata": {},
     "output_type": "execute_result"
    }
   ],
   "source": [
    "#now let's do the same thing again, but this time, let's count both the 'e's and the 'a's:\n",
    "words_B = ['embarrassed','exhausted','overjoyed','embittered']\n",
    "{w:w.count('e')+w.count('a') for w in words_B}"
   ]
  },
  {
   "cell_type": "markdown",
   "metadata": {},
   "source": [
    "#### Quick Practice: Try these basic dictionary comprehensions!"
   ]
  },
  {
   "cell_type": "code",
   "execution_count": 36,
   "metadata": {},
   "outputs": [
    {
     "data": {
      "text/plain": [
       "{'bus': 3, 'train': 5, 'airplane': 8, 'tram': 4, 'helicopter': 10}"
      ]
     },
     "execution_count": 36,
     "metadata": {},
     "output_type": "execute_result"
    }
   ],
   "source": [
    "#Create a dictionary storing the length of each word in the list below:\n",
    "words = ['bus','train','airplane','tram','helicopter']\n",
    "{w:len(w) for w in words}"
   ]
  },
  {
   "cell_type": "code",
   "execution_count": 37,
   "metadata": {},
   "outputs": [
    {
     "data": {
      "text/plain": [
       "{'GRANT': 5, 'SKETCHLEY': 9, 'REUSTLE': 7, 'HUSE': 4, 'MELLGARD': 8}"
      ]
     },
     "execution_count": 37,
     "metadata": {},
     "output_type": "execute_result"
    }
   ],
   "source": [
    "#Create a dictionary that stores the length of each of the surnames in the list below, but with the names capitalized:\n",
    "#ie: 'Grant': 5, etc\n",
    "surnames = ['grant','Sketchley','REUSTLE','huse','Mellgard']\n",
    "{n.upper():len(n) for n in surnames}"
   ]
  },
  {
   "cell_type": "code",
   "execution_count": 38,
   "metadata": {},
   "outputs": [
    {
     "data": {
      "text/plain": [
       "{1: (1, 1), 2: (4, 8), 3: (9, 27), 4: (16, 64), 5: (25, 125)}"
      ]
     },
     "execution_count": 38,
     "metadata": {},
     "output_type": "execute_result"
    }
   ],
   "source": [
    "#Create a dictionary that stores the square and the cube of each of the numbers below:\n",
    "numbers = [1,2,3,4,5]\n",
    "\n",
    "{n:(n**2, n**3) for n in numbers}\n"
   ]
  },
  {
   "cell_type": "markdown",
   "metadata": {},
   "source": [
    "<a id='conditional_comprehensions'></a>\n",
    "\n",
    "### Conditional Logic within Comprehensions\n",
    "\n",
    "---\n",
    "\n",
    "You can use if/else statements within comprehensions, just the same way that you can in a for loop! \n",
    "\n",
    "A rule of thumb is:\n",
    "- If the 'if' is related to **changing the outcome** you actually have, then it goes at **the beginning of your comprehension** after the expression for the outcome\n",
    "- If the 'if' is **filtering out some of the values** (for example, you ONLY want to find the square roots of the positive numbers in a list, and skip all the negatives), then it goes right **at the end of your comprehension**"
   ]
  },
  {
   "cell_type": "code",
   "execution_count": 39,
   "metadata": {
    "slideshow": {
     "slide_type": "subslide"
    }
   },
   "outputs": [
    {
     "name": "stdout",
     "output_type": "stream",
     "text": [
      "0\n",
      "0\n",
      "0\n",
      "1\n",
      "1\n"
     ]
    }
   ],
   "source": [
    "#Let's write a for-loop to binarize the list of numbers below depending on whether they are above or below 10\n",
    "#(If the number is below 10, we replace it with 0; if it's above 10, we replace it with 1)\n",
    "numbers_A = [5,7,8,19,30]\n",
    "\n",
    "new_A = []\n",
    "for n in numbers_A:\n",
    "    if n < 10:\n",
    "        new_A.append(0)\n",
    "    else:\n",
    "        new_A.append(1)\n",
    "new_A"
   ]
  },
  {
   "cell_type": "code",
   "execution_count": 40,
   "metadata": {},
   "outputs": [
    {
     "data": {
      "text/plain": [
       "[1, 0, 0, 1, 1]"
      ]
     },
     "execution_count": 40,
     "metadata": {},
     "output_type": "execute_result"
    }
   ],
   "source": [
    "#Now let's do the same thing with a list comprehension:\n",
    "numbers_B = [34,2,8,13,20]\n",
    "[0 if n < 10 else 1 for n in numbers_B]"
   ]
  },
  {
   "cell_type": "code",
   "execution_count": 41,
   "metadata": {},
   "outputs": [],
   "source": [
    "#Let's write a dictionary comprehension to store whether each word is 'short' or 'long' in the list below\n",
    "#If the length of the word is over six letters, then we'll say it's 'long'; otherwise it's 'short'\n",
    "#We want to skip over any items that aren't words\n",
    "lst_A = ['ostentatious','house','industrial', None,'dog',8,'eat']\n"
   ]
  },
  {
   "cell_type": "code",
   "execution_count": 42,
   "metadata": {},
   "outputs": [
    {
     "data": {
      "text/plain": [
       "{'ostentatious': 'l', 'house': 's', 'industrial': 'l', 'dog': 's', 'eat': 's'}"
      ]
     },
     "execution_count": 42,
     "metadata": {},
     "output_type": "execute_result"
    }
   ],
   "source": [
    "{w:'s' if len(w) < 6 else 'l' for w in lst_A if isinstance(w, str)}"
   ]
  },
  {
   "cell_type": "code",
   "execution_count": 43,
   "metadata": {},
   "outputs": [
    {
     "data": {
      "text/plain": [
       "{'ostentatious': 'l', 'house': 'm', 'industrial': 'l', 'dog': 's', 'eat': 's'}"
      ]
     },
     "execution_count": 43,
     "metadata": {},
     "output_type": "execute_result"
    }
   ],
   "source": [
    "#Now let's try the same thing as above, but this time,\n",
    "# if the word is between 4 and 6 letters, classify it as 'medium'\n",
    "lst_A = ['ostentatious','house','industrial',None,'dog',8,'eat']\n",
    "{w:'s' if len(w) < 4 else 'm' if len(w) <6 else 'l' \\\n",
    " for w in lst_A if isinstance(w, str)}"
   ]
  },
  {
   "cell_type": "markdown",
   "metadata": {},
   "source": [
    "#### Quick Practice: Try these comprehensions with conditionals!"
   ]
  },
  {
   "cell_type": "code",
   "execution_count": 44,
   "metadata": {},
   "outputs": [
    {
     "data": {
      "text/plain": [
       "{'cat': 3, 'elephant': 8, 'rabbit': 6}"
      ]
     },
     "execution_count": 44,
     "metadata": {},
     "output_type": "execute_result"
    }
   ],
   "source": [
    "#Write a dictionary comprehension to store the length of each of the words in the list below, \n",
    "#but only for the words that end in 't'!\n",
    "words = ['cat','dog','elephant','rabbit','lizard']\n",
    "\n",
    "{w:len(w) for w in words if w[-1] == 't'}\n"
   ]
  },
  {
   "cell_type": "code",
   "execution_count": 45,
   "metadata": {},
   "outputs": [],
   "source": [
    "#Write a list comprehension to multiply all the even numbers by 2 and all the odd numbers by 3\n",
    "#BUT only do this for the positive numbers!\n",
    "#(remember, you can use % to find the remainder after division for two numbers, \n",
    "#so 10%5 would be 0 because 5 fits into 10 evenly with no remainder)\n",
    "numbers = [4,5,3,10,-6,7]\n"
   ]
  },
  {
   "cell_type": "code",
   "execution_count": 46,
   "metadata": {},
   "outputs": [
    {
     "data": {
      "text/plain": [
       "[8, 15, 9, 20, 21]"
      ]
     },
     "execution_count": 46,
     "metadata": {},
     "output_type": "execute_result"
    }
   ],
   "source": [
    "[n*2 if n % 2 == 0 else n*3 for n in numbers if n > 0]"
   ]
  },
  {
   "cell_type": "markdown",
   "metadata": {},
   "source": [
    "<a id='zip_enumerate'></a>\n",
    "\n",
    "### Zip and Enumerate within Comprehensions\n",
    "\n",
    "---\n",
    "\n",
    "The functions `zip()` and `enumerate()` can be really helpful for list and dictionary comprehensions!\n",
    "\n",
    "`zip()` is great for pairing together items from two different lists.\n",
    "\n",
    "`enumerate()` is helpful when you want to use both the items and also the position of the item in the list"
   ]
  },
  {
   "cell_type": "code",
   "execution_count": 75,
   "metadata": {},
   "outputs": [],
   "source": [
    "#Let's write a for-loop to create a dictionary that stores the populations of the cities below:\n",
    "cities_A = ['Tokyo','Shanghai','Jakarta','Delhi','Seoul']\n",
    "populations_A = [37.8,34.9,31.7,26.5,25.5]\n",
    "\n",
    "d = dict()\n",
    "for c, p1  in zip(cities_A, populations_A):\n",
    "    d[c] = p1"
   ]
  },
  {
   "cell_type": "code",
   "execution_count": 76,
   "metadata": {},
   "outputs": [
    {
     "data": {
      "text/plain": [
       "{'Tokyo': 37.8,\n",
       " 'Shanghai': 34.9,\n",
       " 'Jakarta': 31.7,\n",
       " 'Delhi': 26.5,\n",
       " 'Seoul': 25.5}"
      ]
     },
     "execution_count": 76,
     "metadata": {},
     "output_type": "execute_result"
    }
   ],
   "source": [
    "d"
   ]
  },
  {
   "cell_type": "code",
   "execution_count": 48,
   "metadata": {},
   "outputs": [
    {
     "data": {
      "text/plain": [
       "{'Karachi': 25.1, 'Guangzhou': 25.0, 'Beijing': 24.9, 'Shenzhen': 23.3}"
      ]
     },
     "execution_count": 48,
     "metadata": {},
     "output_type": "execute_result"
    }
   ],
   "source": [
    "#Let's write a dictionary comprehension to store the population of the cities below to the nearest million, \n",
    "#but ONLY if they're more than 22 million\n",
    "cities_B = ['Karachi','Guangzhou','Beijing','Shenzhen','Mexico City']\n",
    "populations_B = [25.1,25.0,24.9,23.3,21.5]\n",
    "{c: p for c, p in zip(cities_B, populations_B) if p > 22 }"
   ]
  },
  {
   "cell_type": "code",
   "execution_count": 49,
   "metadata": {},
   "outputs": [
    {
     "data": {
      "text/plain": [
       "[('Karachi', 25.1),\n",
       " ('Guangzhou', 25.0),\n",
       " ('Beijing', 24.9),\n",
       " ('Shenzhen', 23.3),\n",
       " ('Mexico City', 21.5)]"
      ]
     },
     "execution_count": 49,
     "metadata": {},
     "output_type": "execute_result"
    }
   ],
   "source": [
    "list(zip(cities_B, populations_B))"
   ]
  },
  {
   "cell_type": "code",
   "execution_count": 50,
   "metadata": {},
   "outputs": [
    {
     "data": {
      "text/plain": [
       "['the city number 1 is Tokyo',\n",
       " 'the city number 2 is Shanghai',\n",
       " 'the city number 3 is Jakarta',\n",
       " 'the city number 4 is Delhi',\n",
       " 'the city number 5 is Seoul',\n",
       " 'the city number 6 is Karachi',\n",
       " 'the city number 7 is Guangzhou',\n",
       " 'the city number 8 is Beijing',\n",
       " 'the city number 9 is Shenzhen',\n",
       " 'the city number 10 is Mexico City']"
      ]
     },
     "execution_count": 50,
     "metadata": {},
     "output_type": "execute_result"
    }
   ],
   "source": [
    "#Let's combine the two lists of cities together and then write a list comprehension to get a list of strings \n",
    "#that looks like ['1 Tokyo','2 Shanghai',...]\n",
    "\n",
    "# [str(i+1) + \" \" + c for i, c in enumerate(cities_A + cities_B)]\n",
    "\n",
    "[f\"the city number {i+1} is {c}\" for i, c in enumerate(cities_A + cities_B)]\n"
   ]
  },
  {
   "cell_type": "code",
   "execution_count": 79,
   "metadata": {},
   "outputs": [
    {
     "name": "stdout",
     "output_type": "stream",
     "text": [
      "(0, 'Tokyo')\n",
      "(1, 'Shanghai')\n",
      "(2, 'Jakarta')\n",
      "(3, 'Delhi')\n",
      "(4, 'Seoul')\n",
      "(5, 'Karachi')\n",
      "(6, 'Guangzhou')\n",
      "(7, 'Beijing')\n",
      "(8, 'Shenzhen')\n",
      "(9, 'Mexico City')\n"
     ]
    }
   ],
   "source": [
    "for i in enumerate(cities_A + cities_B):\n",
    "    print(i)\n",
    "    \n"
   ]
  },
  {
   "cell_type": "code",
   "execution_count": null,
   "metadata": {},
   "outputs": [],
   "source": [
    "[f'{i+1}  {c}' for i, c in enumerate(cities_A + cities_B)]"
   ]
  },
  {
   "cell_type": "code",
   "execution_count": 78,
   "metadata": {},
   "outputs": [
    {
     "data": {
      "text/plain": [
       "{'Tokyo': (1, 37.8),\n",
       " 'Shanghai': (2, 34.9),\n",
       " 'Jakarta': (3, 31.7),\n",
       " 'Delhi': (4, 26.5),\n",
       " 'Seoul': (5, 25.5)}"
      ]
     },
     "execution_count": 78,
     "metadata": {},
     "output_type": "execute_result"
    }
   ],
   "source": [
    "#Let's create a dictionary that holds each city as the key, \n",
    "#and a tuple containing the ranking of the city and its population as the value\n",
    "#but ONLY for the top 8 cities\n",
    "#each entry should look like:  'Delhi': (4, 26.5)\n",
    "\n",
    "\n"
   ]
  },
  {
   "cell_type": "code",
   "execution_count": 82,
   "metadata": {},
   "outputs": [],
   "source": [
    "# first combine all the cities and all the populations\n",
    "\n",
    "all_cities = cities_A + cities_B\n",
    "all_pop = populations_A+populations_B"
   ]
  },
  {
   "cell_type": "code",
   "execution_count": 85,
   "metadata": {},
   "outputs": [
    {
     "data": {
      "text/plain": [
       "{1: 'Tokyo',\n",
       " 2: 'Shanghai',\n",
       " 3: 'Jakarta',\n",
       " 4: 'Delhi',\n",
       " 5: 'Seoul',\n",
       " 6: 'Karachi',\n",
       " 7: 'Guangzhou',\n",
       " 8: 'Beijing',\n",
       " 9: 'Shenzhen',\n",
       " 10: 'Mexico City'}"
      ]
     },
     "execution_count": 85,
     "metadata": {},
     "output_type": "execute_result"
    }
   ],
   "source": [
    "# enumerate starting from 1 where i is the sequence number and c is the city\n",
    "{i:c for i, c in enumerate(all_cities,1)}"
   ]
  },
  {
   "cell_type": "code",
   "execution_count": 88,
   "metadata": {},
   "outputs": [
    {
     "data": {
      "text/plain": [
       "{'Tokyo': (1, 37.8),\n",
       " 'Shanghai': (2, 34.9),\n",
       " 'Jakarta': (3, 31.7),\n",
       " 'Delhi': (4, 26.5),\n",
       " 'Seoul': (5, 25.5),\n",
       " 'Karachi': (6, 25.1),\n",
       " 'Guangzhou': (7, 25.0),\n",
       " 'Beijing': (8, 24.9)}"
      ]
     },
     "execution_count": 88,
     "metadata": {},
     "output_type": "execute_result"
    }
   ],
   "source": [
    "# since we want the city name first , then the number and population\n",
    "{c:(i,p) for (i,c),p in zip(enumerate(all_cities, 1),all_pop) if i <= 8}"
   ]
  },
  {
   "cell_type": "code",
   "execution_count": 87,
   "metadata": {},
   "outputs": [
    {
     "data": {
      "text/plain": [
       "{'Tokyo': (1, 37.8),\n",
       " 'Shanghai': (2, 34.9),\n",
       " 'Jakarta': (3, 31.7),\n",
       " 'Delhi': (4, 26.5),\n",
       " 'Seoul': (5, 25.5),\n",
       " 'Karachi': (6, 25.1),\n",
       " 'Guangzhou': (7, 25.0),\n",
       " 'Beijing': (8, 24.9)}"
      ]
     },
     "execution_count": 87,
     "metadata": {},
     "output_type": "execute_result"
    }
   ],
   "source": [
    "{t[0]: (i, t[1]) for i, t in enumerate(zip(all_cities, all_pop), 1)\n",
    " if i <=8}"
   ]
  },
  {
   "cell_type": "markdown",
   "metadata": {},
   "source": [
    "#### Quick Practice: Try these comprehensions with zip and enumerate!"
   ]
  },
  {
   "cell_type": "code",
   "execution_count": 52,
   "metadata": {},
   "outputs": [
    {
     "data": {
      "text/plain": [
       "{'Faye': 41, 'Ollie': 25, 'Roberto': 42}"
      ]
     },
     "execution_count": 52,
     "metadata": {},
     "output_type": "execute_result"
    }
   ],
   "source": [
    "#create a dictionary that stores each person's name with the total number of hours they worked last week\n",
    "#each entry should look like:   'Ollie': 25 \n",
    "employees = ['Faye','Ollie','Roberto']\n",
    "hours = [(5,8,10,10,8),(4,0,6,10,5),(8,8,7,9,10)]\n",
    "\n",
    "{e:sum(h) for e, h in zip(employees, hours)}"
   ]
  },
  {
   "cell_type": "code",
   "execution_count": 54,
   "metadata": {},
   "outputs": [
    {
     "data": {
      "text/plain": [
       "[('Matt', 1),\n",
       " ('Keri', 2),\n",
       " ('Raushaun', 3),\n",
       " ('Renata', 18),\n",
       " ('Kush', 19),\n",
       " ('Precious', 20)]"
      ]
     },
     "execution_count": 54,
     "metadata": {},
     "output_type": "execute_result"
    }
   ],
   "source": [
    "#the following is a list of 20 students in order of how well they did on an exam\n",
    "#the top three students and the bottom three students will change sets\n",
    "#create a list of only the top three students and the bottom three students, with their ranking\n",
    "#each entry should look like:   ('Matt', 1)\n",
    "students = ['Matt','Keri','Raushaun','CJ','Sean',\n",
    "            'Abdullah','Chris','Mabel','Anna','Liza',\n",
    "            'Sam','Alfie','Emma','Michael','Boris',\n",
    "            'Fred','Demi','Renata','Kush','Precious']\n",
    "\n",
    "[(s, i) for i, s in enumerate(students, 1) \n",
    " if i <=3 or i >= len(students)-2 ]"
   ]
  },
  {
   "cell_type": "markdown",
   "metadata": {},
   "source": [
    "<a id='with_pandas'></a>\n",
    "\n",
    "### Application of Comprehensions with Pandas\n",
    "\n",
    "---\n",
    "\n",
    "It's very easy to create a dataframe using a dictionary, so dictionary comprehensions in particular may come in handy!\n",
    "\n",
    "Here's an example below:"
   ]
  },
  {
   "cell_type": "code",
   "execution_count": 13,
   "metadata": {},
   "outputs": [],
   "source": [
    "import pandas as pd\n",
    "\n",
    "column_names = ['height','weight','age']\n",
    "values = [[62, 54, 60, 50], [180, 120, 200, 100], [33, 40, 25, 28]]"
   ]
  },
  {
   "cell_type": "code",
   "execution_count": 14,
   "metadata": {},
   "outputs": [
    {
     "data": {
      "text/plain": [
       "{'height': [62, 54, 60, 50],\n",
       " 'weight': [180, 120, 200, 100],\n",
       " 'age': [33, 40, 25, 28]}"
      ]
     },
     "execution_count": 14,
     "metadata": {},
     "output_type": "execute_result"
    }
   ],
   "source": [
    "{col:vals for col, vals in zip(column_names, values)}"
   ]
  },
  {
   "cell_type": "code",
   "execution_count": 15,
   "metadata": {},
   "outputs": [
    {
     "data": {
      "text/html": [
       "<div>\n",
       "<style scoped>\n",
       "    .dataframe tbody tr th:only-of-type {\n",
       "        vertical-align: middle;\n",
       "    }\n",
       "\n",
       "    .dataframe tbody tr th {\n",
       "        vertical-align: top;\n",
       "    }\n",
       "\n",
       "    .dataframe thead th {\n",
       "        text-align: right;\n",
       "    }\n",
       "</style>\n",
       "<table border=\"1\" class=\"dataframe\">\n",
       "  <thead>\n",
       "    <tr style=\"text-align: right;\">\n",
       "      <th></th>\n",
       "      <th>height</th>\n",
       "      <th>weight</th>\n",
       "      <th>age</th>\n",
       "    </tr>\n",
       "  </thead>\n",
       "  <tbody>\n",
       "    <tr>\n",
       "      <th>0</th>\n",
       "      <td>62</td>\n",
       "      <td>180</td>\n",
       "      <td>33</td>\n",
       "    </tr>\n",
       "    <tr>\n",
       "      <th>1</th>\n",
       "      <td>54</td>\n",
       "      <td>120</td>\n",
       "      <td>40</td>\n",
       "    </tr>\n",
       "    <tr>\n",
       "      <th>2</th>\n",
       "      <td>60</td>\n",
       "      <td>200</td>\n",
       "      <td>25</td>\n",
       "    </tr>\n",
       "    <tr>\n",
       "      <th>3</th>\n",
       "      <td>50</td>\n",
       "      <td>100</td>\n",
       "      <td>28</td>\n",
       "    </tr>\n",
       "  </tbody>\n",
       "</table>\n",
       "</div>"
      ],
      "text/plain": [
       "   height  weight  age\n",
       "0      62     180   33\n",
       "1      54     120   40\n",
       "2      60     200   25\n",
       "3      50     100   28"
      ]
     },
     "execution_count": 15,
     "metadata": {},
     "output_type": "execute_result"
    }
   ],
   "source": [
    "records = pd.DataFrame({col:vals for col, vals in zip(column_names, values)})\n",
    "records"
   ]
  },
  {
   "cell_type": "code",
   "execution_count": null,
   "metadata": {},
   "outputs": [],
   "source": []
  }
 ],
 "metadata": {
  "kernelspec": {
   "display_name": "Python 3 (ipykernel)",
   "language": "python",
   "name": "python3"
  },
  "language_info": {
   "codemirror_mode": {
    "name": "ipython",
    "version": 3
   },
   "file_extension": ".py",
   "mimetype": "text/x-python",
   "name": "python",
   "nbconvert_exporter": "python",
   "pygments_lexer": "ipython3",
   "version": "3.9.7"
  },
  "toc": {
   "nav_menu": {},
   "number_sections": false,
   "sideBar": true,
   "skip_h1_title": false,
   "title_cell": "Table of Contents",
   "title_sidebar": "Contents",
   "toc_cell": false,
   "toc_position": {},
   "toc_section_display": "block",
   "toc_window_display": false
  },
  "varInspector": {
   "cols": {
    "lenName": 16,
    "lenType": 16,
    "lenVar": 40
   },
   "kernels_config": {
    "python": {
     "delete_cmd_postfix": "",
     "delete_cmd_prefix": "del ",
     "library": "var_list.py",
     "varRefreshCmd": "print(var_dic_list())"
    },
    "r": {
     "delete_cmd_postfix": ") ",
     "delete_cmd_prefix": "rm(",
     "library": "var_list.r",
     "varRefreshCmd": "cat(var_dic_list()) "
    }
   },
   "types_to_exclude": [
    "module",
    "function",
    "builtin_function_or_method",
    "instance",
    "_Feature"
   ],
   "window_display": false
  }
 },
 "nbformat": 4,
 "nbformat_minor": 2
}
